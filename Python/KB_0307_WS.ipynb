{
  "cells": [
    {
      "cell_type": "markdown",
      "metadata": {
        "id": "view-in-github",
        "colab_type": "text"
      },
      "source": [
        "<a href=\"https://colab.research.google.com/github/ovozzx/Study/blob/main/KB_0307_WS.ipynb\" target=\"_parent\"><img src=\"https://colab.research.google.com/assets/colab-badge.svg\" alt=\"Open In Colab\"/></a>"
      ]
    },
    {
      "cell_type": "markdown",
      "metadata": {
        "id": "IwHzYQysR2MG"
      },
      "source": [
        "### Q1\n",
        "- Car 클래스를 아래 메소드에 맞춰 정의하세요.\n",
        "- \\_\\_init\\_\\_ 메소드\n",
        "    - 매개변수 : self, year, driving_distance\n",
        "    - 각 매개변수는 속성으로 저장\n",
        "- info 메소드\n",
        "    - 매개변수 : self\n",
        "    - 속성에 대한 정보를 한 줄씩 출력\n",
        "- drive 메소드\n",
        "    - 매개변수 : self, distance\n",
        "    - driving_distance 속성에 distance를 누적하여 더함\n",
        "    - \"(distance) km를 주행하였습니다.\" 출력"
      ]
    },
    {
      "cell_type": "code",
      "execution_count": null,
      "metadata": {
        "ExecuteTime": {
          "end_time": "2022-02-17T05:49:23.957670Z",
          "start_time": "2022-02-17T05:49:23.933909Z"
        },
        "id": "qHDRRsr_R2MJ"
      },
      "outputs": [],
      "source": [
        "class Car :\n",
        "    def __init__(self, year, driving_distance) :\n",
        "        self.year = year\n",
        "        self.driving_distance = driving_distance\n",
        "\n",
        "\n",
        "# 아래에 info()와 drive()를 작성해보세요.\n",
        "\n",
        "    def info(self) :\n",
        "        print(\"*차 정보*\")\n",
        "        print(f\"- 연식 : {self.year} 년식\") \n",
        "        print(f\"- 주행거리 : {self.driving_distance} km\") \n",
        "         \n",
        "\n",
        "    def drive(self, distance) :\n",
        "        self.distance = distance\n",
        "        self.driving_distance += self.distance\n",
        "        print(f\"{self.distance} km를 주행하셨습니다\") \n",
        "\n",
        "\n",
        "\n"
      ]
    },
    {
      "cell_type": "code",
      "execution_count": null,
      "metadata": {
        "ExecuteTime": {
          "end_time": "2022-02-17T05:52:31.540194Z",
          "start_time": "2022-02-17T05:52:31.534226Z"
        },
        "colab": {
          "base_uri": "https://localhost:8080/"
        },
        "id": "avyGR7STR2MK",
        "outputId": "a2fa38e7-44f9-4d71-a1be-22a67c145114"
      },
      "outputs": [
        {
          "output_type": "stream",
          "name": "stdout",
          "text": [
            "*차 정보*\n",
            "- 연식 : 1999 년식\n",
            "- 주행거리 : 30000 km\n"
          ]
        }
      ],
      "source": [
        "# Car 클래스의 인스턴스를 생성하여 myCar 에 저장하세요.\n",
        "# year = 1999, driving_distance = 30000\n",
        "\n",
        "myCar = Car(1999, 30000)\n",
        "\n",
        "# myCar의 정보를 출력하세요.\n",
        "\n",
        "myCar.info()"
      ]
    },
    {
      "cell_type": "markdown",
      "source": [
        "→ 출력 :\n",
        "\n",
        "* 차 정보 *\n",
        "- 연식 : 1999년식\n",
        "- 주행 거리 : 30000 km"
      ],
      "metadata": {
        "id": "9sBb5L4C1QaM"
      }
    },
    {
      "cell_type": "code",
      "execution_count": null,
      "metadata": {
        "ExecuteTime": {
          "end_time": "2022-02-17T05:53:19.192917Z",
          "start_time": "2022-02-17T05:53:19.177166Z"
        },
        "colab": {
          "base_uri": "https://localhost:8080/"
        },
        "id": "B_-IUwgwR2ML",
        "outputId": "b97672e5-c553-4895-feda-583f7e98e66c"
      },
      "outputs": [
        {
          "output_type": "stream",
          "name": "stdout",
          "text": [
            "100 km를 주행하셨습니다\n",
            "*차 정보*\n",
            "- 연식 : 1999 년식\n",
            "- 주행거리 : 30100 km\n"
          ]
        }
      ],
      "source": [
        "# 100 km 주행 후 정보를 출력하세요.\n",
        "\n",
        "myCar.drive(100) #주행\n",
        "myCar.info()\n"
      ]
    },
    {
      "cell_type": "markdown",
      "source": [
        "→ 출력 :\n",
        "\n",
        "100 km를 주행하였습니다.\n",
        "* 차 정보 *\n",
        "- 연식 : 1999년식\n",
        "- 주행 거리 : 30100 km"
      ],
      "metadata": {
        "id": "tPRJGoIM1qQU"
      }
    },
    {
      "cell_type": "code",
      "execution_count": null,
      "metadata": {
        "ExecuteTime": {
          "end_time": "2022-02-17T05:53:30.762171Z",
          "start_time": "2022-02-17T05:53:30.746141Z"
        },
        "colab": {
          "base_uri": "https://localhost:8080/"
        },
        "id": "nlrBK6UAR2MM",
        "outputId": "6ffa5910-c7db-4533-fc27-417a6109bc8a"
      },
      "outputs": [
        {
          "output_type": "stream",
          "name": "stdout",
          "text": [
            "500 km를 주행하셨습니다\n",
            "*차 정보*\n",
            "- 연식 : 1999 년식\n",
            "- 주행거리 : 30600 km\n"
          ]
        }
      ],
      "source": [
        "# 500 km 주행 후 정보를 출력하세요.\n",
        "\n",
        "myCar.drive(500)\n",
        "myCar.info()\n",
        "\n",
        "\n"
      ]
    },
    {
      "cell_type": "markdown",
      "source": [
        "→ 출력 :\n",
        "\n",
        "500 km를 주행하였습니다.\n",
        "* 차 정보 *\n",
        "- 연식 : 1999년식\n",
        "- 주행 거리 : 30600 km"
      ],
      "metadata": {
        "id": "ebCidR2q2CGO"
      }
    },
    {
      "cell_type": "markdown",
      "metadata": {
        "id": "ubS2S1s-R2MN"
      },
      "source": [
        "### Q2\n",
        "- Car 클래스를 상속받아 Electric_car 클래스를 아래 메소드에 맞춰 정의하세요.\n",
        "- \\_\\_init\\_\\_ 메소드\n",
        "    - 매개변수 : self, year, driving_distance, battery_volumne, fuel_efficiency\n",
        "    - year, driving_distance 는 부모 클래스를 오버라이딩\n",
        "    - battery_volumne, fuel_efficiency 는 각각 속성으로 저장\n",
        "- info 메소드\n",
        "    - 매개변수 : self\n",
        "    - 부모 클래스를 오버라이딩\n",
        "    - 추가 속성에 대한 정보를 출력"
      ]
    },
    {
      "cell_type": "code",
      "execution_count": null,
      "metadata": {
        "ExecuteTime": {
          "end_time": "2022-02-17T05:58:43.052621Z",
          "start_time": "2022-02-17T05:58:43.028388Z"
        },
        "id": "GdhtM6e2R2MO"
      },
      "outputs": [],
      "source": [
        "class Electric_car(Car) :\n",
        " \n",
        "\n",
        "\n",
        "    def __init__(self, year, driving_distance, battery_volumne, fuel_efficiency) :\n",
        "        print(\"전기차를 구입했습니다.\") \n",
        "        super().__init__(year, driving_distance)\n",
        "        self.battery_volumne = battery_volumne\n",
        "        self.fuel_efficiency =  fuel_efficiency\n",
        "\n",
        "\n",
        "    def info(self) :\n",
        "        super().info()\n",
        "        print(f\"- 배터리 용량 : {self.battery_volumne} kWh\") \n",
        "        print(f\"- 연비 : {self.fuel_efficiency} km / kWh \") \n",
        "                  \n",
        "\n"
      ]
    },
    {
      "cell_type": "code",
      "execution_count": null,
      "metadata": {
        "ExecuteTime": {
          "end_time": "2022-02-17T05:59:45.493979Z",
          "start_time": "2022-02-17T05:59:45.485964Z"
        },
        "colab": {
          "base_uri": "https://localhost:8080/"
        },
        "id": "CRCpuDxHR2MO",
        "outputId": "72e1dda5-5349-452d-b801-c35e6ceeabe6"
      },
      "outputs": [
        {
          "output_type": "stream",
          "name": "stdout",
          "text": [
            "전기차를 구입했습니다.\n",
            "*차 정보*\n",
            "- 연식 : 2022 년식\n",
            "- 주행거리 : 0 km\n",
            "- 배터리 용량 : 30 kWh\n",
            "- 연비 : 3.6 km / kWh \n"
          ]
        }
      ],
      "source": [
        "# Electric_car 클래스의 인스턴스를 생성하여 myCar 에 저장하세요.\n",
        "# year = 2022, driving_distance = 0, battery_volumne = 30, fuel_efficiency = 3.6\n",
        "\n",
        "myCar = Electric_car(2022,0,30,3.6)\n",
        "myCar.info()\n",
        "# myCar의 정보를 출력하세요.\n"
      ]
    },
    {
      "cell_type": "markdown",
      "source": [
        "→ 출력 :\n",
        "\n",
        "전기차를 구입했습니다.\n",
        "* 차 정보 *\n",
        "- 연식 : 2022년식\n",
        "- 주행 거리 : 0 km\n",
        "- 배터리 용량 : 30 kWh\n",
        "- 연비 : 3.6 km / kWh\n",
        "\n"
      ],
      "metadata": {
        "id": "vLQaQ92e3D1x"
      }
    },
    {
      "cell_type": "markdown",
      "metadata": {
        "id": "MnjzsIOiR2MP"
      },
      "source": [
        "<br/>\n",
        "<br/>\n",
        "<br/>\n",
        "<br/>"
      ]
    },
    {
      "cell_type": "markdown",
      "metadata": {
        "id": "q_1d_IlnR2MP"
      },
      "source": [
        "### Q3\n",
        "- Electric_car 클래스를 상속받아 Self_driving 클래스를 아래 메소드에 맞춰 정의하세요.\n",
        "- \\_\\_init\\_\\_ 메소드\n",
        "    - 매개변수 : self, year, driving_distance, battery_volumne, fuel_efficiency\n",
        "    - 모든 매개변수는 부모 클래스를 오버라이딩\n",
        "    - auto_mode 속성은 False로 설정\n",
        "    - \"자율주행 차를 구입했습니다.\" 문구 출력\n",
        "- info 메소드\n",
        "    - 매개변수 : self\n",
        "    - 부모 클래스를 오버라이딩\n",
        "    - \"자율주행 가능\" 문구를 출력\n",
        "- turn_auto 메소드\n",
        "    - 매개변수 : self\n",
        "    - auto_mode 속성이 True라면 False로 수정하고, \"자율주행 모드를 종료합니다.\" 문구 출력\n",
        "    - auto_mode 속성이 False라면 True로 수정하고, \"자율주행 모드로 전환합니다.\" 문구 출력"
      ]
    },
    {
      "cell_type": "code",
      "execution_count": null,
      "metadata": {
        "ExecuteTime": {
          "end_time": "2022-02-17T06:05:27.884670Z",
          "start_time": "2022-02-17T06:05:27.868220Z"
        },
        "id": "UqBeVkf1R2MQ"
      },
      "outputs": [],
      "source": [
        "class Self_driving (Electric_car) :\n",
        "    \n",
        "\n",
        "    def __init__(self, year, driving_distance, battery_volumne, fuel_efficiency) :\n",
        "        super().__init__(year, driving_distance, battery_volumne, fuel_efficiency)\n",
        "        self.auto_mode = False\n",
        "        print(\"자율주행 차를 구입했습니다.\")\n",
        "     \n",
        "\n",
        "    def info(self) :\n",
        "        super().info()\n",
        "        print(\"자율주행 가능\") \n",
        "\n",
        "    def turn_auto(self) :\n",
        "\n",
        "        if self.auto_mode == True :\n",
        "          self.auto_mode = False \n",
        "          print(\"자율주행 모드를 종료합니다.\")\n",
        "\n",
        "        else : ##else!!!\n",
        "          self.auto_mode = True \n",
        "          print(\"자율주행 모드로 전환합니다.\")\n",
        "                  \n",
        "\n",
        "\n"
      ]
    },
    {
      "cell_type": "code",
      "execution_count": null,
      "metadata": {
        "ExecuteTime": {
          "end_time": "2022-02-17T06:05:28.130306Z",
          "start_time": "2022-02-17T06:05:28.106269Z"
        },
        "colab": {
          "base_uri": "https://localhost:8080/"
        },
        "id": "LpjeNjzbR2MQ",
        "outputId": "70aec65e-e631-4839-e02b-a7ced827c00b"
      },
      "outputs": [
        {
          "output_type": "stream",
          "name": "stdout",
          "text": [
            "전기차를 구입했습니다.\n",
            "자율주행 차를 구입했습니다.\n",
            "*차 정보*\n",
            "- 연식 : 2022 년식\n",
            "- 주행거리 : 0 km\n",
            "- 배터리 용량 : 30 kWh\n",
            "- 연비 : 3.6 km / kWh \n",
            "자율주행 가능\n"
          ]
        }
      ],
      "source": [
        "# Self_driving 클래스의 인스턴스를 생성하여 myCar 에 저장하세요.\n",
        "# year = 2022, driving_distance = 0, battery_volumne = 30, fuel_efficiency = 3.6\n",
        "\n",
        "\n",
        "myCar = Self_driving(2022, 0, 30, 3.6)\n",
        "myCar.info()\n",
        "\n",
        "# myCar의 정보를 출력하세요.\n"
      ]
    },
    {
      "cell_type": "markdown",
      "source": [
        "→ 출력 :\n",
        "\n",
        "전기차를 구입했습니다.\n",
        "\n",
        "자율주행 차를 구입했습니다.\n",
        "* 차 정보 *\n",
        "- 연식 : 2022년식\n",
        "- 주행 거리 : 0 km\n",
        "- 배터리 용량 : 30 kWh\n",
        "- 연비 : 3.6 km / kWh\n",
        "- 자율주행 가능"
      ],
      "metadata": {
        "id": "67Lgguf-5c7f"
      }
    },
    {
      "cell_type": "code",
      "execution_count": null,
      "metadata": {
        "ExecuteTime": {
          "end_time": "2022-02-17T06:05:28.309039Z",
          "start_time": "2022-02-17T06:05:28.292752Z"
        },
        "colab": {
          "base_uri": "https://localhost:8080/"
        },
        "id": "tJbn-fiuR2MQ",
        "outputId": "0ea862aa-38fa-4fd0-8fc1-bf63503bf10a"
      },
      "outputs": [
        {
          "output_type": "stream",
          "name": "stdout",
          "text": [
            "50 km를 주행하셨습니다\n",
            "*차 정보*\n",
            "- 연식 : 2022 년식\n",
            "- 주행거리 : 50 km\n",
            "- 배터리 용량 : 30 kWh\n",
            "- 연비 : 3.6 km / kWh \n",
            "자율주행 가능\n"
          ]
        }
      ],
      "source": [
        "# 50 km 주행 후 정보를 출력하세요.\n",
        "\n",
        "myCar.drive(50)\n",
        "myCar.info()\n",
        "\n"
      ]
    },
    {
      "cell_type": "markdown",
      "source": [
        "→ 출력 :\n",
        "\n",
        "50 km를 주행하였습니다.\n",
        "* 차 정보 *\n",
        "- 연식 : 2022년식\n",
        "- 주행 거리 : 50 km\n",
        "- 배터리 용량 : 30 kWh\n",
        "- 연비 : 3.6 km / kWh\n",
        "- 자율주행 가능"
      ],
      "metadata": {
        "id": "lU9tk6m_5gSc"
      }
    },
    {
      "cell_type": "code",
      "execution_count": null,
      "metadata": {
        "ExecuteTime": {
          "end_time": "2022-02-17T06:05:28.618607Z",
          "start_time": "2022-02-17T06:05:28.610952Z"
        },
        "colab": {
          "base_uri": "https://localhost:8080/"
        },
        "id": "h1yrUTZmR2MR",
        "outputId": "ba27d66b-d215-4458-aec7-b3f1975a6143"
      },
      "outputs": [
        {
          "output_type": "stream",
          "name": "stdout",
          "text": [
            "자율주행 모드로 전환합니다.\n"
          ]
        }
      ],
      "source": [
        "# 자율주행 모드로 전환하세요.\n",
        "\n",
        "\n",
        "myCar.turn_auto()\n"
      ]
    },
    {
      "cell_type": "markdown",
      "source": [
        "→ 출력 : \n",
        "\n",
        "자율주행 모드로 전환합니다."
      ],
      "metadata": {
        "id": "0Luz_1Is5mDJ"
      }
    },
    {
      "cell_type": "code",
      "execution_count": null,
      "metadata": {
        "ExecuteTime": {
          "end_time": "2022-02-17T06:05:29.218820Z",
          "start_time": "2022-02-17T06:05:29.210822Z"
        },
        "colab": {
          "base_uri": "https://localhost:8080/"
        },
        "id": "iiK-enOmR2MR",
        "outputId": "97eafbde-b02e-4235-f5a2-56e61a9d3254"
      },
      "outputs": [
        {
          "output_type": "stream",
          "name": "stdout",
          "text": [
            "자율주행 모드를 종료합니다.\n"
          ]
        }
      ],
      "source": [
        "# 자율주행 모드를 종료하세요.\n",
        "\n",
        "myCar.turn_auto()"
      ]
    },
    {
      "cell_type": "markdown",
      "source": [
        "→ 출력 :\n",
        "\n",
        "자율주행 모드를 종료합니다."
      ],
      "metadata": {
        "id": "n20haFKa5mra"
      }
    },
    {
      "cell_type": "markdown",
      "metadata": {
        "id": "uBeyehLfR2MS"
      },
      "source": [
        "<br/>\n",
        "<br/>\n",
        "<br/>\n",
        "<br/>"
      ]
    },
    {
      "cell_type": "markdown",
      "metadata": {
        "id": "QCQt1QwbR2MS"
      },
      "source": [
        "### Q4\n",
        "- Q1의 Car 클래스에서 정보 출력을 info 메소드 대신 \\_\\_str\\_\\_ 메소드를 사용하여 정의하세요."
      ]
    },
    {
      "cell_type": "code",
      "execution_count": null,
      "metadata": {
        "ExecuteTime": {
          "end_time": "2022-02-17T06:15:09.830337Z",
          "start_time": "2022-02-17T06:15:09.806850Z"
        },
        "id": "I7toXRjFR2MS"
      },
      "outputs": [],
      "source": [
        "\n",
        "\n",
        "\n",
        "class Car :\n",
        "    def __init__(self, year, driving_distance) :\n",
        "        self.year = year\n",
        "        self.driving_distance = driving_distance\n",
        "\n",
        "\n",
        "\n",
        "    def __str__(self) :\n",
        "        return f\"*차 정보* \\n - 연식 : {self.year} 년식 \\n - 주행거리 : {self.driving_distance} km\"\n",
        "         \n",
        "\n",
        "    def drive(self, distance) :\n",
        "        self.distance = distance\n",
        "        self.driving_distance += self.distance\n",
        "        print(f\"{self.distance} km를 주행하셨습니다\") \n",
        "\n",
        "\n",
        "\n",
        "\n"
      ]
    },
    {
      "cell_type": "code",
      "execution_count": null,
      "metadata": {
        "ExecuteTime": {
          "end_time": "2022-02-17T06:16:19.583179Z",
          "start_time": "2022-02-17T06:16:19.567326Z"
        },
        "colab": {
          "base_uri": "https://localhost:8080/"
        },
        "id": "DF8hocvgR2MS",
        "outputId": "0c2de05a-5205-4086-e8b5-302db2eca444"
      },
      "outputs": [
        {
          "output_type": "stream",
          "name": "stdout",
          "text": [
            "*차 정보* \n",
            " - 연식 : 2010 년식 \n",
            " - 주행거리 : 15000 km\n"
          ]
        }
      ],
      "source": [
        "# Car 클래스의 인스턴스를 생성하여 myCar 에 저장하세요.\n",
        "# year = 2010, driving_distance = 15000\n",
        "\n",
        "myCar = Car(2010, 15000)\n",
        "# myCar의 정보를 출력하세요.\n",
        "print(myCar)\n"
      ]
    },
    {
      "cell_type": "markdown",
      "source": [
        "→ 출력\n",
        "* 차 정보 *\n",
        "- 연식 : 2010년식\n",
        "- 주행 거리 : 15000 km\n"
      ],
      "metadata": {
        "id": "VfBsPANX5M7r"
      }
    },
    {
      "cell_type": "markdown",
      "metadata": {
        "id": "Mml4jTkuR2MT"
      },
      "source": [
        "<br/>\n",
        "<br/>\n",
        "<br/>\n",
        "<br/>"
      ]
    },
    {
      "cell_type": "markdown",
      "metadata": {
        "id": "aZwPfR04R2MT"
      },
      "source": [
        "### Q5\n",
        "- Q2의 Electric_car 클래스에서 정보 출력을 info 메소드 대신 \\_\\_str\\_\\_ 메소드를 사용하여 정의하세요.\n",
        "    - year, driving_distance 속성은 부모의 \\_\\_str\\_\\_ 메소드를 오버라이딩"
      ]
    },
    {
      "cell_type": "code",
      "execution_count": null,
      "metadata": {
        "ExecuteTime": {
          "end_time": "2022-02-17T06:22:20.729009Z",
          "start_time": "2022-02-17T06:22:20.713481Z"
        },
        "id": "LlSM-s4qR2MT"
      },
      "outputs": [],
      "source": [
        "class Electric_car(Car) :\n",
        " \n",
        "\n",
        "\n",
        "    def __init__(self, year, driving_distance, battery_volumne, fuel_efficiency) :\n",
        "        print(\"전기차를 구입했습니다.\") \n",
        "        super().__init__(year, driving_distance)\n",
        "        self.battery_volumne = battery_volumne\n",
        "        self.fuel_efficiency =  fuel_efficiency\n",
        "\n",
        "\n",
        "    def __str__(self) :\n",
        "        return super().__str__() + f\" \\n - 배터리 용량 : {self.battery_volumne} kWh \\n - 연비 : {self.fuel_efficiency} km / kWh \"\n",
        "\n",
        "\n",
        "\n",
        "\n",
        "\n",
        "\n",
        "\n",
        "\n"
      ]
    },
    {
      "cell_type": "code",
      "execution_count": null,
      "metadata": {
        "ExecuteTime": {
          "end_time": "2022-02-17T06:22:20.874905Z",
          "start_time": "2022-02-17T06:22:20.858881Z"
        },
        "colab": {
          "base_uri": "https://localhost:8080/"
        },
        "id": "MLKs-XDYR2MT",
        "outputId": "87e71792-5663-4e17-82da-479a5fcef72e"
      },
      "outputs": [
        {
          "output_type": "stream",
          "name": "stdout",
          "text": [
            "전기차를 구입했습니다.\n",
            "*차 정보* \n",
            " - 연식 : 2022 년식 \n",
            " - 주행거리 : 0 km \n",
            " - 배터리 용량 : 30 kWh \n",
            " - 연비 : 3.6 km / kWh \n"
          ]
        }
      ],
      "source": [
        "# Electric_car 클래스의 인스턴스를 생성하여 myCar 에 저장하세요.\n",
        "# year = 2022, driving_distance = 0, battery_volumne = 30, fuel_efficiency = 3.6\n",
        "\n",
        "myCar = Electric_car(2022, 0, 30, 3.6)\n",
        "# myCar의 정보를 출력하세요.\n",
        "print(myCar)\n"
      ]
    },
    {
      "cell_type": "markdown",
      "source": [
        "→ 출력 :\n",
        "\n",
        "전기차를 구입했습니다.\n",
        "* 차 정보 *\n",
        "- 연식 : 2022년식\n",
        "- 주행 거리 : 0 km\n",
        "- 배터리 용량 : 30 kWh\n",
        "- 연비 : 3.6 km / kWh"
      ],
      "metadata": {
        "id": "nCzpYt-J6ZGV"
      }
    }
  ],
  "metadata": {
    "kernelspec": {
      "display_name": "Python 3 (ipykernel)",
      "language": "python",
      "name": "python3"
    },
    "language_info": {
      "codemirror_mode": {
        "name": "ipython",
        "version": 3
      },
      "file_extension": ".py",
      "mimetype": "text/x-python",
      "name": "python",
      "nbconvert_exporter": "python",
      "pygments_lexer": "ipython3",
      "version": "3.9.7"
    },
    "toc": {
      "base_numbering": 1,
      "nav_menu": {},
      "number_sections": true,
      "sideBar": true,
      "skip_h1_title": false,
      "title_cell": "Table of Contents",
      "title_sidebar": "Contents",
      "toc_cell": false,
      "toc_position": {},
      "toc_section_display": true,
      "toc_window_display": false
    },
    "varInspector": {
      "cols": {
        "lenName": 16,
        "lenType": 16,
        "lenVar": 40
      },
      "kernels_config": {
        "python": {
          "delete_cmd_postfix": "",
          "delete_cmd_prefix": "del ",
          "library": "var_list.py",
          "varRefreshCmd": "print(var_dic_list())"
        },
        "r": {
          "delete_cmd_postfix": ") ",
          "delete_cmd_prefix": "rm(",
          "library": "var_list.r",
          "varRefreshCmd": "cat(var_dic_list()) "
        }
      },
      "types_to_exclude": [
        "module",
        "function",
        "builtin_function_or_method",
        "instance",
        "_Feature"
      ],
      "window_display": false
    },
    "colab": {
      "name": "KB_0307_WS.ipynb",
      "provenance": [],
      "collapsed_sections": [],
      "include_colab_link": true
    }
  },
  "nbformat": 4,
  "nbformat_minor": 0
}
