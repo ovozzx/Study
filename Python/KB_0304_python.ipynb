{
 "cells": [
  {
   "cell_type": "markdown",
   "id": "e5e04394",
   "metadata": {},
   "source": [
    "# ☑️ 3월 3일 수업 : Python 기본 문법 강의\n",
    "\n",
    "\n",
    "### 마크다운 단축키 : esc + m"
   ]
  },
  {
   "cell_type": "markdown",
   "id": "ba03ba56",
   "metadata": {},
   "source": [
    "## ● 제어문"
   ]
  },
  {
   "cell_type": "markdown",
   "id": "5f17e3bf",
   "metadata": {},
   "source": [
    "## 1. while문"
   ]
  },
  {
   "cell_type": "code",
   "execution_count": 2,
   "id": "3116475c",
   "metadata": {},
   "outputs": [
    {
     "name": "stdout",
     "output_type": "stream",
     "text": [
      "count = 1\n",
      "count = 2\n",
      "count = 3\n",
      "count = 4\n",
      "count = 5\n"
     ]
    }
   ],
   "source": [
    "#1~5까지 출력\n",
    "count = 1\n",
    "while count <= 5 :\n",
    "    print(f\"count = {count}\")\n",
    "    count += 1 #들여쓰기 더하면 구문 오류 남!, 동일 레벨로 써야 함"
   ]
  },
  {
   "cell_type": "markdown",
   "id": "f6428b48",
   "metadata": {},
   "source": [
    "### 💡연습문제 (1)"
   ]
  },
  {
   "cell_type": "code",
   "execution_count": 3,
   "id": "485b00c1",
   "metadata": {},
   "outputs": [
    {
     "name": "stdout",
     "output_type": "stream",
     "text": [
      "2550\n"
     ]
    }
   ],
   "source": [
    "sum = 0\n",
    "\n",
    "for i in range(1,101) :\n",
    "    \n",
    "    if i % 2 == 0 :\n",
    "        sum += i\n",
    "        \n",
    "print(sum)"
   ]
  },
  {
   "cell_type": "code",
   "execution_count": 7,
   "id": "562a5fcf",
   "metadata": {},
   "outputs": [
    {
     "name": "stdout",
     "output_type": "stream",
     "text": [
      "2550\n"
     ]
    }
   ],
   "source": [
    "sum = 0\n",
    "count = 1\n",
    "while count <= 100 :\n",
    "    if count % 2 == 0 :\n",
    "        sum += count\n",
    "    count += 1\n",
    "\n",
    "print(sum)"
   ]
  },
  {
   "cell_type": "markdown",
   "id": "467225ad",
   "metadata": {},
   "source": [
    "### 💡연습문제 (2)"
   ]
  },
  {
   "cell_type": "code",
   "execution_count": 5,
   "id": "286c0dce",
   "metadata": {},
   "outputs": [
    {
     "name": "stdout",
     "output_type": "stream",
     "text": [
      "*\n",
      "**\n",
      "***\n",
      "****\n",
      "*****\n"
     ]
    }
   ],
   "source": [
    "star = '*'\n",
    "\n",
    "for i in range(0,5) :\n",
    "    print(star)\n",
    "    star += '*'"
   ]
  },
  {
   "cell_type": "code",
   "execution_count": 8,
   "id": "41db7a87",
   "metadata": {},
   "outputs": [
    {
     "name": "stdout",
     "output_type": "stream",
     "text": [
      "*\n",
      "**\n",
      "***\n",
      "****\n",
      "*****\n"
     ]
    }
   ],
   "source": [
    "s = \"*\"\n",
    "\n",
    "count = 1\n",
    "while count <= 5 :\n",
    "    print(s*count) #문자열 곱하기 → 반복 (python에서만 제공)\n",
    "    count += 1"
   ]
  },
  {
   "cell_type": "markdown",
   "id": "647e2cc8",
   "metadata": {},
   "source": [
    "## 2. for문 : 리스트의 경우 씀"
   ]
  },
  {
   "cell_type": "code",
   "execution_count": 9,
   "id": "ed29d65f",
   "metadata": {},
   "outputs": [
    {
     "name": "stdout",
     "output_type": "stream",
     "text": [
      "1\n",
      "3\n",
      "5\n"
     ]
    }
   ],
   "source": [
    "nums = [1,3,5]\n",
    "for i in nums :\n",
    "    print(i)"
   ]
  },
  {
   "cell_type": "code",
   "execution_count": 35,
   "id": "53ee6ed8",
   "metadata": {},
   "outputs": [
    {
     "name": "stdout",
     "output_type": "stream",
     "text": [
      "<class 'list'>\n",
      "[1, 2, 3]\n",
      "1\n"
     ]
    }
   ],
   "source": [
    "t2 =  [[1,2,3],[4,5,6],[7,8,9,10]]\n",
    "print(type(t2))\n",
    "print(t2[0])\n",
    "print(t2[0][0])"
   ]
  },
  {
   "cell_type": "markdown",
   "id": "780c55f4",
   "metadata": {},
   "source": [
    "### 💡연습문제 (1)"
   ]
  },
  {
   "cell_type": "code",
   "execution_count": 11,
   "id": "bcdf799b",
   "metadata": {},
   "outputs": [
    {
     "name": "stdout",
     "output_type": "stream",
     "text": [
      "5050\n"
     ]
    }
   ],
   "source": [
    "sum = 0\n",
    "for i in range(1,101):\n",
    "    sum += i\n",
    "print(sum)\n"
   ]
  },
  {
   "cell_type": "markdown",
   "id": "c518897e",
   "metadata": {},
   "source": [
    "### 💡연습문제 (2)"
   ]
  },
  {
   "cell_type": "code",
   "execution_count": 33,
   "id": "54dd93f4",
   "metadata": {},
   "outputs": [
    {
     "name": "stdout",
     "output_type": "stream",
     "text": [
      "1 2 3 4 5 6 7 8 9 10 "
     ]
    }
   ],
   "source": [
    "test2D = [[1,2,3],[4,5,6],[7,8,9,10]] #2차원 → 2중 포문\n",
    "\n",
    "for i in test2D :\n",
    "    for n in i:\n",
    "        print(n, end = ' ')\n",
    "        "
   ]
  },
  {
   "cell_type": "code",
   "execution_count": 31,
   "id": "242fb9d8",
   "metadata": {},
   "outputs": [
    {
     "name": "stdout",
     "output_type": "stream",
     "text": [
      "2 4 6 8 10 12 14 16 18 "
     ]
    }
   ],
   "source": [
    "dan = 2\n",
    "for i in range(1,10) :\n",
    "    print(dan*i, end = \" \") #공백추가\n",
    "    "
   ]
  },
  {
   "cell_type": "markdown",
   "id": "8f14b293",
   "metadata": {},
   "source": [
    "### 💡연습문제 (3)"
   ]
  },
  {
   "cell_type": "code",
   "execution_count": 27,
   "id": "46f06171",
   "metadata": {},
   "outputs": [
    {
     "name": "stdout",
     "output_type": "stream",
     "text": [
      "2 4 6 8 10 12 14 16 18 \n",
      "3 6 9 12 15 18 21 24 27 \n",
      "4 8 12 16 20 24 28 32 36 \n",
      "5 10 15 20 25 30 35 40 45 \n",
      "6 12 18 24 30 36 42 48 54 \n",
      "7 14 21 28 35 42 49 56 63 \n",
      "8 16 24 32 40 48 56 64 72 \n",
      "9 18 27 36 45 54 63 72 81 \n"
     ]
    }
   ],
   "source": [
    "for i in range(2,10):\n",
    "    for j in range(1,10):\n",
    "        print(i*j,\"\",end='')\n",
    "    print() #줄바꿈 출력!!\n",
    "        "
   ]
  },
  {
   "cell_type": "markdown",
   "id": "dada5454",
   "metadata": {},
   "source": [
    "1개의 값 : 스칼라\n",
    "\n",
    "여러값 : 벡터"
   ]
  },
  {
   "cell_type": "markdown",
   "id": "7788d8d1",
   "metadata": {},
   "source": [
    "### ✓ break/continue/pass\n",
    "\n",
    "- break : 현재 속한 반복문 종료\n",
    "- pass : 제어문 안에 내용 채울 때, 아무 작업 수행 X\n",
    "\n"
   ]
  },
  {
   "cell_type": "code",
   "execution_count": 36,
   "id": "73cf176c",
   "metadata": {},
   "outputs": [
    {
     "name": "stdout",
     "output_type": "stream",
     "text": [
      "0\n",
      "1\n",
      "3\n",
      "4\n"
     ]
    }
   ],
   "source": [
    "for i in range(10):\n",
    "    if i == 2 :\n",
    "        continue #아래 명령 수행하지 않고 처음으로\n",
    "    if i== 5 :\n",
    "        break #현재 속한 반복문 종료\n",
    "    print(i)"
   ]
  },
  {
   "cell_type": "code",
   "execution_count": 43,
   "id": "2a121229",
   "metadata": {},
   "outputs": [
    {
     "name": "stdout",
     "output_type": "stream",
     "text": [
      "안쪽 포문 0\n",
      "안쪽 포문 1\n",
      "안쪽 포문 3\n",
      "안쪽 포문 4\n",
      "바깥쪽 포문 0\n",
      "안쪽 포문 0\n",
      "안쪽 포문 1\n",
      "안쪽 포문 3\n",
      "안쪽 포문 4\n",
      "바깥쪽 포문 1\n",
      "안쪽 포문 0\n",
      "안쪽 포문 1\n",
      "안쪽 포문 3\n",
      "안쪽 포문 4\n",
      "바깥쪽 포문 2\n"
     ]
    }
   ],
   "source": [
    "for i in range(3):\n",
    "    \n",
    "    for j in range(7) :\n",
    "        if j == 2 :\n",
    "            continue #아래 명령 수행하지 않고 처음으로\n",
    "        if j == 5 :\n",
    "            break #현재 속한 반복문 종료 → 안쪽 포문 종료\n",
    "\n",
    "        print(\"안쪽 포문\", j)\n",
    "    print(\"바깥쪽 포문\", i)"
   ]
  },
  {
   "cell_type": "markdown",
   "id": "10a76a95",
   "metadata": {},
   "source": [
    "### ✓ 숫자 맞추기 게임(NumberGuess)\n",
    "\n",
    "1~100 사이 컴퓨터가 정한 난수를 맞추기\n",
    "\n",
    "1. 컴퓨터가 난수를 정함(1~100) random.radint(1,100)\n",
    "\n",
    "2. \"1~100 사이 숫자를 입력하세요\" 숫자를 입력\n",
    "\n",
    "3. 입력숫자가 난수와 같은 \"ㅊㅋㅊㅋ 정답입니다~!\" 출력 → 게임 종료!\n",
    "\n",
    "4. 입력숫자가 난수보다 작으면 \"올려주세요\", 크면 \"내려주세요\"\n",
    "\n",
    "5. 2번부터 반복"
   ]
  },
  {
   "cell_type": "code",
   "execution_count": 63,
   "id": "ae81cf41",
   "metadata": {},
   "outputs": [
    {
     "name": "stdout",
     "output_type": "stream",
     "text": [
      "******숫자 맞추기 게임(NumberGuess)******\n",
      "숫자를 입력하세요50\n",
      "내려주세요\n",
      "숫자를 입력하세요40\n",
      "내려주세요\n",
      "숫자를 입력하세요30\n",
      "내려주세요\n",
      "숫자를 입력하세요20\n",
      "올려주세요\n",
      "숫자를 입력하세요25\n",
      "ㅊㅋㅊㅋ 정답입니다~!\n"
     ]
    }
   ],
   "source": [
    "#내가 한 거\n",
    "print(\"******숫자 맞추기 게임(NumberGuess)******\")\n",
    "import random #모듈(소스파일 : random.py), 실행하면 함수 및 변수가 메모리에 생김\n",
    "\n",
    "\n",
    "number = random.randrange(1,101) #1이상 101미만\n",
    "\n",
    "while True :\n",
    "    guess = input(\"숫자를 입력하세요\")\n",
    "    \n",
    "    if not guess.isdecimal():\n",
    "        print(\"1~100사이 숫자만 입력하세요\")\n",
    "        continue\n",
    "    \n",
    "    if number == int(guess) :\n",
    "        print(\"ㅊㅋㅊㅋ 정답입니다~!\")\n",
    "        break\n",
    "    elif number < int(guess) :\n",
    "        print(\"내려주세요\")    \n",
    "    else :\n",
    "        print(\"올려주세요\")"
   ]
  },
  {
   "cell_type": "code",
   "execution_count": 64,
   "id": "318d737b",
   "metadata": {},
   "outputs": [
    {
     "name": "stdout",
     "output_type": "stream",
     "text": [
      "*** 숫자맞추기게임(NumberGuess) ***\n",
      "1~100사이 숫자를 입력하세요 : 50\n",
      "높여주세요\n",
      "1~100사이 숫자를 입력하세요 : 60\n",
      "높여주세요\n",
      "1~100사이 숫자를 입력하세요 : 70\n",
      "높여주세요\n",
      "1~100사이 숫자를 입력하세요 : 80\n",
      "높여주세요\n",
      "1~100사이 숫자를 입력하세요 : 90\n",
      "높여주세요\n",
      "1~100사이 숫자를 입력하세요 : 95\n",
      "높여주세요\n",
      "1~100사이 숫자를 입력하세요 : 96\n",
      "높여주세요\n",
      "1~100사이 숫자를 입력하세요 : 97\n",
      "높여주세요\n",
      "1~100사이 숫자를 입력하세요 : 98\n",
      "높여주세요\n",
      "1~100사이 숫자를 입력하세요 : 99\n",
      "추카추카. 정답입니다\n"
     ]
    }
   ],
   "source": [
    "#강사님\n",
    "print(\"*** 숫자맞추기게임(NumberGuess) ***\")\n",
    "import random\n",
    "com_num = random.randint(1,100) # 1~100사이 난수 생성\n",
    "while True: # 게임끝이 안 정해짐. 일단 무한반복\n",
    "    ans = input(\"1~100사이 숫자를 입력하세요 : \")\n",
    "    # 숫자아니면 다시 입력\n",
    "    if not ans.isdecimal():\n",
    "        print(\"1~100사이 숫자만 입력하세요\")\n",
    "        continue\n",
    "    user_num = int(ans)\n",
    "    if user_num == com_num:\n",
    "        print(\"추카추카. 정답입니다\")\n",
    "        break\n",
    "    if user_num < com_num:\n",
    "        print(\"높여주세요\")\n",
    "    else:\n",
    "        print(\"낮춰주세요\")"
   ]
  },
  {
   "cell_type": "markdown",
   "id": "211f3127",
   "metadata": {},
   "source": [
    "### 💡연습문제 \n",
    "\n",
    "입력한 단어의 모음 개수(A,E,I,O,U,a,e,i,o,u) 찾기\n",
    "\n",
    "키보드로 단어를 입력받아 모음의 개수를 출력하는 코드를 작성하세요.\n",
    "\n",
    "키보드 입력 : HeLLO\n",
    "\n",
    "결과출력 : 2개\n",
    "    \n",
    "    "
   ]
  },
  {
   "cell_type": "code",
   "execution_count": 69,
   "id": "5b2ea043",
   "metadata": {},
   "outputs": [
    {
     "name": "stdout",
     "output_type": "stream",
     "text": [
      "단어를 입력하세요 :aeO\n",
      "3\n"
     ]
    }
   ],
   "source": [
    "ans = input(\"단어를 입력하세요 :\")\n",
    "모음 = ['A','E','I','O','U','a','e','i','o','u']\n",
    "#문자열은 문자의 리스트이므로 \"AEIOUaeiou\" 이렇게 써도 됨\n",
    "count = 0\n",
    "\n",
    "for i in ans :\n",
    "    for j in 모음 :\n",
    "        if i == j :\n",
    "            count += 1\n",
    "            \n",
    "print(count)"
   ]
  },
  {
   "cell_type": "code",
   "execution_count": 75,
   "id": "6b0f1749",
   "metadata": {},
   "outputs": [
    {
     "name": "stdout",
     "output_type": "stream",
     "text": [
      "단어를 입력하세요 :HEllo\n",
      "2\n"
     ]
    }
   ],
   "source": [
    "ss = \"aeiou\"\n",
    "count = 0\n",
    "\n",
    "ans = input(\"단어를 입력하세요 :\")\n",
    "ans = ans.lower() #소문자 변환, 대문자 변환 : upper()\n",
    "\n",
    "for i in ss :\n",
    "    if i in ans :\n",
    "        count += 1\n",
    "\n",
    "print(count)"
   ]
  },
  {
   "cell_type": "code",
   "execution_count": 80,
   "id": "7f9ac1f5",
   "metadata": {},
   "outputs": [
    {
     "name": "stdout",
     "output_type": "stream",
     "text": [
      "단어를 입력하세요 : hello\n",
      "모음갯수는 2\n"
     ]
    }
   ],
   "source": [
    "#강사님\n",
    "\n",
    "ans = input(\"단어를 입력하세요 : \")\n",
    "모음갯수 = 0\n",
    "\n",
    "for a in ans :\n",
    "    if a in \"AEIOUaeiou\" :\n",
    "        모음갯수 += 1\n",
    "print(f\"모음갯수는 {모음갯수}\")"
   ]
  },
  {
   "cell_type": "code",
   "execution_count": null,
   "id": "fe7efb6b",
   "metadata": {},
   "outputs": [],
   "source": []
  }
 ],
 "metadata": {
  "kernelspec": {
   "display_name": "Python 3 (ipykernel)",
   "language": "python",
   "name": "python3"
  },
  "language_info": {
   "codemirror_mode": {
    "name": "ipython",
    "version": 3
   },
   "file_extension": ".py",
   "mimetype": "text/x-python",
   "name": "python",
   "nbconvert_exporter": "python",
   "pygments_lexer": "ipython3",
   "version": "3.9.7"
  }
 },
 "nbformat": 4,
 "nbformat_minor": 5
}
