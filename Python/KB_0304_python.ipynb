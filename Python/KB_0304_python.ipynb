{
  "cells": [
    {
      "cell_type": "markdown",
      "metadata": {
        "id": "view-in-github",
        "colab_type": "text"
      },
      "source": [
        "<a href=\"https://colab.research.google.com/github/ovozzx/Study/blob/main/KB_0304_python.ipynb\" target=\"_parent\"><img src=\"https://colab.research.google.com/assets/colab-badge.svg\" alt=\"Open In Colab\"/></a>"
      ]
    },
    {
      "cell_type": "markdown",
      "id": "e5e04394",
      "metadata": {
        "id": "e5e04394"
      },
      "source": [
        "# ☑️ 3월 3일 수업 : Python 기본 문법 강의\n",
        "\n",
        "\n",
        "### 마크다운 단축키 : esc + m"
      ]
    },
    {
      "cell_type": "markdown",
      "id": "ba03ba56",
      "metadata": {
        "id": "ba03ba56"
      },
      "source": [
        "# 🔎 1. 제어문"
      ]
    },
    {
      "cell_type": "markdown",
      "id": "5f17e3bf",
      "metadata": {
        "id": "5f17e3bf"
      },
      "source": [
        "## 1. while문"
      ]
    },
    {
      "cell_type": "code",
      "execution_count": null,
      "id": "3116475c",
      "metadata": {
        "id": "3116475c",
        "outputId": "7b214627-6640-47b6-9812-3269c8822e13"
      },
      "outputs": [
        {
          "name": "stdout",
          "output_type": "stream",
          "text": [
            "count = 1\n",
            "count = 2\n",
            "count = 3\n",
            "count = 4\n",
            "count = 5\n"
          ]
        }
      ],
      "source": [
        "#1~5까지 출력\n",
        "count = 1\n",
        "while count <= 5 :\n",
        "    print(f\"count = {count}\")\n",
        "    count += 1 #들여쓰기 더하면 구문 오류 남!, 동일 레벨로 써야 함"
      ]
    },
    {
      "cell_type": "markdown",
      "id": "f6428b48",
      "metadata": {
        "id": "f6428b48"
      },
      "source": [
        "### 💡연습문제 (1)"
      ]
    },
    {
      "cell_type": "code",
      "execution_count": null,
      "id": "485b00c1",
      "metadata": {
        "id": "485b00c1",
        "outputId": "e7e924ed-3ef1-4bbc-ac52-ad4bb74adad2"
      },
      "outputs": [
        {
          "name": "stdout",
          "output_type": "stream",
          "text": [
            "2550\n"
          ]
        }
      ],
      "source": [
        "sum = 0\n",
        "\n",
        "for i in range(1,101) :\n",
        "    \n",
        "    if i % 2 == 0 :\n",
        "        sum += i\n",
        "        \n",
        "print(sum)"
      ]
    },
    {
      "cell_type": "code",
      "execution_count": null,
      "id": "562a5fcf",
      "metadata": {
        "id": "562a5fcf",
        "outputId": "61f36397-e4ae-4074-b4c9-23fc69aa7d4e"
      },
      "outputs": [
        {
          "name": "stdout",
          "output_type": "stream",
          "text": [
            "2550\n"
          ]
        }
      ],
      "source": [
        "sum = 0\n",
        "count = 1\n",
        "while count <= 100 :\n",
        "    if count % 2 == 0 :\n",
        "        sum += count\n",
        "    count += 1\n",
        "\n",
        "print(sum)"
      ]
    },
    {
      "cell_type": "markdown",
      "id": "467225ad",
      "metadata": {
        "id": "467225ad"
      },
      "source": [
        "### 💡연습문제 (2)"
      ]
    },
    {
      "cell_type": "code",
      "execution_count": null,
      "id": "286c0dce",
      "metadata": {
        "id": "286c0dce",
        "outputId": "e453c57c-b843-4ade-9628-8a29fa4408ac"
      },
      "outputs": [
        {
          "name": "stdout",
          "output_type": "stream",
          "text": [
            "*\n",
            "**\n",
            "***\n",
            "****\n",
            "*****\n"
          ]
        }
      ],
      "source": [
        "star = '*'\n",
        "\n",
        "for i in range(0,5) :\n",
        "    print(star)\n",
        "    star += '*'"
      ]
    },
    {
      "cell_type": "code",
      "execution_count": null,
      "id": "41db7a87",
      "metadata": {
        "id": "41db7a87",
        "outputId": "aed0bba3-5304-4dc2-8920-5f6069fbabe9"
      },
      "outputs": [
        {
          "name": "stdout",
          "output_type": "stream",
          "text": [
            "*\n",
            "**\n",
            "***\n",
            "****\n",
            "*****\n"
          ]
        }
      ],
      "source": [
        "s = \"*\"\n",
        "\n",
        "count = 1\n",
        "while count <= 5 :\n",
        "    print(s*count) #문자열 곱하기 → 반복 (python에서만 제공)\n",
        "    count += 1"
      ]
    },
    {
      "cell_type": "markdown",
      "id": "647e2cc8",
      "metadata": {
        "id": "647e2cc8"
      },
      "source": [
        "## 2. for문 : 리스트의 경우 씀"
      ]
    },
    {
      "cell_type": "code",
      "execution_count": null,
      "id": "ed29d65f",
      "metadata": {
        "id": "ed29d65f",
        "outputId": "fbe04466-5268-496b-ed1b-52516eb8f0f8"
      },
      "outputs": [
        {
          "name": "stdout",
          "output_type": "stream",
          "text": [
            "1\n",
            "3\n",
            "5\n"
          ]
        }
      ],
      "source": [
        "nums = [1,3,5]\n",
        "for i in nums :\n",
        "    print(i)"
      ]
    },
    {
      "cell_type": "code",
      "execution_count": null,
      "id": "53ee6ed8",
      "metadata": {
        "id": "53ee6ed8",
        "outputId": "b32cb554-20f8-4a39-c2b7-adc326bc49df"
      },
      "outputs": [
        {
          "name": "stdout",
          "output_type": "stream",
          "text": [
            "<class 'list'>\n",
            "[1, 2, 3]\n",
            "1\n"
          ]
        }
      ],
      "source": [
        "t2 =  [[1,2,3],[4,5,6],[7,8,9,10]]\n",
        "print(type(t2))\n",
        "print(t2[0])\n",
        "print(t2[0][0])"
      ]
    },
    {
      "cell_type": "markdown",
      "id": "780c55f4",
      "metadata": {
        "id": "780c55f4"
      },
      "source": [
        "### 💡연습문제 (1)"
      ]
    },
    {
      "cell_type": "code",
      "execution_count": null,
      "id": "bcdf799b",
      "metadata": {
        "id": "bcdf799b",
        "outputId": "8951faf9-7d43-453c-9ac1-d09a00006617"
      },
      "outputs": [
        {
          "name": "stdout",
          "output_type": "stream",
          "text": [
            "5050\n"
          ]
        }
      ],
      "source": [
        "sum = 0\n",
        "for i in range(1,101):\n",
        "    sum += i\n",
        "print(sum)\n"
      ]
    },
    {
      "cell_type": "markdown",
      "id": "c518897e",
      "metadata": {
        "id": "c518897e"
      },
      "source": [
        "### 💡연습문제 (2)"
      ]
    },
    {
      "cell_type": "code",
      "execution_count": null,
      "id": "54dd93f4",
      "metadata": {
        "id": "54dd93f4",
        "outputId": "357d8add-48c6-484f-fbdb-b428736dcaa3"
      },
      "outputs": [
        {
          "name": "stdout",
          "output_type": "stream",
          "text": [
            "1 2 3 4 5 6 7 8 9 10 "
          ]
        }
      ],
      "source": [
        "test2D = [[1,2,3],[4,5,6],[7,8,9,10]] #2차원 → 2중 포문\n",
        "\n",
        "for i in test2D :\n",
        "    for n in i:\n",
        "        print(n, end = ' ')\n",
        "        "
      ]
    },
    {
      "cell_type": "code",
      "execution_count": null,
      "id": "242fb9d8",
      "metadata": {
        "id": "242fb9d8",
        "outputId": "a7b10a56-a248-4141-d968-c334f365bfd1"
      },
      "outputs": [
        {
          "name": "stdout",
          "output_type": "stream",
          "text": [
            "2 4 6 8 10 12 14 16 18 "
          ]
        }
      ],
      "source": [
        "dan = 2\n",
        "for i in range(1,10) :\n",
        "    print(dan*i, end = \" \") #공백추가\n",
        "    "
      ]
    },
    {
      "cell_type": "markdown",
      "id": "8f14b293",
      "metadata": {
        "id": "8f14b293"
      },
      "source": [
        "### 💡연습문제 (3)"
      ]
    },
    {
      "cell_type": "code",
      "execution_count": null,
      "id": "46f06171",
      "metadata": {
        "id": "46f06171",
        "outputId": "b3e2788e-762a-45e2-e76f-bbd864efb4d5"
      },
      "outputs": [
        {
          "name": "stdout",
          "output_type": "stream",
          "text": [
            "2 4 6 8 10 12 14 16 18 \n",
            "3 6 9 12 15 18 21 24 27 \n",
            "4 8 12 16 20 24 28 32 36 \n",
            "5 10 15 20 25 30 35 40 45 \n",
            "6 12 18 24 30 36 42 48 54 \n",
            "7 14 21 28 35 42 49 56 63 \n",
            "8 16 24 32 40 48 56 64 72 \n",
            "9 18 27 36 45 54 63 72 81 \n"
          ]
        }
      ],
      "source": [
        "for i in range(2,10):\n",
        "    for j in range(1,10):\n",
        "        print(i*j,\"\",end='')\n",
        "    print() #줄바꿈 출력!!\n",
        "        "
      ]
    },
    {
      "cell_type": "markdown",
      "id": "dada5454",
      "metadata": {
        "id": "dada5454"
      },
      "source": [
        "1개의 값 : 스칼라\n",
        "\n",
        "여러값 : 벡터"
      ]
    },
    {
      "cell_type": "markdown",
      "id": "7788d8d1",
      "metadata": {
        "id": "7788d8d1"
      },
      "source": [
        "### ✓ break/continue/pass\n",
        "\n",
        "- break : 현재 속한 반복문 종료\n",
        "- pass : 제어문 안에 내용 채울 때, 아무 작업 수행 X\n",
        "\n"
      ]
    },
    {
      "cell_type": "code",
      "execution_count": null,
      "id": "73cf176c",
      "metadata": {
        "id": "73cf176c",
        "outputId": "a03c20ab-2deb-44c0-c252-728318c4d8db"
      },
      "outputs": [
        {
          "name": "stdout",
          "output_type": "stream",
          "text": [
            "0\n",
            "1\n",
            "3\n",
            "4\n"
          ]
        }
      ],
      "source": [
        "for i in range(10):\n",
        "    if i == 2 :\n",
        "        continue #아래 명령 수행하지 않고 처음으로\n",
        "    if i== 5 :\n",
        "        break #현재 속한 반복문 종료\n",
        "    print(i)"
      ]
    },
    {
      "cell_type": "code",
      "execution_count": null,
      "id": "2a121229",
      "metadata": {
        "id": "2a121229",
        "outputId": "1c8f8077-3a3a-4f85-84b8-dbfd191c239c"
      },
      "outputs": [
        {
          "name": "stdout",
          "output_type": "stream",
          "text": [
            "안쪽 포문 0\n",
            "안쪽 포문 1\n",
            "안쪽 포문 3\n",
            "안쪽 포문 4\n",
            "바깥쪽 포문 0\n",
            "안쪽 포문 0\n",
            "안쪽 포문 1\n",
            "안쪽 포문 3\n",
            "안쪽 포문 4\n",
            "바깥쪽 포문 1\n",
            "안쪽 포문 0\n",
            "안쪽 포문 1\n",
            "안쪽 포문 3\n",
            "안쪽 포문 4\n",
            "바깥쪽 포문 2\n"
          ]
        }
      ],
      "source": [
        "for i in range(3):\n",
        "    \n",
        "    for j in range(7) :\n",
        "        if j == 2 :\n",
        "            continue #아래 명령 수행하지 않고 처음으로\n",
        "        if j == 5 :\n",
        "            break #현재 속한 반복문 종료 → 안쪽 포문 종료\n",
        "\n",
        "        print(\"안쪽 포문\", j)\n",
        "    print(\"바깥쪽 포문\", i)"
      ]
    },
    {
      "cell_type": "markdown",
      "id": "10a76a95",
      "metadata": {
        "id": "10a76a95"
      },
      "source": [
        "### ✓ 숫자 맞추기 게임(NumberGuess)\n",
        "\n",
        "1~100 사이 컴퓨터가 정한 난수를 맞추기\n",
        "\n",
        "1. 컴퓨터가 난수를 정함(1~100) random.radint(1,100)\n",
        "\n",
        "2. \"1~100 사이 숫자를 입력하세요\" 숫자를 입력\n",
        "\n",
        "3. 입력숫자가 난수와 같은 \"ㅊㅋㅊㅋ 정답입니다~!\" 출력 → 게임 종료!\n",
        "\n",
        "4. 입력숫자가 난수보다 작으면 \"올려주세요\", 크면 \"내려주세요\"\n",
        "\n",
        "5. 2번부터 반복"
      ]
    },
    {
      "cell_type": "code",
      "execution_count": null,
      "id": "ae81cf41",
      "metadata": {
        "id": "ae81cf41",
        "outputId": "1e669cf5-5003-4484-b99f-481114e503ba"
      },
      "outputs": [
        {
          "name": "stdout",
          "output_type": "stream",
          "text": [
            "******숫자 맞추기 게임(NumberGuess)******\n",
            "숫자를 입력하세요50\n",
            "내려주세요\n",
            "숫자를 입력하세요40\n",
            "내려주세요\n",
            "숫자를 입력하세요30\n",
            "내려주세요\n",
            "숫자를 입력하세요20\n",
            "올려주세요\n",
            "숫자를 입력하세요25\n",
            "ㅊㅋㅊㅋ 정답입니다~!\n"
          ]
        }
      ],
      "source": [
        "#내가 한 거\n",
        "print(\"******숫자 맞추기 게임(NumberGuess)******\")\n",
        "import random #모듈(소스파일 : random.py), 실행하면 함수 및 변수가 메모리에 생김\n",
        "\n",
        "\n",
        "number = random.randrange(1,101) #1이상 101미만\n",
        "\n",
        "while True :\n",
        "    guess = input(\"숫자를 입력하세요\")\n",
        "    \n",
        "    if not guess.isdecimal():\n",
        "        print(\"1~100사이 숫자만 입력하세요\")\n",
        "        continue\n",
        "    \n",
        "    if number == int(guess) :\n",
        "        print(\"ㅊㅋㅊㅋ 정답입니다~!\")\n",
        "        break\n",
        "    elif number < int(guess) :\n",
        "        print(\"내려주세요\")    \n",
        "    else :\n",
        "        print(\"올려주세요\")"
      ]
    },
    {
      "cell_type": "code",
      "execution_count": null,
      "id": "318d737b",
      "metadata": {
        "id": "318d737b",
        "outputId": "e746ef98-d934-475e-83b9-b1e7fbae9284"
      },
      "outputs": [
        {
          "name": "stdout",
          "output_type": "stream",
          "text": [
            "*** 숫자맞추기게임(NumberGuess) ***\n",
            "1~100사이 숫자를 입력하세요 : 50\n",
            "높여주세요\n",
            "1~100사이 숫자를 입력하세요 : 60\n",
            "높여주세요\n",
            "1~100사이 숫자를 입력하세요 : 70\n",
            "높여주세요\n",
            "1~100사이 숫자를 입력하세요 : 80\n",
            "높여주세요\n",
            "1~100사이 숫자를 입력하세요 : 90\n",
            "높여주세요\n",
            "1~100사이 숫자를 입력하세요 : 95\n",
            "높여주세요\n",
            "1~100사이 숫자를 입력하세요 : 96\n",
            "높여주세요\n",
            "1~100사이 숫자를 입력하세요 : 97\n",
            "높여주세요\n",
            "1~100사이 숫자를 입력하세요 : 98\n",
            "높여주세요\n",
            "1~100사이 숫자를 입력하세요 : 99\n",
            "추카추카. 정답입니다\n"
          ]
        }
      ],
      "source": [
        "#강사님\n",
        "print(\"*** 숫자맞추기게임(NumberGuess) ***\")\n",
        "import random\n",
        "com_num = random.randint(1,100) # 1~100사이 난수 생성\n",
        "while True: # 게임끝이 안 정해짐. 일단 무한반복\n",
        "    ans = input(\"1~100사이 숫자를 입력하세요 : \")\n",
        "    # 숫자아니면 다시 입력\n",
        "    if not ans.isdecimal():\n",
        "        print(\"1~100사이 숫자만 입력하세요\")\n",
        "        continue\n",
        "    user_num = int(ans)\n",
        "    if user_num == com_num:\n",
        "        print(\"추카추카. 정답입니다\")\n",
        "        break\n",
        "    if user_num < com_num:\n",
        "        print(\"높여주세요\")\n",
        "    else:\n",
        "        print(\"낮춰주세요\")"
      ]
    },
    {
      "cell_type": "markdown",
      "id": "211f3127",
      "metadata": {
        "id": "211f3127"
      },
      "source": [
        "### 💡연습문제 \n",
        "\n",
        "입력한 단어의 모음 개수(A,E,I,O,U,a,e,i,o,u) 찾기\n",
        "\n",
        "키보드로 단어를 입력받아 모음의 개수를 출력하는 코드를 작성하세요.\n",
        "\n",
        "키보드 입력 : HeLLO\n",
        "\n",
        "결과출력 : 2개\n",
        "    \n",
        "    "
      ]
    },
    {
      "cell_type": "code",
      "execution_count": null,
      "id": "5b2ea043",
      "metadata": {
        "id": "5b2ea043",
        "outputId": "b90ab93e-a2f2-406f-b2c3-b2becc7e3f84"
      },
      "outputs": [
        {
          "name": "stdout",
          "output_type": "stream",
          "text": [
            "단어를 입력하세요 :aeO\n",
            "3\n"
          ]
        }
      ],
      "source": [
        "ans = input(\"단어를 입력하세요 :\")\n",
        "모음 = ['A','E','I','O','U','a','e','i','o','u']\n",
        "#문자열은 문자의 리스트이므로 \"AEIOUaeiou\" 이렇게 써도 됨\n",
        "count = 0\n",
        "\n",
        "for i in ans :\n",
        "    for j in 모음 :\n",
        "        if i == j :\n",
        "            count += 1\n",
        "            \n",
        "print(count)"
      ]
    },
    {
      "cell_type": "code",
      "execution_count": null,
      "id": "6b0f1749",
      "metadata": {
        "id": "6b0f1749",
        "outputId": "33296123-d69b-4962-d126-a986019c29c0"
      },
      "outputs": [
        {
          "name": "stdout",
          "output_type": "stream",
          "text": [
            "단어를 입력하세요 :HEllo\n",
            "2\n"
          ]
        }
      ],
      "source": [
        "ss = \"aeiou\"\n",
        "count = 0\n",
        "\n",
        "ans = input(\"단어를 입력하세요 :\")\n",
        "ans = ans.lower() #소문자 변환, 대문자 변환 : upper()\n",
        "\n",
        "for i in ss :\n",
        "    if i in ans :\n",
        "        count += 1\n",
        "\n",
        "print(count)"
      ]
    },
    {
      "cell_type": "code",
      "execution_count": null,
      "id": "7f9ac1f5",
      "metadata": {
        "id": "7f9ac1f5",
        "outputId": "0de70406-6e49-4f15-e2a1-530125a596b0"
      },
      "outputs": [
        {
          "name": "stdout",
          "output_type": "stream",
          "text": [
            "단어를 입력하세요 : hello\n",
            "모음갯수는 2\n"
          ]
        }
      ],
      "source": [
        "#강사님\n",
        "\n",
        "ans = input(\"단어를 입력하세요 : \")\n",
        "모음갯수 = 0\n",
        "\n",
        "for a in ans :\n",
        "    if a in \"AEIOUaeiou\" :\n",
        "        모음갯수 += 1\n",
        "print(f\"모음갯수는 {모음갯수}\")"
      ]
    },
    {
      "cell_type": "markdown",
      "source": [
        "● for문을 이용한 리스트"
      ],
      "metadata": {
        "id": "CaFz2e-CrctW"
      },
      "id": "CaFz2e-CrctW"
    },
    {
      "cell_type": "code",
      "source": [
        "s = [ x**2 for x in range(10)]\n",
        "s"
      ],
      "metadata": {
        "colab": {
          "base_uri": "https://localhost:8080/"
        },
        "id": "2Vr9ljmJqlU9",
        "outputId": "5b9bce69-5d97-4580-e0bb-86b00bf17a22"
      },
      "id": "2Vr9ljmJqlU9",
      "execution_count": null,
      "outputs": [
        {
          "output_type": "execute_result",
          "data": {
            "text/plain": [
              "[0, 1, 4, 9, 16, 25, 36, 49, 64, 81]"
            ]
          },
          "metadata": {},
          "execution_count": 1
        }
      ]
    },
    {
      "cell_type": "code",
      "source": [
        "v = [ 2**x for x in range(13) ]\n",
        "v"
      ],
      "metadata": {
        "colab": {
          "base_uri": "https://localhost:8080/"
        },
        "id": "jmk_2zWyrHFk",
        "outputId": "d0c29a12-be43-4d25-d586-f42c5acdf20e"
      },
      "id": "jmk_2zWyrHFk",
      "execution_count": null,
      "outputs": [
        {
          "output_type": "execute_result",
          "data": {
            "text/plain": [
              "[1, 2, 4, 8, 16, 32, 64, 128, 256, 512, 1024, 2048, 4096]"
            ]
          },
          "metadata": {},
          "execution_count": 3
        }
      ]
    },
    {
      "cell_type": "code",
      "source": [
        "m = [x for x in s if x%2 == 0 ]\n",
        "m"
      ],
      "metadata": {
        "colab": {
          "base_uri": "https://localhost:8080/"
        },
        "id": "4FOi70XarHLi",
        "outputId": "8b579e9e-aa89-4255-c659-ab352de6a860"
      },
      "id": "4FOi70XarHLi",
      "execution_count": null,
      "outputs": [
        {
          "output_type": "execute_result",
          "data": {
            "text/plain": [
              "[0, 4, 16, 36, 64]"
            ]
          },
          "metadata": {},
          "execution_count": 4
        }
      ]
    },
    {
      "cell_type": "markdown",
      "source": [
        "● for문을 이용한 set"
      ],
      "metadata": {
        "id": "QTfA60Q1riGC"
      },
      "id": "QTfA60Q1riGC"
    },
    {
      "cell_type": "code",
      "source": [
        "{x**2 for x in range(10)}"
      ],
      "metadata": {
        "colab": {
          "base_uri": "https://localhost:8080/"
        },
        "id": "jCaJUz0XrHNn",
        "outputId": "e8c01e7e-0a3c-47a2-a47a-7e35eee63e08"
      },
      "id": "jCaJUz0XrHNn",
      "execution_count": null,
      "outputs": [
        {
          "output_type": "execute_result",
          "data": {
            "text/plain": [
              "{0, 1, 4, 9, 16, 25, 36, 49, 64, 81}"
            ]
          },
          "metadata": {},
          "execution_count": 6
        }
      ]
    },
    {
      "cell_type": "markdown",
      "source": [
        "● for문을 이용한 딕셔너리"
      ],
      "metadata": {
        "id": "oM9q2KZIrqm6"
      },
      "id": "oM9q2KZIrqm6"
    },
    {
      "cell_type": "code",
      "source": [
        "a_dict = {'a': 10, 'b':20, 'c':30}\n",
        "{value:key for key,value in list(a_dict.items())}"
      ],
      "metadata": {
        "colab": {
          "base_uri": "https://localhost:8080/"
        },
        "id": "DSJsxV2Qrs9S",
        "outputId": "13b32dde-1269-461a-ed27-78f40d4d9a1f"
      },
      "id": "DSJsxV2Qrs9S",
      "execution_count": null,
      "outputs": [
        {
          "output_type": "execute_result",
          "data": {
            "text/plain": [
              "{10: 'a', 20: 'b', 30: 'c'}"
            ]
          },
          "metadata": {},
          "execution_count": 7
        }
      ]
    },
    {
      "cell_type": "code",
      "source": [
        "a_dict.items()"
      ],
      "metadata": {
        "colab": {
          "base_uri": "https://localhost:8080/"
        },
        "id": "x2VrAZ9hsFlZ",
        "outputId": "dd825065-859e-4278-c54f-1711fac1762e"
      },
      "id": "x2VrAZ9hsFlZ",
      "execution_count": null,
      "outputs": [
        {
          "output_type": "execute_result",
          "data": {
            "text/plain": [
              "dict_items([('a', 10), ('b', 20), ('c', 30)])"
            ]
          },
          "metadata": {},
          "execution_count": 8
        }
      ]
    },
    {
      "cell_type": "markdown",
      "source": [
        "# 🔎 2. 함수"
      ],
      "metadata": {
        "id": "F-u9MeHNscxj"
      },
      "id": "F-u9MeHNscxj"
    },
    {
      "cell_type": "code",
      "source": [
        "def test(arg) :\n",
        "  print(arg, ': 입력매개 변수입니다')\n",
        "  return arg*10"
      ],
      "metadata": {
        "id": "imTEXJsHs6Iz"
      },
      "id": "imTEXJsHs6Iz",
      "execution_count": null,
      "outputs": []
    },
    {
      "cell_type": "code",
      "source": [
        "test(10)"
      ],
      "metadata": {
        "colab": {
          "base_uri": "https://localhost:8080/"
        },
        "id": "7brFk-_msxdO",
        "outputId": "d3da6163-ec99-49bf-f267-de69e27e0eab"
      },
      "id": "7brFk-_msxdO",
      "execution_count": null,
      "outputs": [
        {
          "output_type": "stream",
          "name": "stdout",
          "text": [
            "10 : 입력매개 변수입니다\n"
          ]
        },
        {
          "output_type": "execute_result",
          "data": {
            "text/plain": [
              "100"
            ]
          },
          "metadata": {},
          "execution_count": 2
        }
      ]
    },
    {
      "cell_type": "code",
      "source": [
        "def myAdd(num1, num2):\n",
        "  return num1 + num2\n",
        "\n",
        "myAdd(3,4)"
      ],
      "metadata": {
        "colab": {
          "base_uri": "https://localhost:8080/"
        },
        "id": "5aQEwJywtWHQ",
        "outputId": "3a988301-e6b0-49cd-fc7a-4f0ac7559468"
      },
      "id": "5aQEwJywtWHQ",
      "execution_count": null,
      "outputs": [
        {
          "output_type": "execute_result",
          "data": {
            "text/plain": [
              "7"
            ]
          },
          "metadata": {},
          "execution_count": 3
        }
      ]
    },
    {
      "cell_type": "code",
      "source": [
        "def mySum(end, start = 0) :\n",
        "  sum = 0\n",
        "  for i in range(start, end+1) :\n",
        "    sum += 1 \n",
        "  return sum\n",
        "\n",
        "mySum(10) #기본값 설정하면 매개변수 값 전달하지 않아도 됨"
      ],
      "metadata": {
        "colab": {
          "base_uri": "https://localhost:8080/"
        },
        "id": "h74PEoHatWJ0",
        "outputId": "c9923e70-ac15-49de-911c-543e7faa8a92"
      },
      "id": "h74PEoHatWJ0",
      "execution_count": null,
      "outputs": [
        {
          "output_type": "execute_result",
          "data": {
            "text/plain": [
              "11"
            ]
          },
          "metadata": {},
          "execution_count": 4
        }
      ]
    },
    {
      "cell_type": "code",
      "source": [
        "mySum(10,5)"
      ],
      "metadata": {
        "colab": {
          "base_uri": "https://localhost:8080/"
        },
        "id": "HiQFMYjbtWPG",
        "outputId": "254728b9-5d44-4ca7-b43d-6d0e5d490deb"
      },
      "id": "HiQFMYjbtWPG",
      "execution_count": null,
      "outputs": [
        {
          "output_type": "execute_result",
          "data": {
            "text/plain": [
              "6"
            ]
          },
          "metadata": {},
          "execution_count": 5
        }
      ]
    },
    {
      "cell_type": "code",
      "source": [
        "def printInfo(name, age) :\n",
        "  print('name:', name, 'age :', age)\n",
        "\n",
        "printInfo(age = 33, name = '홍길동') #순서 상관 없음"
      ],
      "metadata": {
        "id": "xMulcdKZtWRL",
        "colab": {
          "base_uri": "https://localhost:8080/"
        },
        "outputId": "9d3e7576-5032-42b3-8e4e-bdc1202b2449"
      },
      "id": "xMulcdKZtWRL",
      "execution_count": 6,
      "outputs": [
        {
          "output_type": "stream",
          "name": "stdout",
          "text": [
            "name: 홍길동 age : 33\n"
          ]
        }
      ]
    },
    {
      "cell_type": "code",
      "source": [
        "def add(*args) :\n",
        "  sum = 0\n",
        "  for i in args :\n",
        "    sum += i\n",
        "  return sum\n",
        "\n",
        "print(add(1,2,3))\n",
        "print(add(1,2,3,4,5))\n",
        "v = [1,2,3]\n",
        "print(add(*v))"
      ],
      "metadata": {
        "colab": {
          "base_uri": "https://localhost:8080/"
        },
        "id": "lL3zBbslw_lG",
        "outputId": "fb3df6ce-df83-4cda-b891-7d7bd2ab9c9f"
      },
      "id": "lL3zBbslw_lG",
      "execution_count": 8,
      "outputs": [
        {
          "output_type": "stream",
          "name": "stdout",
          "text": [
            "6\n",
            "15\n",
            "6\n"
          ]
        }
      ]
    },
    {
      "cell_type": "code",
      "source": [
        "def printInfo(**args) :\n",
        "  print(args)\n",
        "\n",
        "printInfo(a=1, b=2)\n",
        "dict = {'aa' : 3, 'bb' : 4}\n",
        "printInfo(**dict)"
      ],
      "metadata": {
        "colab": {
          "base_uri": "https://localhost:8080/"
        },
        "id": "hYPM6ih1xk8Q",
        "outputId": "babd2ed8-3af8-42a9-f127-2cb1e6bf3348"
      },
      "id": "hYPM6ih1xk8Q",
      "execution_count": 10,
      "outputs": [
        {
          "output_type": "stream",
          "name": "stdout",
          "text": [
            "{'a': 1, 'b': 2}\n",
            "{'aa': 3, 'bb': 4}\n"
          ]
        }
      ]
    },
    {
      "cell_type": "markdown",
      "source": [
        "### 💡연습문제 "
      ],
      "metadata": {
        "id": "AbctFnhvz-le"
      },
      "id": "AbctFnhvz-le"
    },
    {
      "cell_type": "code",
      "source": [
        "def bigal(alpa) :\n",
        "  alpa = alpa.upper()\n",
        "  return alpa\n",
        "\n",
        "bigal('abc')"
      ],
      "metadata": {
        "colab": {
          "base_uri": "https://localhost:8080/",
          "height": 36
        },
        "id": "EK9CSnBIz91D",
        "outputId": "3035c07f-fc3e-4675-8dc8-9f27fccb1f6c"
      },
      "id": "EK9CSnBIz91D",
      "execution_count": 12,
      "outputs": [
        {
          "output_type": "execute_result",
          "data": {
            "application/vnd.google.colaboratory.intrinsic+json": {
              "type": "string"
            },
            "text/plain": [
              "'ABC'"
            ]
          },
          "metadata": {},
          "execution_count": 12
        }
      ]
    },
    {
      "cell_type": "code",
      "source": [
        "def cal_many(choice, *args) :\n",
        "  sum = 0\n",
        "  mul = 1\n",
        "\n",
        "  if choice == 'sum' :\n",
        "    for i in args :\n",
        "      sum += i\n",
        "    return sum\n",
        "\n",
        "  if choice == 'mul' :\n",
        "    for i in args :\n",
        "      mul *= i\n",
        "    return mul\n",
        "    "
      ],
      "metadata": {
        "id": "8ti39XCq0o3-"
      },
      "id": "8ti39XCq0o3-",
      "execution_count": 13,
      "outputs": []
    },
    {
      "cell_type": "code",
      "source": [
        "cal_many('sum', 1,2,3)\n"
      ],
      "metadata": {
        "colab": {
          "base_uri": "https://localhost:8080/"
        },
        "id": "FthSqg7G1LGV",
        "outputId": "f70f39e4-105a-4c57-8866-0ac4287407e4"
      },
      "id": "FthSqg7G1LGV",
      "execution_count": 14,
      "outputs": [
        {
          "output_type": "execute_result",
          "data": {
            "text/plain": [
              "6"
            ]
          },
          "metadata": {},
          "execution_count": 14
        }
      ]
    },
    {
      "cell_type": "code",
      "source": [
        "cal_many('mul', 1,2,3,4)"
      ],
      "metadata": {
        "colab": {
          "base_uri": "https://localhost:8080/"
        },
        "id": "6lp3bQth1SuU",
        "outputId": "3f58b4a6-5d27-4990-eeea-99d01d4700bd"
      },
      "id": "6lp3bQth1SuU",
      "execution_count": 19,
      "outputs": [
        {
          "output_type": "execute_result",
          "data": {
            "text/plain": [
              "24"
            ]
          },
          "metadata": {},
          "execution_count": 19
        }
      ]
    },
    {
      "cell_type": "code",
      "source": [
        "cal_many('sum', *[1,2,3,4])"
      ],
      "metadata": {
        "colab": {
          "base_uri": "https://localhost:8080/"
        },
        "id": "PAnnbQsw1Sw6",
        "outputId": "3ef72063-0ba1-4a88-a871-9074423af1ef"
      },
      "id": "PAnnbQsw1Sw6",
      "execution_count": 20,
      "outputs": [
        {
          "output_type": "execute_result",
          "data": {
            "text/plain": [
              "10"
            ]
          },
          "metadata": {},
          "execution_count": 20
        }
      ]
    },
    {
      "cell_type": "code",
      "source": [
        "result = lambda x : x*2\n",
        "print(result(5))"
      ],
      "metadata": {
        "colab": {
          "base_uri": "https://localhost:8080/"
        },
        "id": "WxfnAkoM1S14",
        "outputId": "76234b68-34c1-4144-e05e-baa6470eeb5e"
      },
      "id": "WxfnAkoM1S14",
      "execution_count": 21,
      "outputs": [
        {
          "output_type": "stream",
          "name": "stdout",
          "text": [
            "10\n"
          ]
        }
      ]
    },
    {
      "cell_type": "markdown",
      "source": [
        "● 내장함수"
      ],
      "metadata": {
        "id": "tp50S6ij5h5s"
      },
      "id": "tp50S6ij5h5s"
    },
    {
      "cell_type": "code",
      "source": [
        "dir(__builtin__) #내장함수 조회"
      ],
      "metadata": {
        "colab": {
          "base_uri": "https://localhost:8080/"
        },
        "id": "aVshlgx85gVu",
        "outputId": "a0c67b34-08b9-4542-ef88-3b5c481fb216"
      },
      "id": "aVshlgx85gVu",
      "execution_count": 23,
      "outputs": [
        {
          "output_type": "execute_result",
          "data": {
            "text/plain": [
              "['ArithmeticError',\n",
              " 'AssertionError',\n",
              " 'AttributeError',\n",
              " 'BaseException',\n",
              " 'BlockingIOError',\n",
              " 'BrokenPipeError',\n",
              " 'BufferError',\n",
              " 'BytesWarning',\n",
              " 'ChildProcessError',\n",
              " 'ConnectionAbortedError',\n",
              " 'ConnectionError',\n",
              " 'ConnectionRefusedError',\n",
              " 'ConnectionResetError',\n",
              " 'DeprecationWarning',\n",
              " 'EOFError',\n",
              " 'Ellipsis',\n",
              " 'EnvironmentError',\n",
              " 'Exception',\n",
              " 'False',\n",
              " 'FileExistsError',\n",
              " 'FileNotFoundError',\n",
              " 'FloatingPointError',\n",
              " 'FutureWarning',\n",
              " 'GeneratorExit',\n",
              " 'IOError',\n",
              " 'ImportError',\n",
              " 'ImportWarning',\n",
              " 'IndentationError',\n",
              " 'IndexError',\n",
              " 'InterruptedError',\n",
              " 'IsADirectoryError',\n",
              " 'KeyError',\n",
              " 'KeyboardInterrupt',\n",
              " 'LookupError',\n",
              " 'MemoryError',\n",
              " 'ModuleNotFoundError',\n",
              " 'NameError',\n",
              " 'None',\n",
              " 'NotADirectoryError',\n",
              " 'NotImplemented',\n",
              " 'NotImplementedError',\n",
              " 'OSError',\n",
              " 'OverflowError',\n",
              " 'PendingDeprecationWarning',\n",
              " 'PermissionError',\n",
              " 'ProcessLookupError',\n",
              " 'RecursionError',\n",
              " 'ReferenceError',\n",
              " 'ResourceWarning',\n",
              " 'RuntimeError',\n",
              " 'RuntimeWarning',\n",
              " 'StopAsyncIteration',\n",
              " 'StopIteration',\n",
              " 'SyntaxError',\n",
              " 'SyntaxWarning',\n",
              " 'SystemError',\n",
              " 'SystemExit',\n",
              " 'TabError',\n",
              " 'TimeoutError',\n",
              " 'True',\n",
              " 'TypeError',\n",
              " 'UnboundLocalError',\n",
              " 'UnicodeDecodeError',\n",
              " 'UnicodeEncodeError',\n",
              " 'UnicodeError',\n",
              " 'UnicodeTranslateError',\n",
              " 'UnicodeWarning',\n",
              " 'UserWarning',\n",
              " 'ValueError',\n",
              " 'Warning',\n",
              " 'ZeroDivisionError',\n",
              " '__IPYTHON__',\n",
              " '__build_class__',\n",
              " '__debug__',\n",
              " '__doc__',\n",
              " '__import__',\n",
              " '__loader__',\n",
              " '__name__',\n",
              " '__package__',\n",
              " '__spec__',\n",
              " 'abs',\n",
              " 'all',\n",
              " 'any',\n",
              " 'ascii',\n",
              " 'bin',\n",
              " 'bool',\n",
              " 'breakpoint',\n",
              " 'bytearray',\n",
              " 'bytes',\n",
              " 'callable',\n",
              " 'chr',\n",
              " 'classmethod',\n",
              " 'compile',\n",
              " 'complex',\n",
              " 'copyright',\n",
              " 'credits',\n",
              " 'delattr',\n",
              " 'dict',\n",
              " 'dir',\n",
              " 'display',\n",
              " 'divmod',\n",
              " 'dreload',\n",
              " 'enumerate',\n",
              " 'eval',\n",
              " 'exec',\n",
              " 'execfile',\n",
              " 'filter',\n",
              " 'float',\n",
              " 'format',\n",
              " 'frozenset',\n",
              " 'get_ipython',\n",
              " 'getattr',\n",
              " 'globals',\n",
              " 'hasattr',\n",
              " 'hash',\n",
              " 'help',\n",
              " 'hex',\n",
              " 'id',\n",
              " 'input',\n",
              " 'int',\n",
              " 'isinstance',\n",
              " 'issubclass',\n",
              " 'iter',\n",
              " 'len',\n",
              " 'license',\n",
              " 'list',\n",
              " 'locals',\n",
              " 'map',\n",
              " 'max',\n",
              " 'memoryview',\n",
              " 'min',\n",
              " 'next',\n",
              " 'object',\n",
              " 'oct',\n",
              " 'open',\n",
              " 'ord',\n",
              " 'pow',\n",
              " 'print',\n",
              " 'property',\n",
              " 'range',\n",
              " 'repr',\n",
              " 'reversed',\n",
              " 'round',\n",
              " 'runfile',\n",
              " 'set',\n",
              " 'setattr',\n",
              " 'slice',\n",
              " 'sorted',\n",
              " 'staticmethod',\n",
              " 'str',\n",
              " 'sum',\n",
              " 'super',\n",
              " 'tuple',\n",
              " 'type',\n",
              " 'vars',\n",
              " 'zip']"
            ]
          },
          "metadata": {},
          "execution_count": 23
        }
      ]
    },
    {
      "cell_type": "code",
      "source": [
        "dir('hello') #객체가 가지고 있는 변수나 함수를 보여줌"
      ],
      "metadata": {
        "colab": {
          "base_uri": "https://localhost:8080/"
        },
        "id": "pBYIxCYL5gYT",
        "outputId": "5f476334-6837-48b2-ddc2-30926900eda3"
      },
      "id": "pBYIxCYL5gYT",
      "execution_count": 24,
      "outputs": [
        {
          "output_type": "execute_result",
          "data": {
            "text/plain": [
              "['__add__',\n",
              " '__class__',\n",
              " '__contains__',\n",
              " '__delattr__',\n",
              " '__dir__',\n",
              " '__doc__',\n",
              " '__eq__',\n",
              " '__format__',\n",
              " '__ge__',\n",
              " '__getattribute__',\n",
              " '__getitem__',\n",
              " '__getnewargs__',\n",
              " '__gt__',\n",
              " '__hash__',\n",
              " '__init__',\n",
              " '__init_subclass__',\n",
              " '__iter__',\n",
              " '__le__',\n",
              " '__len__',\n",
              " '__lt__',\n",
              " '__mod__',\n",
              " '__mul__',\n",
              " '__ne__',\n",
              " '__new__',\n",
              " '__reduce__',\n",
              " '__reduce_ex__',\n",
              " '__repr__',\n",
              " '__rmod__',\n",
              " '__rmul__',\n",
              " '__setattr__',\n",
              " '__sizeof__',\n",
              " '__str__',\n",
              " '__subclasshook__',\n",
              " 'capitalize',\n",
              " 'casefold',\n",
              " 'center',\n",
              " 'count',\n",
              " 'encode',\n",
              " 'endswith',\n",
              " 'expandtabs',\n",
              " 'find',\n",
              " 'format',\n",
              " 'format_map',\n",
              " 'index',\n",
              " 'isalnum',\n",
              " 'isalpha',\n",
              " 'isascii',\n",
              " 'isdecimal',\n",
              " 'isdigit',\n",
              " 'isidentifier',\n",
              " 'islower',\n",
              " 'isnumeric',\n",
              " 'isprintable',\n",
              " 'isspace',\n",
              " 'istitle',\n",
              " 'isupper',\n",
              " 'join',\n",
              " 'ljust',\n",
              " 'lower',\n",
              " 'lstrip',\n",
              " 'maketrans',\n",
              " 'partition',\n",
              " 'replace',\n",
              " 'rfind',\n",
              " 'rindex',\n",
              " 'rjust',\n",
              " 'rpartition',\n",
              " 'rsplit',\n",
              " 'rstrip',\n",
              " 'split',\n",
              " 'splitlines',\n",
              " 'startswith',\n",
              " 'strip',\n",
              " 'swapcase',\n",
              " 'title',\n",
              " 'translate',\n",
              " 'upper',\n",
              " 'zfill']"
            ]
          },
          "metadata": {},
          "execution_count": 24
        }
      ]
    },
    {
      "cell_type": "code",
      "source": [
        "id('hello') #객체 고유 주소 값"
      ],
      "metadata": {
        "colab": {
          "base_uri": "https://localhost:8080/"
        },
        "id": "GOxTcQkC5_qH",
        "outputId": "a9b229b3-ce50-4b4d-b433-0850cfa356ed"
      },
      "id": "GOxTcQkC5_qH",
      "execution_count": 25,
      "outputs": [
        {
          "output_type": "execute_result",
          "data": {
            "text/plain": [
              "140209922197232"
            ]
          },
          "metadata": {},
          "execution_count": 25
        }
      ]
    },
    {
      "cell_type": "code",
      "source": [
        "list(enumerate(['a','b','c']))\n",
        "a = ['a','b','c']"
      ],
      "metadata": {
        "id": "ika19tof6Vo2"
      },
      "id": "ika19tof6Vo2",
      "execution_count": 27,
      "outputs": []
    },
    {
      "cell_type": "code",
      "source": [
        "for index, el in enumerate(a) :\n",
        "  print(index)\n",
        "  print(el)\n",
        "  print('=======')"
      ],
      "metadata": {
        "colab": {
          "base_uri": "https://localhost:8080/"
        },
        "id": "kN-trE1U5gkQ",
        "outputId": "902501b1-e0e8-4951-f1ee-b548fd858527"
      },
      "id": "kN-trE1U5gkQ",
      "execution_count": 29,
      "outputs": [
        {
          "output_type": "stream",
          "name": "stdout",
          "text": [
            "0\n",
            "a\n",
            "=======\n",
            "1\n",
            "b\n",
            "=======\n",
            "2\n",
            "c\n",
            "=======\n"
          ]
        }
      ]
    },
    {
      "cell_type": "markdown",
      "source": [
        "(1) zip"
      ],
      "metadata": {
        "id": "s5wPfli--eK6"
      },
      "id": "s5wPfli--eK6"
    },
    {
      "cell_type": "code",
      "source": [
        "\n",
        "a = [1,2,3]\n",
        "b = ['a','b','c']\n",
        "list(zip([a,b]))"
      ],
      "metadata": {
        "colab": {
          "base_uri": "https://localhost:8080/"
        },
        "id": "xpy-yB6J9JEX",
        "outputId": "72995ec7-ee2b-4b97-833e-b5ae96e51735"
      },
      "id": "xpy-yB6J9JEX",
      "execution_count": 30,
      "outputs": [
        {
          "output_type": "execute_result",
          "data": {
            "text/plain": [
              "[([1, 2, 3],), (['a', 'b', 'c'],)]"
            ]
          },
          "metadata": {},
          "execution_count": 30
        }
      ]
    },
    {
      "cell_type": "code",
      "source": [
        "for e1, e2 in zip(a,b) :\n",
        "  print(e1)\n",
        "  print(e2)\n",
        "  print('=======')"
      ],
      "metadata": {
        "colab": {
          "base_uri": "https://localhost:8080/"
        },
        "id": "FTXDJ6L-9ap1",
        "outputId": "36aa180a-c41f-4c9e-bbd6-61816528e05f"
      },
      "id": "FTXDJ6L-9ap1",
      "execution_count": 31,
      "outputs": [
        {
          "output_type": "stream",
          "name": "stdout",
          "text": [
            "1\n",
            "a\n",
            "=======\n",
            "2\n",
            "b\n",
            "=======\n",
            "3\n",
            "c\n",
            "=======\n"
          ]
        }
      ]
    },
    {
      "cell_type": "markdown",
      "source": [
        "(2) map(함수, 입력) : 입력 받은 자료형의 각 요소를 함수에 적용"
      ],
      "metadata": {
        "id": "2dBV1uaM-ZQV"
      },
      "id": "2dBV1uaM-ZQV"
    },
    {
      "cell_type": "code",
      "source": [
        "a = [1,2,3,4]\n",
        "\n",
        "new_a = list(map(lambda x : x**2, a))\n",
        "new_a"
      ],
      "metadata": {
        "colab": {
          "base_uri": "https://localhost:8080/"
        },
        "id": "V3gZs_TY9m-N",
        "outputId": "d8ae11f3-0185-4e6d-8a2b-595e58ebeaf2"
      },
      "id": "V3gZs_TY9m-N",
      "execution_count": 32,
      "outputs": [
        {
          "output_type": "execute_result",
          "data": {
            "text/plain": [
              "[1, 4, 9, 16]"
            ]
          },
          "metadata": {},
          "execution_count": 32
        }
      ]
    },
    {
      "cell_type": "markdown",
      "source": [
        "(3) filter"
      ],
      "metadata": {
        "id": "OBRLc68C-jkv"
      },
      "id": "OBRLc68C-jkv"
    },
    {
      "cell_type": "code",
      "source": [
        "a = [1,2,3,4,5,6,7,8,9,10]\n",
        "\n",
        "new_a = list(filter(lambda x : x%2 == 0, a))\n",
        "new_a"
      ],
      "metadata": {
        "colab": {
          "base_uri": "https://localhost:8080/"
        },
        "id": "GwUpA5g69nFp",
        "outputId": "e195e174-f5d4-411a-a6ff-029600daf29e"
      },
      "id": "GwUpA5g69nFp",
      "execution_count": 33,
      "outputs": [
        {
          "output_type": "execute_result",
          "data": {
            "text/plain": [
              "[2, 4, 6, 8, 10]"
            ]
          },
          "metadata": {},
          "execution_count": 33
        }
      ]
    },
    {
      "cell_type": "code",
      "execution_count": null,
      "id": "fe7efb6b",
      "metadata": {
        "id": "fe7efb6b"
      },
      "outputs": [],
      "source": [
        "#워크샵, 머신러닝 문제도 해보기"
      ]
    },
    {
      "cell_type": "markdown",
      "source": [
        "# 1. 3월 8일 과목 평가 범위\n",
        "\n",
        "\"[사전 평가]\n",
        "\n",
        "파이썬, 판다스, 머신러닝\n",
        "\n",
        "파이썬 개요 및 실습 환경\n",
        "\n",
        "변수 및 데이터 타입\n",
        "\n",
        "파이썬 자료구조1\n",
        "\n",
        "[Daily Workshop]\"\n",
        "\n",
        "\"파이썬 자료구조2\n",
        "\n",
        "제어문(조건,  반복문)\n",
        "\n",
        "[Daily Workshop]\"\n",
        "\n",
        "\"함수 생성과 호출\n",
        "\n",
        "함수 응용\n",
        "\n",
        "[Daily Workshop]\"\n",
        "\n",
        "\"lambda, 내장함수\n",
        "\n",
        "클래스 정의와 객체 생성\n",
        "\n",
        "[Daily Workshop]\"\n",
        "\n",
        "\"모듈 및 패키지\n",
        "\n",
        "예외 처리\n",
        "\n",
        "[Daily Workshop]\"\n",
        "\n",
        "---\n",
        "\n",
        "글로벌 x (교재에 없음)\n",
        "\n",
        "\n",
        "manage라는 과목 평가\n",
        "\n",
        "개인별 들어간 대로 시험시작\n",
        "\n",
        "천천히 해도 됨\n",
        "\n",
        "수업 시간 어려운 내용 없음\n",
        "\n",
        "---\n",
        "\n",
        "\n",
        "\n",
        "# 2. 과제\n",
        "\n",
        "3월 8일에 두 문제 줌 (2주 동안 풀면 됨)\n",
        "\n",
        "1~2시간 걸릴듯"
      ],
      "metadata": {
        "id": "iNX-BF8vsCCS"
      },
      "id": "iNX-BF8vsCCS"
    }
  ],
  "metadata": {
    "kernelspec": {
      "display_name": "Python 3 (ipykernel)",
      "language": "python",
      "name": "python3"
    },
    "language_info": {
      "codemirror_mode": {
        "name": "ipython",
        "version": 3
      },
      "file_extension": ".py",
      "mimetype": "text/x-python",
      "name": "python",
      "nbconvert_exporter": "python",
      "pygments_lexer": "ipython3",
      "version": "3.9.7"
    },
    "colab": {
      "name": "KB_0304_python.ipynb",
      "provenance": [],
      "collapsed_sections": [],
      "include_colab_link": true
    }
  },
  "nbformat": 4,
  "nbformat_minor": 5
}
