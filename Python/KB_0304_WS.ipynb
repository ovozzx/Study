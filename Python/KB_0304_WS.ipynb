{
  "cells": [
    {
      "cell_type": "markdown",
      "metadata": {
        "id": "view-in-github",
        "colab_type": "text"
      },
      "source": [
        "<a href=\"https://colab.research.google.com/github/ovozzx/Study/blob/main/WS_DAY3_%EB%AC%B8%EC%A0%9C.ipynb\" target=\"_parent\"><img src=\"https://colab.research.google.com/assets/colab-badge.svg\" alt=\"Open In Colab\"/></a>"
      ]
    },
    {
      "cell_type": "markdown",
      "source": [
        "## 🟡.py로 제출"
      ],
      "metadata": {
        "id": "eCBvTMYy2Vmk"
      }
    },
    {
      "cell_type": "markdown",
      "metadata": {
        "id": "KLpv6cPtu-oC"
      },
      "source": [
        "### Q1. 넒이 계산기\n",
        "- 도형의 모양과 정보를 입력받아 넓이를 출력하는 함수를 작성하세요.\n",
        "- 매개변수 : width = 0, height = 0, radius = 0, pi = 3.14, shape = '' (모두 디폴트 매개변수로 설정)\n",
        "- shape가 'circle' 이면 원의 넓이, 'triangle' 이면 삼각형의 넓이, 'rectangle' 이면 사각형의 넓이를 출력하세요."
      ]
    },
    {
      "cell_type": "code",
      "execution_count": null,
      "metadata": {
        "ExecuteTime": {
          "end_time": "2022-02-17T08:30:50.493788Z",
          "start_time": "2022-02-17T08:30:50.470424Z"
        },
        "id": "RLppnYOtu-oG"
      },
      "outputs": [],
      "source": [
        "# 위에 정의한 내용을 참고하여 getArea() 함수를 정의하세요\n",
        "\n",
        "def getArea(width = 0, height = 0, radius = 0, pi = 3.14, shape = ''):\n",
        "  \n",
        "  if shape == \"triangle\": #삼각형\n",
        "    area = width*height*(1/2)\n",
        "    return area\n",
        "\n",
        "  if shape == \"rectangle\": #사각형\n",
        "    area = width*height\n",
        "    return area\n",
        "\n",
        "  if shape == \"circle\": #원\n",
        "    area = radius*radius*pi\n",
        "    return area\n",
        "\n"
      ]
    },
    {
      "cell_type": "code",
      "execution_count": null,
      "metadata": {
        "ExecuteTime": {
          "end_time": "2022-02-17T08:30:50.611060Z",
          "start_time": "2022-02-17T08:30:50.595058Z"
        },
        "colab": {
          "base_uri": "https://localhost:8080/"
        },
        "id": "B7APlMObu-oI",
        "outputId": "ae89ebfc-4780-4137-b9b8-7e7d8af7df48"
      },
      "outputs": [
        {
          "output_type": "stream",
          "name": "stdout",
          "text": [
            "200\n",
            "100.0\n",
            "314.0\n",
            "314.1592\n"
          ]
        }
      ],
      "source": [
        "# width 10, height 20 인 직사각형의 넓이를 구하세요.\n",
        "print(getArea(10, 20, shape = 'rectangle')) #인자 없이 넘어오면, 위치 순서에 따라!\n",
        "\n",
        "# width 10, height 20 인 삼각형의 넓이를 구하세요.\n",
        "print(getArea(10, 20, shape = 'triangle'))\n",
        "\n",
        "# radius 10 인 원의 넓이를 구하세요.\n",
        "print(getArea(radius = 10, shape = 'circle'))\n",
        "\n",
        "# radius 10, pi 3.141592 인 원의 넓이를 구하세요.\n",
        "print(getArea(radius = 10, pi = 3.141592, shape = 'circle'))"
      ]
    },
    {
      "cell_type": "markdown",
      "metadata": {
        "id": "X1nxE2LTu-oJ"
      },
      "source": [
        "<br/>\n",
        "<br/>\n",
        "<br/>\n",
        "<br/>"
      ]
    },
    {
      "cell_type": "markdown",
      "metadata": {
        "id": "efh-ZaQdu-oK"
      },
      "source": [
        "### Q2. 학점 계산기\n",
        "- 학점을 입력받아 평균 점수를 반환하는 함수를 작성하세요.\n",
        "- 매개변수 : grades (학점이 ','로 구분되어있는 문자열)\n",
        "    - ex) \"A+,B,D,B+,C\"\n",
        "- 다음 점수 변환 규칙에 따라 계산하여 평균 점수를 리턴\n",
        "    - 'A+' : 4.5, 'A' : 4.0, 'B+' : 3.5, 'B': 3.0, 'C' : 2.0, 'D' : 1.0"
      ]
    },
    {
      "cell_type": "code",
      "execution_count": null,
      "metadata": {
        "ExecuteTime": {
          "end_time": "2022-02-17T08:35:18.674040Z",
          "start_time": "2022-02-17T08:35:18.650695Z"
        },
        "id": "KyUsbDiDu-oK"
      },
      "outputs": [],
      "source": [
        "# getMeanScore() 함수를 정의하세요\n",
        "import numpy as np\n",
        "\n",
        "\n",
        "def getMeanScore (grades):\n",
        "  grades = grades.split(',')\n",
        "  arr = [] \n",
        "\n",
        "  for i in grades :\n",
        "    if i == 'A+' :\n",
        "      arr.append(4.5)\n",
        "\n",
        "    if i == 'A' :\n",
        "      arr.append(4.0)\n",
        "\n",
        "    if i == 'B+' :\n",
        "      arr.append(3.5)\n",
        "\n",
        "    if i == 'B' :\n",
        "      arr.append(3.0)\n",
        "\n",
        "    if i == 'C' :\n",
        "      arr.append(2.0)\n",
        "\n",
        "    if i == 'D' :\n",
        "      arr.append(1.0)                      \n",
        "\n",
        "  return np.mean(arr)\n",
        "\n",
        "\n",
        "\n",
        "\n",
        "\n"
      ]
    },
    {
      "cell_type": "code",
      "execution_count": null,
      "metadata": {
        "ExecuteTime": {
          "end_time": "2022-02-17T08:35:22.585550Z",
          "start_time": "2022-02-17T08:35:18.800880Z"
        },
        "colab": {
          "base_uri": "https://localhost:8080/"
        },
        "id": "SXbl0Z7qu-oL",
        "outputId": "370eb166-3bff-451b-8be1-1d1909e314f6"
      },
      "outputs": [
        {
          "name": "stdout",
          "output_type": "stream",
          "text": [
            "학점을 입력하세요.(ex. A+,B,D,B+,C) : A+,B,D,B+,C\n"
          ]
        },
        {
          "output_type": "execute_result",
          "data": {
            "text/plain": [
              "2.8"
            ]
          },
          "metadata": {},
          "execution_count": 17
        }
      ],
      "source": [
        "# 코드를 실행하세요.\n",
        "grades = input('학점을 입력하세요.(ex. A+,B,D,B+,C) : ')\n",
        "getMeanScore(grades)"
      ]
    },
    {
      "cell_type": "markdown",
      "metadata": {
        "id": "o6YO5JRIu-oM"
      },
      "source": [
        "<br/>\n",
        "<br/>\n",
        "<br/>\n",
        "<br/>"
      ]
    },
    {
      "cell_type": "markdown",
      "metadata": {
        "id": "URsWvnqxu-oN"
      },
      "source": [
        "### Q3. 인형 옮기기 --> 하지말기\n",
        "- 인형 뽑기 기계를 이용하여 인형의 위치를 한 곳에서 다른 한 곳으로 옮길 수 있습니다.\n",
        "- 인형은 중력의 영향을 받아 아래로 떨어지며, 인형을 집을 때는 해당 위치의 가장 위에 있는 인형만 선택 가능합니다.\n",
        "- 위아래로 있는 인형의 종류가 같다면 뽑기에 성공하여 빈 공간으로 채워집니다.\n",
        "- 인형의 배열은 2차원 리스트로 이루어져 있으며 0은 빈 공간, 1, 2, 3은 인형의 종류를 의미합니다.\n",
        "- start 위치에서 end 위치로 인형을 옮기는 함수를 작성하세요.\n",
        "    - 매개변수 : start(출발), end(도착)\n",
        "    - start 위치의 맨 위 인형의 종류와 end 위치의 맨 위 인형의 종류가 같다면 두 위치의 값을 0으로 수정하세요.\n",
        "    - 다르다면 start 위치의 맨 위 인형을 end 위치의 맨 위 위에 위치시키고, 기존 위치의 값을 0으로 수정하세요.\n",
        "    - 천장을 뚫거나 같은 위치로의 이동이나 인형이 없는 위치를 선택하는 등의 예외는 없다고 가정  "
      ]
    },
    {
      "cell_type": "markdown",
      "metadata": {
        "id": "rMdmJuW0u-oN"
      },
      "source": [
        "![이미지](성공실패.png)"
      ]
    },
    {
      "cell_type": "code",
      "execution_count": null,
      "metadata": {
        "ExecuteTime": {
          "end_time": "2022-02-17T09:03:08.497002Z",
          "start_time": "2022-02-17T09:03:08.480967Z"
        },
        "id": "Khfgesqyu-oO"
      },
      "outputs": [],
      "source": [
        "\n",
        "\n",
        "\n",
        "\n",
        "\n",
        "\n",
        "\n",
        "\n",
        "\n",
        "\n",
        "\n",
        "\n"
      ]
    },
    {
      "cell_type": "code",
      "execution_count": null,
      "metadata": {
        "ExecuteTime": {
          "end_time": "2022-02-17T09:04:13.308489Z",
          "start_time": "2022-02-17T09:03:55.123378Z"
        },
        "id": "cFBteWhJu-oO",
        "outputId": "8f0eae0a-ca05-4696-cf6a-882ec3a88688"
      },
      "outputs": [
        {
          "name": "stdout",
          "output_type": "stream",
          "text": [
            "인형의 종류가 같습니다!\n"
          ]
        },
        {
          "data": {
            "text/plain": [
              "[[0, 0, 0, 0, 0],\n",
              " [0, 0, 0, 0, 0],\n",
              " [0, 0, 0, 0, 0],\n",
              " [0, 0, 0, 0, 0],\n",
              " [0, 0, 0, 0, 0]]"
            ]
          },
          "metadata": {},
          "output_type": "display_data"
        },
        {
          "name": "stdout",
          "output_type": "stream",
          "text": [
            "인형을 모두 뽑았습니다.\n"
          ]
        }
      ],
      "source": [
        "\n",
        "\n",
        "\n",
        "\n",
        "\n",
        "\n",
        "\n",
        "\n",
        "\n",
        "\n",
        "\n",
        "\n",
        "\n",
        "\n",
        "\n",
        "\n"
      ]
    },
    {
      "cell_type": "code",
      "execution_count": null,
      "metadata": {
        "id": "4qr6kCtKu-oP"
      },
      "outputs": [],
      "source": [
        ""
      ]
    }
  ],
  "metadata": {
    "kernelspec": {
      "display_name": "Python 3 (ipykernel)",
      "language": "python",
      "name": "python3"
    },
    "language_info": {
      "codemirror_mode": {
        "name": "ipython",
        "version": 3
      },
      "file_extension": ".py",
      "mimetype": "text/x-python",
      "name": "python",
      "nbconvert_exporter": "python",
      "pygments_lexer": "ipython3",
      "version": "3.9.7"
    },
    "toc": {
      "base_numbering": 1,
      "nav_menu": {},
      "number_sections": true,
      "sideBar": true,
      "skip_h1_title": false,
      "title_cell": "Table of Contents",
      "title_sidebar": "Contents",
      "toc_cell": false,
      "toc_position": {},
      "toc_section_display": true,
      "toc_window_display": false
    },
    "varInspector": {
      "cols": {
        "lenName": 16,
        "lenType": 16,
        "lenVar": 40
      },
      "kernels_config": {
        "python": {
          "delete_cmd_postfix": "",
          "delete_cmd_prefix": "del ",
          "library": "var_list.py",
          "varRefreshCmd": "print(var_dic_list())"
        },
        "r": {
          "delete_cmd_postfix": ") ",
          "delete_cmd_prefix": "rm(",
          "library": "var_list.r",
          "varRefreshCmd": "cat(var_dic_list()) "
        }
      },
      "types_to_exclude": [
        "module",
        "function",
        "builtin_function_or_method",
        "instance",
        "_Feature"
      ],
      "window_display": false
    },
    "colab": {
      "name": "WS_DAY3-문제.ipynb",
      "provenance": [],
      "collapsed_sections": [],
      "include_colab_link": true
    }
  },
  "nbformat": 4,
  "nbformat_minor": 0
}
