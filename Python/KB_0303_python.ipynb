{
 "cells": [
  {
   "cell_type": "markdown",
   "id": "bd944982",
   "metadata": {},
   "source": [
    " # ☑️ 3월 3일 수업 : Python 기본 문법 강의"
   ]
  },
  {
   "cell_type": "markdown",
   "id": "edb4e5b2",
   "metadata": {},
   "source": [
    "## ● 셀 종류\n",
    "\n",
    "1) 코드\n",
    "\n",
    "2) Text : 마크다운 → HTML 태크 축약형 ex) hello.md\n",
    "    \n",
    "## ●  웹\n",
    "\n",
    "1) 장고\n",
    "\n",
    "2) Flask(더 간단) : 요청주소 → 함수 (입력, 데이터, 출력)\n",
    "    \n",
    "---\n"
   ]
  },
  {
   "cell_type": "markdown",
   "id": "f5783746",
   "metadata": {},
   "source": [
    "## ● 마크다운\n",
    "\n",
    "1) 제목 : # 하고 한 칸 띄우기 \n",
    "\n",
    "2) 그냥 목록 : - 하고 한 칸 띄우기\n",
    "\n",
    "\n",
    "ex)\n",
    "\n",
    "\n",
    "### KB은행 AI 과정\n",
    "\n",
    "- 파이썬\n",
    "- 크롤링\n",
    "- 빅데이터\n",
    "- 머신러닝\n",
    "- 딥러닝\n",
    "- 챗봇\n",
    "- 장고 프레임워크\n",
    "\n",
    "\n",
    "3) 순서 목록 : 숫자. 하고 한 칸 띄우기\n",
    "\n",
    "ex)\n",
    "\n",
    "### 순서목록\n",
    "1. 파이썬\n",
    "2. 크롤링"
   ]
  },
  {
   "cell_type": "markdown",
   "id": "c1f4057b",
   "metadata": {},
   "source": [
    "4) 인용문자 : > \n",
    "\n",
    "> 안녕하세요"
   ]
  },
  {
   "cell_type": "markdown",
   "id": "ba02b1ae",
   "metadata": {},
   "source": [
    "5) 코드블럭 : ```  ````\n",
    "\n",
    "```\n",
    "a=10\n",
    "print(a)\n",
    "```\n",
    "\n",
    "6) 수평선 : 주제 변경 의미 ---, ***\n",
    "\n",
    "7) 링크 : [Title](link), <>\n",
    "\n",
    "ex)\n",
    "\n",
    "[나의 블로그](https://velog.io/@takiwow1996)\n",
    "\n",
    "<https://velog.io/@takiwow1996>\n",
    "\n",
    "\n"
   ]
  },
  {
   "cell_type": "markdown",
   "id": "ec22d7f3",
   "metadata": {},
   "source": [
    "8) 강조 : **\n",
    "\n",
    "*안녕*\n",
    "**안녕**\n",
    "***안녕***\n",
    "\n",
    "\n",
    "9) 이미지 : 이미지 주소 복사\n",
    "![음식](https://search.pstatic.net/common/?src=http%3A%2F%2Fblogfiles.naver.net%2FMjAyMjAyMDFfNjIg%2FMDAxNjQzNzExNDY2NDky.cfuD9iiinQG2kY4SzXnCa1UU9kPNyFRWb_JAGtXIeVMg.hUf0B6SUmagRXxcWxCzlEw3x6uZT1q8fEmRoZEGrxCIg.JPEG.beet3740%2FIMG_2674.JPG&type=sc960_832)\n",
    "\n"
   ]
  },
  {
   "cell_type": "markdown",
   "id": "bc09cc28",
   "metadata": {},
   "source": [
    "## ● 문자열 포매팅"
   ]
  },
  {
   "cell_type": "code",
   "execution_count": 3,
   "id": "d5cdab7d",
   "metadata": {},
   "outputs": [
    {
     "data": {
      "text/plain": [
       "'홍길동는 100'"
      ]
     },
     "execution_count": 3,
     "metadata": {},
     "output_type": "execute_result"
    }
   ],
   "source": [
    "a = 100\n",
    "name = '홍길동'\n",
    "\n",
    "\"%s는 %d\" %(name,a)\n"
   ]
  },
  {
   "cell_type": "code",
   "execution_count": 5,
   "id": "d5dcb543",
   "metadata": {},
   "outputs": [
    {
     "data": {
      "text/plain": [
       "'홍길동는 100'"
      ]
     },
     "execution_count": 5,
     "metadata": {},
     "output_type": "execute_result"
    }
   ],
   "source": [
    "\"{}는 {}\" .format(name, a)\n"
   ]
  },
  {
   "cell_type": "code",
   "execution_count": 8,
   "id": "b30f2f90",
   "metadata": {},
   "outputs": [
    {
     "data": {
      "text/plain": [
       "'홍길동는 100'"
      ]
     },
     "execution_count": 8,
     "metadata": {},
     "output_type": "execute_result"
    }
   ],
   "source": [
    "\"{1}는 {0}\" .format(a, name)\n"
   ]
  },
  {
   "cell_type": "code",
   "execution_count": 7,
   "id": "7d2fce23",
   "metadata": {},
   "outputs": [
    {
     "data": {
      "text/plain": [
       "'홍길동는 100'"
      ]
     },
     "execution_count": 7,
     "metadata": {},
     "output_type": "execute_result"
    }
   ],
   "source": [
    "\"{name}는 {a}\" .format(name = '홍길동', a= 100)\n"
   ]
  },
  {
   "cell_type": "code",
   "execution_count": 13,
   "id": "99802c1d",
   "metadata": {},
   "outputs": [
    {
     "data": {
      "text/plain": [
       "'홍길동는   100'"
      ]
     },
     "execution_count": 13,
     "metadata": {},
     "output_type": "execute_result"
    }
   ],
   "source": [
    "'{:3s}는 {:5d}' .format(name, a)\n"
   ]
  },
  {
   "cell_type": "code",
   "execution_count": 15,
   "id": "19535ad2",
   "metadata": {},
   "outputs": [
    {
     "data": {
      "text/plain": [
       "'홍길동는 54'"
      ]
     },
     "execution_count": 15,
     "metadata": {},
     "output_type": "execute_result"
    }
   ],
   "source": [
    "#f-string\n",
    "\n",
    "name = \"홍길동\"\n",
    "age = 27\n",
    "f\"{name}는 {age+age}\"\n",
    "\n"
   ]
  },
  {
   "cell_type": "markdown",
   "id": "85311d9f",
   "metadata": {},
   "source": [
    "## ● 함수"
   ]
  },
  {
   "cell_type": "code",
   "execution_count": 22,
   "id": "015e504c",
   "metadata": {},
   "outputs": [
    {
     "name": "stdout",
     "output_type": "stream",
     "text": [
      "길이 3\n",
      "True False\n",
      "True True\n"
     ]
    }
   ],
   "source": [
    "s = \"홍길동\"\n",
    "s1 = \"홍길동123\"\n",
    "\n",
    "print(\"길이\", len(s))\n",
    "print(s.isalpha(), s1.isalpha()) #알파벳으로만 이루어져 있는가\n",
    "print(s.isalnum(), s1.isalnum()) #알파벳과 숫자로만 이루어져 있는가\n"
   ]
  },
  {
   "cell_type": "code",
   "execution_count": 23,
   "id": "f4026ea8",
   "metadata": {},
   "outputs": [
    {
     "ename": "ValueError",
     "evalue": "substring not found",
     "output_type": "error",
     "traceback": [
      "\u001b[0;31m---------------------------------------------------------------------------\u001b[0m",
      "\u001b[0;31mValueError\u001b[0m                                Traceback (most recent call last)",
      "\u001b[0;32m/var/folders/2p/61ycx01j04b6w1pl15b4vcj40000gn/T/ipykernel_3937/86452109.py\u001b[0m in \u001b[0;36m<module>\u001b[0;34m\u001b[0m\n\u001b[0;32m----> 1\u001b[0;31m \u001b[0mprint\u001b[0m\u001b[0;34m(\u001b[0m\u001b[0;34m\"1의 위치\"\u001b[0m\u001b[0;34m,\u001b[0m \u001b[0ms\u001b[0m\u001b[0;34m.\u001b[0m\u001b[0mindex\u001b[0m\u001b[0;34m(\u001b[0m\u001b[0;34m\"1\"\u001b[0m\u001b[0;34m)\u001b[0m\u001b[0;34m)\u001b[0m\u001b[0;34m\u001b[0m\u001b[0;34m\u001b[0m\u001b[0m\n\u001b[0m\u001b[1;32m      2\u001b[0m \u001b[0;34m\u001b[0m\u001b[0m\n\u001b[1;32m      3\u001b[0m \u001b[0;31m#ValueError 시에는 try except\u001b[0m\u001b[0;34m\u001b[0m\u001b[0;34m\u001b[0m\u001b[0m\n",
      "\u001b[0;31mValueError\u001b[0m: substring not found"
     ]
    }
   ],
   "source": [
    "print(\"1의 위치\", s.index(\"1\"))\n",
    "\n",
    "#ValueError 시에는 try except"
   ]
  },
  {
   "cell_type": "code",
   "execution_count": 20,
   "id": "8e571ea3",
   "metadata": {},
   "outputs": [
    {
     "data": {
      "text/plain": [
       "'e,d,e,f'"
      ]
     },
     "execution_count": 20,
     "metadata": {},
     "output_type": "execute_result"
    }
   ],
   "source": [
    "a = ','\n",
    "a.join('edef')"
   ]
  },
  {
   "cell_type": "code",
   "execution_count": 21,
   "id": "0e655c95",
   "metadata": {},
   "outputs": [
    {
     "data": {
      "text/plain": [
       "['a', 'b', 'c', 'd']"
      ]
     },
     "execution_count": 21,
     "metadata": {},
     "output_type": "execute_result"
    }
   ],
   "source": [
    "j = 'a:b:c:d'\n",
    "j.split(':')"
   ]
  },
  {
   "cell_type": "code",
   "execution_count": 24,
   "id": "bd84e24a",
   "metadata": {},
   "outputs": [
    {
     "data": {
      "text/plain": [
       "'홍 길 동'"
      ]
     },
     "execution_count": 24,
     "metadata": {},
     "output_type": "execute_result"
    }
   ],
   "source": [
    "\" 홍 길 동 \".strip()"
   ]
  },
  {
   "cell_type": "code",
   "execution_count": 25,
   "id": "9f0b0a6a",
   "metadata": {},
   "outputs": [
    {
     "data": {
      "text/plain": [
       "'홍길동'"
      ]
     },
     "execution_count": 25,
     "metadata": {},
     "output_type": "execute_result"
    }
   ],
   "source": [
    "\" 홍 길 동 \".replace(\" \", \"\")"
   ]
  },
  {
   "cell_type": "code",
   "execution_count": 39,
   "id": "ed4eb5a8",
   "metadata": {},
   "outputs": [
    {
     "data": {
      "text/plain": [
       "'홍길동300'"
      ]
     },
     "execution_count": 39,
     "metadata": {},
     "output_type": "execute_result"
    }
   ],
   "source": [
    "s = \"홍길동\"\n",
    "s + \"300\""
   ]
  },
  {
   "cell_type": "code",
   "execution_count": 42,
   "id": "2331931b",
   "metadata": {},
   "outputs": [
    {
     "ename": "TypeError",
     "evalue": "unsupported operand type(s) for -: 'str' and 'str'",
     "output_type": "error",
     "traceback": [
      "\u001b[0;31m---------------------------------------------------------------------------\u001b[0m",
      "\u001b[0;31mTypeError\u001b[0m                                 Traceback (most recent call last)",
      "\u001b[0;32m/var/folders/2p/61ycx01j04b6w1pl15b4vcj40000gn/T/ipykernel_3937/1181935002.py\u001b[0m in \u001b[0;36m<module>\u001b[0;34m\u001b[0m\n\u001b[0;32m----> 1\u001b[0;31m \u001b[0ms\u001b[0m \u001b[0;34m-\u001b[0m \u001b[0;34m\"300\"\u001b[0m\u001b[0;34m\u001b[0m\u001b[0;34m\u001b[0m\u001b[0m\n\u001b[0m\u001b[1;32m      2\u001b[0m \u001b[0;31m#문자열은 뺄셈 안 됨!!!, 덧셈은 됨!!!\u001b[0m\u001b[0;34m\u001b[0m\u001b[0;34m\u001b[0m\u001b[0m\n",
      "\u001b[0;31mTypeError\u001b[0m: unsupported operand type(s) for -: 'str' and 'str'"
     ]
    }
   ],
   "source": [
    "s - \"300\"\n",
    "#문자열은 뺄셈 안 됨!!!, 덧셈은 됨!!!"
   ]
  },
  {
   "cell_type": "code",
   "execution_count": 44,
   "id": "20689411",
   "metadata": {},
   "outputs": [
    {
     "ename": "TypeError",
     "evalue": "can only concatenate str (not \"int\") to str",
     "output_type": "error",
     "traceback": [
      "\u001b[0;31m---------------------------------------------------------------------------\u001b[0m",
      "\u001b[0;31mTypeError\u001b[0m                                 Traceback (most recent call last)",
      "\u001b[0;32m/var/folders/2p/61ycx01j04b6w1pl15b4vcj40000gn/T/ipykernel_3937/3278853177.py\u001b[0m in \u001b[0;36m<module>\u001b[0;34m\u001b[0m\n\u001b[0;32m----> 1\u001b[0;31m \u001b[0ms\u001b[0m \u001b[0;34m+\u001b[0m \u001b[0;36m300\u001b[0m\u001b[0;34m\u001b[0m\u001b[0;34m\u001b[0m\u001b[0m\n\u001b[0m\u001b[1;32m      2\u001b[0m \u001b[0;31m#s + 300 → 오류 : 문자열 + 숫자\u001b[0m\u001b[0;34m\u001b[0m\u001b[0;34m\u001b[0m\u001b[0m\n",
      "\u001b[0;31mTypeError\u001b[0m: can only concatenate str (not \"int\") to str"
     ]
    }
   ],
   "source": [
    "s + 300\n",
    "#s + 300 → 오류 : 문자열 + 숫자"
   ]
  },
  {
   "cell_type": "code",
   "execution_count": 45,
   "id": "9abd44e5",
   "metadata": {},
   "outputs": [
    {
     "ename": "ValueError",
     "evalue": "invalid literal for int() with base 10: '홍길동'",
     "output_type": "error",
     "traceback": [
      "\u001b[0;31m---------------------------------------------------------------------------\u001b[0m",
      "\u001b[0;31mValueError\u001b[0m                                Traceback (most recent call last)",
      "\u001b[0;32m/var/folders/2p/61ycx01j04b6w1pl15b4vcj40000gn/T/ipykernel_3937/663319766.py\u001b[0m in \u001b[0;36m<module>\u001b[0;34m\u001b[0m\n\u001b[1;32m      1\u001b[0m \u001b[0ms\u001b[0m\u001b[0;34m=\u001b[0m \u001b[0;34m\"홍길동\"\u001b[0m\u001b[0;34m\u001b[0m\u001b[0;34m\u001b[0m\u001b[0m\n\u001b[0;32m----> 2\u001b[0;31m \u001b[0mint\u001b[0m\u001b[0;34m(\u001b[0m\u001b[0ms\u001b[0m\u001b[0;34m)\u001b[0m\u001b[0;34m+\u001b[0m\u001b[0;36m300\u001b[0m\u001b[0;34m\u001b[0m\u001b[0;34m\u001b[0m\u001b[0m\n\u001b[0m",
      "\u001b[0;31mValueError\u001b[0m: invalid literal for int() with base 10: '홍길동'"
     ]
    }
   ],
   "source": [
    "s= \"홍길동\"\n",
    "int(s)+300"
   ]
  },
  {
   "cell_type": "code",
   "execution_count": 30,
   "id": "3a2ea405",
   "metadata": {},
   "outputs": [
    {
     "data": {
      "text/plain": [
       "1400"
      ]
     },
     "execution_count": 30,
     "metadata": {},
     "output_type": "execute_result"
    }
   ],
   "source": [
    "s = \"1,300\"\n",
    "int(s.replace(\",\",\"\"))+100"
   ]
  },
  {
   "cell_type": "code",
   "execution_count": 49,
   "id": "c52c1326",
   "metadata": {},
   "outputs": [
    {
     "name": "stdout",
     "output_type": "stream",
     "text": [
      "100 홍길동\n",
      "100_홍길동\n",
      "a_b_c\n",
      "100 홍길동1"
     ]
    }
   ],
   "source": [
    "a = 100\n",
    "name = \"홍길동\"\n",
    "print(a, name)\n",
    "print(a, name, sep = \"_\")\n",
    "print('a', 'b', 'c', sep = \"_\") #출력되는 value들 사이 분리기호\n",
    "print(a, name, end = \"1\") #end 기본은 줄 바꿈 문자"
   ]
  },
  {
   "cell_type": "code",
   "execution_count": 53,
   "id": "70a61405",
   "metadata": {},
   "outputs": [
    {
     "name": "stdout",
     "output_type": "stream",
     "text": [
      "태어난 연도를 입력하세요1996\n"
     ]
    },
    {
     "data": {
      "text/plain": [
       "'1996'"
      ]
     },
     "execution_count": 53,
     "metadata": {},
     "output_type": "execute_result"
    }
   ],
   "source": [
    "#왼쪽 * 진행 중, 오른쪽 위에 동그라미\n",
    "#숫자도 문자열로 인식\n",
    "ans = input(\"태어난 연도를 입력하세요\")\n",
    "ans"
   ]
  },
  {
   "cell_type": "code",
   "execution_count": 54,
   "id": "92a8fe86",
   "metadata": {},
   "outputs": [
    {
     "data": {
      "text/plain": [
       "26"
      ]
     },
     "execution_count": 54,
     "metadata": {},
     "output_type": "execute_result"
    }
   ],
   "source": [
    "2022-int(ans)"
   ]
  },
  {
   "cell_type": "code",
   "execution_count": 55,
   "id": "55d1365f",
   "metadata": {},
   "outputs": [
    {
     "data": {
      "text/plain": [
       "26.0"
      ]
     },
     "execution_count": 55,
     "metadata": {},
     "output_type": "execute_result"
    }
   ],
   "source": [
    "2022-float(ans)"
   ]
  },
  {
   "cell_type": "code",
   "execution_count": 57,
   "id": "220f01e0",
   "metadata": {},
   "outputs": [
    {
     "data": {
      "text/plain": [
       "2010.8"
      ]
     },
     "execution_count": 57,
     "metadata": {},
     "output_type": "execute_result"
    }
   ],
   "source": [
    "2022-float(\"11.2\")"
   ]
  },
  {
   "cell_type": "code",
   "execution_count": 56,
   "id": "604055f1",
   "metadata": {},
   "outputs": [
    {
     "ename": "ValueError",
     "evalue": "invalid literal for int() with base 10: '11.2'",
     "output_type": "error",
     "traceback": [
      "\u001b[0;31m---------------------------------------------------------------------------\u001b[0m",
      "\u001b[0;31mValueError\u001b[0m                                Traceback (most recent call last)",
      "\u001b[0;32m/var/folders/2p/61ycx01j04b6w1pl15b4vcj40000gn/T/ipykernel_3937/439543354.py\u001b[0m in \u001b[0;36m<module>\u001b[0;34m\u001b[0m\n\u001b[0;32m----> 1\u001b[0;31m \u001b[0;36m2022\u001b[0m\u001b[0;34m-\u001b[0m\u001b[0mint\u001b[0m\u001b[0;34m(\u001b[0m\u001b[0;34m\"11.2\"\u001b[0m\u001b[0;34m)\u001b[0m\u001b[0;34m\u001b[0m\u001b[0;34m\u001b[0m\u001b[0m\n\u001b[0m",
      "\u001b[0;31mValueError\u001b[0m: invalid literal for int() with base 10: '11.2'"
     ]
    }
   ],
   "source": [
    "2022-int(\"11.2\")\n",
    "#점 때문에 에러!\n",
    "#개발자는 세심 꼼꼼!"
   ]
  },
  {
   "cell_type": "code",
   "execution_count": null,
   "id": "9a56d37d",
   "metadata": {},
   "outputs": [],
   "source": [
    "#리스트, 셋, 사전"
   ]
  },
  {
   "cell_type": "markdown",
   "id": "6150bf98",
   "metadata": {},
   "source": [
    "## ● 자료 구조 및 함수"
   ]
  },
  {
   "cell_type": "markdown",
   "id": "59cace77",
   "metadata": {},
   "source": [
    "1) 시퀀스 타입 : 문자열, 리스트([]), 튜플(변경 불가능)\n",
    "    \n",
    "2) Set 타입 : 세트(set, {}) → 순서 X 중복 허용 X, 집합 연산 지원(합, 차, 교, 여집합)\n",
    "\n",
    "3) 매핑 : 사전(dictionary) → Key와 Value 형태로 데이터 저장"
   ]
  },
  {
   "cell_type": "code",
   "execution_count": 65,
   "id": "32387172",
   "metadata": {},
   "outputs": [],
   "source": [
    "mylist = []\n",
    "mylist = list()\n",
    "\n",
    "#JSON 표기법: Java Script Object Notaion "
   ]
  },
  {
   "cell_type": "code",
   "execution_count": 58,
   "id": "0161896e",
   "metadata": {},
   "outputs": [
    {
     "data": {
      "text/plain": [
       "[4, 1, 2, 3]"
      ]
     },
     "execution_count": 58,
     "metadata": {},
     "output_type": "execute_result"
    }
   ],
   "source": [
    "a = [1,2,3]\n",
    "a.insert(0,4) #(위치,값)\n",
    "a"
   ]
  },
  {
   "cell_type": "code",
   "execution_count": 59,
   "id": "7ae623c1",
   "metadata": {},
   "outputs": [
    {
     "data": {
      "text/plain": [
       "[4, 1, 4, 3]"
      ]
     },
     "execution_count": 59,
     "metadata": {},
     "output_type": "execute_result"
    }
   ],
   "source": [
    "a[2]=4\n",
    "a"
   ]
  },
  {
   "cell_type": "code",
   "execution_count": 60,
   "id": "538c2ee5",
   "metadata": {},
   "outputs": [
    {
     "data": {
      "text/plain": [
       "[4, 'c', 'd', 'e', 4, 3]"
      ]
     },
     "execution_count": 60,
     "metadata": {},
     "output_type": "execute_result"
    }
   ],
   "source": [
    "a[1:2] = ['c', 'd', 'e']\n",
    "a\n",
    "#슬라이싱으로하면 값만 잘 들어가지만"
   ]
  },
  {
   "cell_type": "code",
   "execution_count": 61,
   "id": "08334869",
   "metadata": {},
   "outputs": [
    {
     "data": {
      "text/plain": [
       "[4, ['c', 'd', 'e'], 'd', 'e', 4, 3]"
      ]
     },
     "execution_count": 61,
     "metadata": {},
     "output_type": "execute_result"
    }
   ],
   "source": [
    "a[1] = ['c', 'd', 'e']\n",
    "a\n",
    "#인덱싱으로 하면 자체가 들어감"
   ]
  },
  {
   "cell_type": "code",
   "execution_count": 63,
   "id": "83d75e85",
   "metadata": {},
   "outputs": [
    {
     "name": "stdout",
     "output_type": "stream",
     "text": [
      "[3, 5, 10, 20, 30]\n"
     ]
    }
   ],
   "source": [
    "mylist = [5,10,20,30,3]\n",
    "mylist.sort() #정렬\n",
    "print(mylist)"
   ]
  },
  {
   "cell_type": "code",
   "execution_count": 64,
   "id": "16fbe6ae",
   "metadata": {},
   "outputs": [
    {
     "name": "stdout",
     "output_type": "stream",
     "text": [
      "[30, 20, 10, 5, 3]\n"
     ]
    }
   ],
   "source": [
    "mylist.sort(reverse = True) #내림차순 <-> 기본값  : False 오름차순\n",
    "print(mylist)"
   ]
  },
  {
   "cell_type": "code",
   "execution_count": 67,
   "id": "1dc98892",
   "metadata": {},
   "outputs": [
    {
     "name": "stdout",
     "output_type": "stream",
     "text": [
      "[30, 20, 10]\n"
     ]
    }
   ],
   "source": [
    "#pop(위치): (위치 안 적으면) 마지막 요소 반환 및 삭제\n",
    "#remove(값) : 값과 일치하는 첫 번째 요소 삭제\n",
    "#del\n",
    "\n",
    "mylist = [30,20,10,5]\n",
    "mylist.pop() #맨마지막값 반환, 삭제\n",
    "print(mylist)"
   ]
  },
  {
   "cell_type": "code",
   "execution_count": 68,
   "id": "1b56ae17",
   "metadata": {},
   "outputs": [
    {
     "name": "stdout",
     "output_type": "stream",
     "text": [
      "[20, 10, 5]\n"
     ]
    }
   ],
   "source": [
    "mylist = [30,20,10,5]\n",
    "mylist.pop(0) #0번째 값 반환 및 삭제\n",
    "print(mylist)"
   ]
  },
  {
   "cell_type": "code",
   "execution_count": 69,
   "id": "b6e8f7e7",
   "metadata": {},
   "outputs": [
    {
     "name": "stdout",
     "output_type": "stream",
     "text": [
      "[30, 20, 5]\n"
     ]
    }
   ],
   "source": [
    "mylist = [30,20,10,5]\n",
    "mylist.remove(10) #값 10 지워짐\n",
    "print(mylist)"
   ]
  },
  {
   "cell_type": "code",
   "execution_count": 70,
   "id": "4d3c2c32",
   "metadata": {},
   "outputs": [
    {
     "name": "stdout",
     "output_type": "stream",
     "text": [
      "[30, 10, 5]\n"
     ]
    }
   ],
   "source": [
    "mylist = [30,20,10,5]\n",
    "del mylist[1]\n",
    "print(mylist) #1번째 20 지워짐"
   ]
  },
  {
   "cell_type": "code",
   "execution_count": 74,
   "id": "d2bccd4f",
   "metadata": {},
   "outputs": [
    {
     "name": "stdout",
     "output_type": "stream",
     "text": [
      "['김', '나', '박', '이', '홍']\n"
     ]
    }
   ],
   "source": [
    "all_mem = ['김','나','박', '이', '홍']\n",
    "all_mem.sort()\n",
    "print(all_mem)\n"
   ]
  },
  {
   "cell_type": "code",
   "execution_count": 76,
   "id": "46152abb",
   "metadata": {},
   "outputs": [
    {
     "name": "stdout",
     "output_type": "stream",
     "text": [
      "박\n",
      "['김', '이', '홍']\n"
     ]
    }
   ],
   "source": [
    "print(all_mem.pop(1))\n",
    "print(all_mem)"
   ]
  },
  {
   "cell_type": "code",
   "execution_count": 77,
   "id": "ca195e3e",
   "metadata": {},
   "outputs": [
    {
     "data": {
      "text/plain": [
       "['홍', '김', '이', '최', '강']"
      ]
     },
     "execution_count": 77,
     "metadata": {},
     "output_type": "execute_result"
    }
   ],
   "source": [
    "전반기회원 = [\"홍\", \"김\", \"이\"]\n",
    "후반기회원 = [\"최\", \"강\"]\n",
    "\n",
    "전반기회원 + 후반기회원"
   ]
  },
  {
   "cell_type": "code",
   "execution_count": 78,
   "id": "6dbd480b",
   "metadata": {},
   "outputs": [
    {
     "data": {
      "text/plain": [
       "[1, 2, 3, 4, 5]"
      ]
     },
     "execution_count": 78,
     "metadata": {},
     "output_type": "execute_result"
    }
   ],
   "source": [
    "#확장1\n",
    "a = [1,2,3]\n",
    "a.extend([4,5])\n",
    "a"
   ]
  },
  {
   "cell_type": "code",
   "execution_count": 79,
   "id": "315981bd",
   "metadata": {},
   "outputs": [
    {
     "data": {
      "text/plain": [
       "[10, 20, 30, 100, 200]"
      ]
     },
     "execution_count": 79,
     "metadata": {},
     "output_type": "execute_result"
    }
   ],
   "source": [
    "#확장2\n",
    "a = [10,20,30]\n",
    "a = a+[100,200]\n",
    "a"
   ]
  },
  {
   "cell_type": "code",
   "execution_count": null,
   "id": "66d98faa",
   "metadata": {},
   "outputs": [],
   "source": [
    "#extend 와 append 차이\n",
    "#append는 요소 하나씩 추가 (여러개 넣으면 에러, 한 개의 데이터로 묶기[,,])\n",
    "#extend는 요소 여러개씩 추가"
   ]
  },
  {
   "cell_type": "code",
   "execution_count": 80,
   "id": "3253272d",
   "metadata": {},
   "outputs": [
    {
     "name": "stdout",
     "output_type": "stream",
     "text": [
      "[2, 4, 5, 3, 1]\n"
     ]
    }
   ],
   "source": [
    "#뒤집기1\n",
    "mylist = [1,3,5,4,2]\n",
    "mylist.reverse() #코멘트(주석) 단축기 --> ctrl(command) + /, 여러줄도 가능\n",
    "print(mylist)\n"
   ]
  },
  {
   "cell_type": "code",
   "execution_count": 83,
   "id": "5ecb166f",
   "metadata": {},
   "outputs": [
    {
     "name": "stdout",
     "output_type": "stream",
     "text": [
      "[2, 4, 5, 3, 1]\n"
     ]
    }
   ],
   "source": [
    "#뒤집기2\n",
    "mylist = [1,3,5,4,2]\n",
    "mylist = mylist[::-1]\n",
    "print(mylist)"
   ]
  },
  {
   "cell_type": "code",
   "execution_count": 87,
   "id": "3b0ae54e",
   "metadata": {},
   "outputs": [
    {
     "name": "stdout",
     "output_type": "stream",
     "text": [
      "['홍', '김', '이', '박'] 4\n",
      "홍-김-이-박\n",
      "홍김이박\n"
     ]
    }
   ],
   "source": [
    "회원목록 = \"홍.김.이.박\"\n",
    "회원리스트 = 회원목록.split(\".\")\n",
    "print(회원리스트, len(회원리스트))\n",
    "print(\"-\".join(회원리스트))\n",
    "print(\"\".join(회원리스트))\n"
   ]
  },
  {
   "cell_type": "code",
   "execution_count": 88,
   "id": "3e89b260",
   "metadata": {},
   "outputs": [
    {
     "ename": "TypeError",
     "evalue": "sequence item 0: expected str instance, int found",
     "output_type": "error",
     "traceback": [
      "\u001b[0;31m---------------------------------------------------------------------------\u001b[0m",
      "\u001b[0;31mTypeError\u001b[0m                                 Traceback (most recent call last)",
      "\u001b[0;32m/var/folders/2p/61ycx01j04b6w1pl15b4vcj40000gn/T/ipykernel_3937/1176078388.py\u001b[0m in \u001b[0;36m<module>\u001b[0;34m\u001b[0m\n\u001b[1;32m      1\u001b[0m \u001b[0mmylist\u001b[0m\u001b[0;34m\u001b[0m\u001b[0;34m\u001b[0m\u001b[0m\n\u001b[0;32m----> 2\u001b[0;31m \u001b[0;34m\"-\"\u001b[0m\u001b[0;34m.\u001b[0m\u001b[0mjoin\u001b[0m\u001b[0;34m(\u001b[0m\u001b[0mmylist\u001b[0m\u001b[0;34m)\u001b[0m\u001b[0;34m\u001b[0m\u001b[0;34m\u001b[0m\u001b[0m\n\u001b[0m",
      "\u001b[0;31mTypeError\u001b[0m: sequence item 0: expected str instance, int found"
     ]
    }
   ],
   "source": [
    "mylist #숫자리스트\n",
    "\"-\".join(mylist) #숫자리스트를 문자열로 join하면 오류!!\n",
    "#문자열간의 덧셈으로 하는 거임!\n",
    "#숫자 + 문자 --> 오류!!! (숫자를 문자로 변환)"
   ]
  },
  {
   "cell_type": "code",
   "execution_count": null,
   "id": "c5def75c",
   "metadata": {},
   "outputs": [],
   "source": [
    "#채팅 c/s만 만들 수 있으면 모든 것을 만들 수 있음(멀티 쓰레드 등등)\n",
    "#'파이썬의 신' 책 추천!(서버, 클라이언트 만드는 법)\n",
    "#천기누설 파이썬 책 ; '부동산 데이터 분석' 책"
   ]
  },
  {
   "cell_type": "markdown",
   "id": "b41476c2",
   "metadata": {},
   "source": [
    "### ✓ 튜플\n",
    "\n",
    "- 튜플은 변경 불가능!! → 메모리 사용량이 더 적음\n",
    "\n",
    "- 인덱싱, 슬라이싱 방법은 동일\n",
    "\n",
    "- 요소 1개만 있는 튜플은 (1,) 이렇게 해야함 (1) 아님!\n",
    "\n",
    "- 튜플은 데이터 전달용으로 사용\n",
    "\n",
    "- 함수 반환타입으로 주로 사용됨"
   ]
  },
  {
   "cell_type": "code",
   "execution_count": 89,
   "id": "6ef259fa",
   "metadata": {},
   "outputs": [
    {
     "data": {
      "text/plain": [
       "tuple"
      ]
     },
     "execution_count": 89,
     "metadata": {},
     "output_type": "execute_result"
    }
   ],
   "source": [
    "t1 = 1,3,5\n",
    "type(t1)"
   ]
  },
  {
   "cell_type": "code",
   "execution_count": 90,
   "id": "a2b178e4",
   "metadata": {},
   "outputs": [
    {
     "data": {
      "text/plain": [
       "int"
      ]
     },
     "execution_count": 90,
     "metadata": {},
     "output_type": "execute_result"
    }
   ],
   "source": [
    "t1 = (100) #이렇게 헷갈리는 게 시험에 나옴\n",
    "type(t1)"
   ]
  },
  {
   "cell_type": "code",
   "execution_count": 91,
   "id": "956ccc79",
   "metadata": {},
   "outputs": [
    {
     "data": {
      "text/plain": [
       "tuple"
      ]
     },
     "execution_count": 91,
     "metadata": {},
     "output_type": "execute_result"
    }
   ],
   "source": [
    "t1 = (100,)\n",
    "type(t1)"
   ]
  },
  {
   "cell_type": "code",
   "execution_count": 92,
   "id": "facea0c0",
   "metadata": {},
   "outputs": [
    {
     "ename": "TypeError",
     "evalue": "'tuple' object does not support item assignment",
     "output_type": "error",
     "traceback": [
      "\u001b[0;31m---------------------------------------------------------------------------\u001b[0m",
      "\u001b[0;31mTypeError\u001b[0m                                 Traceback (most recent call last)",
      "\u001b[0;32m/var/folders/2p/61ycx01j04b6w1pl15b4vcj40000gn/T/ipykernel_3937/3140018915.py\u001b[0m in \u001b[0;36m<module>\u001b[0;34m\u001b[0m\n\u001b[1;32m      1\u001b[0m \u001b[0;31m# t1.하고 tab 하면 count, index 함수 뿐 (수정 안 되기 떄문!)\u001b[0m\u001b[0;34m\u001b[0m\u001b[0;34m\u001b[0m\u001b[0m\n\u001b[1;32m      2\u001b[0m \u001b[0;34m\u001b[0m\u001b[0m\n\u001b[0;32m----> 3\u001b[0;31m \u001b[0mt1\u001b[0m\u001b[0;34m[\u001b[0m\u001b[0;36m0\u001b[0m\u001b[0;34m]\u001b[0m \u001b[0;34m=\u001b[0m \u001b[0;36m500\u001b[0m\u001b[0;34m\u001b[0m\u001b[0;34m\u001b[0m\u001b[0m\n\u001b[0m",
      "\u001b[0;31mTypeError\u001b[0m: 'tuple' object does not support item assignment"
     ]
    }
   ],
   "source": [
    "# t1.하고 tab 하면 count, index 함수 뿐 (수정 안 되기 떄문!)\n",
    "\n",
    "t1[0] = 500"
   ]
  },
  {
   "cell_type": "markdown",
   "id": "5764095c",
   "metadata": {},
   "source": [
    "### ✓ Set\n",
    "\n",
    "- 중복 X\n",
    "- 순서 x → 인덱싱 & 슬라이싱 X\n",
    "- 연산 : |, &, -\n",
    "\n",
    "ex)\n",
    "\n",
    "로또번호 저장\n",
    "\n",
    "리스트 → 중복번호 저장(X)\n",
    "\n",
    "세트 → 중복번호 배제(O) → 순서추출(X) → 리스트로 변환, 순서대로 추출"
   ]
  },
  {
   "cell_type": "code",
   "execution_count": 93,
   "id": "5c8399a9",
   "metadata": {},
   "outputs": [
    {
     "name": "stdout",
     "output_type": "stream",
     "text": [
      "{1, 3, 5}\n",
      "<class 'set'>\n"
     ]
    }
   ],
   "source": [
    "s1 = {1,3,5,3,1} #초기값을 가진 \n",
    "print(s1)\n",
    "print(type(s1))"
   ]
  },
  {
   "cell_type": "code",
   "execution_count": 94,
   "id": "5600f25b",
   "metadata": {},
   "outputs": [
    {
     "ename": "AttributeError",
     "evalue": "'dict' object has no attribute 'add'",
     "output_type": "error",
     "traceback": [
      "\u001b[0;31m---------------------------------------------------------------------------\u001b[0m",
      "\u001b[0;31mAttributeError\u001b[0m                            Traceback (most recent call last)",
      "\u001b[0;32m/var/folders/2p/61ycx01j04b6w1pl15b4vcj40000gn/T/ipykernel_3937/1267791420.py\u001b[0m in \u001b[0;36m<module>\u001b[0;34m\u001b[0m\n\u001b[1;32m      1\u001b[0m \u001b[0ms1\u001b[0m \u001b[0;34m=\u001b[0m \u001b[0;34m{\u001b[0m\u001b[0;34m}\u001b[0m \u001b[0;31m#빈 사전 생성\u001b[0m\u001b[0;34m\u001b[0m\u001b[0;34m\u001b[0m\u001b[0m\n\u001b[0;32m----> 2\u001b[0;31m \u001b[0ms1\u001b[0m\u001b[0;34m.\u001b[0m\u001b[0madd\u001b[0m\u001b[0;34m(\u001b[0m\u001b[0;36m100\u001b[0m\u001b[0;34m)\u001b[0m\u001b[0;34m\u001b[0m\u001b[0;34m\u001b[0m\u001b[0m\n\u001b[0m\u001b[1;32m      3\u001b[0m \u001b[0ms1\u001b[0m\u001b[0;34m.\u001b[0m\u001b[0madd\u001b[0m\u001b[0;34m(\u001b[0m\u001b[0;36m200\u001b[0m\u001b[0;34m)\u001b[0m\u001b[0;34m\u001b[0m\u001b[0;34m\u001b[0m\u001b[0m\n\u001b[1;32m      4\u001b[0m \u001b[0ms1\u001b[0m\u001b[0;34m.\u001b[0m\u001b[0madd\u001b[0m\u001b[0;34m(\u001b[0m\u001b[0;36m300\u001b[0m\u001b[0;34m)\u001b[0m\u001b[0;34m\u001b[0m\u001b[0;34m\u001b[0m\u001b[0m\n\u001b[1;32m      5\u001b[0m \u001b[0mprint\u001b[0m\u001b[0;34m(\u001b[0m\u001b[0ms1\u001b[0m\u001b[0;34m)\u001b[0m\u001b[0;34m\u001b[0m\u001b[0;34m\u001b[0m\u001b[0m\n",
      "\u001b[0;31mAttributeError\u001b[0m: 'dict' object has no attribute 'add'"
     ]
    }
   ],
   "source": [
    "s1 = {} #이렇게 하면 빈 사전(딕셔너리) 생성\n",
    "s1.add(100)\n",
    "s1.add(200)\n",
    "s1.add(300)\n",
    "print(s1)"
   ]
  },
  {
   "cell_type": "code",
   "execution_count": 95,
   "id": "bb26de77",
   "metadata": {},
   "outputs": [
    {
     "name": "stdout",
     "output_type": "stream",
     "text": [
      "{200, 100, 300}\n"
     ]
    }
   ],
   "source": [
    "s1 = set() #빈 사전 생성\n",
    "s1.add(100)\n",
    "s1.add(200)\n",
    "s1.add(300)\n",
    "print(s1)\n",
    "\n",
    "#저장관리 자동으로 넣은 순서대로 나오지 않음\n",
    "#넣은 순서대로 보여주고 싶으면 리스트 사용!\n",
    "#set은 집합 연산 때문에 사용"
   ]
  },
  {
   "cell_type": "code",
   "execution_count": 97,
   "id": "7fe9049f",
   "metadata": {},
   "outputs": [
    {
     "data": {
      "text/plain": [
       "('결석회원은', {'김', '박'})"
      ]
     },
     "execution_count": 97,
     "metadata": {},
     "output_type": "execute_result"
    }
   ],
   "source": [
    "전체회원 = {'홍', '김', '이', '박'}\n",
    "출석회원 = {'이', '홍'}\n",
    "\n",
    "\"결석회원은\", 전체회원 - 출석회원"
   ]
  },
  {
   "cell_type": "code",
   "execution_count": 98,
   "id": "2f4a6ebc",
   "metadata": {},
   "outputs": [
    {
     "ename": "TypeError",
     "evalue": "'set' object is not subscriptable",
     "output_type": "error",
     "traceback": [
      "\u001b[0;31m---------------------------------------------------------------------------\u001b[0m",
      "\u001b[0;31mTypeError\u001b[0m                                 Traceback (most recent call last)",
      "\u001b[0;32m/var/folders/2p/61ycx01j04b6w1pl15b4vcj40000gn/T/ipykernel_3937/1524576381.py\u001b[0m in \u001b[0;36m<module>\u001b[0;34m\u001b[0m\n\u001b[0;32m----> 1\u001b[0;31m \u001b[0m출석회원\u001b[0m\u001b[0;34m[\u001b[0m\u001b[0;36m0\u001b[0m\u001b[0;34m]\u001b[0m\u001b[0;34m\u001b[0m\u001b[0;34m\u001b[0m\u001b[0m\n\u001b[0m",
      "\u001b[0;31mTypeError\u001b[0m: 'set' object is not subscriptable"
     ]
    }
   ],
   "source": [
    "출석회원[0]\n",
    "#set은 순서를 지원하지 X 때문"
   ]
  },
  {
   "cell_type": "code",
   "execution_count": 99,
   "id": "281fb696",
   "metadata": {},
   "outputs": [
    {
     "data": {
      "text/plain": [
       "'이'"
      ]
     },
     "execution_count": 99,
     "metadata": {},
     "output_type": "execute_result"
    }
   ],
   "source": [
    "list(출석회원)[0]"
   ]
  },
  {
   "cell_type": "code",
   "execution_count": 100,
   "id": "27bace52",
   "metadata": {},
   "outputs": [
    {
     "name": "stdout",
     "output_type": "stream",
     "text": [
      "회원리스트 4\n",
      "s1 3\n"
     ]
    }
   ],
   "source": [
    "print(\"회원리스트\", len(회원리스트))\n",
    "print(\"s1\", len(s1))"
   ]
  },
  {
   "cell_type": "markdown",
   "id": "5d781297",
   "metadata": {},
   "source": [
    "### 💡문제1\n",
    "\n",
    "a=[1,1,2,2,3,4,4,5,6,7,2] → [7, 6, 5, 4, 3, 2, 1]\n"
   ]
  },
  {
   "cell_type": "code",
   "execution_count": 128,
   "id": "ca4f32ed",
   "metadata": {},
   "outputs": [
    {
     "name": "stdout",
     "output_type": "stream",
     "text": [
      "[7, 6, 5, 4, 3, 2, 1]\n"
     ]
    }
   ],
   "source": [
    "a=[1,1,2,2,3,4,4,5,6,7,2]\n",
    "a = list(set(a))\n",
    "a.sort(reverse = True)\n",
    "print(a)"
   ]
  },
  {
   "cell_type": "code",
   "execution_count": 129,
   "id": "240bbdea",
   "metadata": {},
   "outputs": [
    {
     "name": "stdout",
     "output_type": "stream",
     "text": [
      "[7, 6, 5, 4, 3, 2, 1]\n"
     ]
    }
   ],
   "source": [
    "a=[1,1,2,2,3,4,4,5,6,7,2]\n",
    "a = list(set(a))\n",
    "a.reverse()\n",
    "print(a)"
   ]
  },
  {
   "cell_type": "markdown",
   "id": "7a7513c0",
   "metadata": {},
   "source": [
    "객체 : 할당받은 메모리 영역\n",
    "\n",
    "자바언어 : 객체 new → 객체 생성\n",
    "\n",
    "파이썬 : 모든 것이 객체, 자바보다 더 상위레벨 언어 (사람이 쓰기 편하다)\n",
    "\n",
    "시험에 안 나옴 ㅎ"
   ]
  },
  {
   "cell_type": "markdown",
   "id": "9875e744",
   "metadata": {},
   "source": [
    "### ✓ 사전(딕셔너리)\n",
    "\n",
    "- key 값은 변경 불가능한 객체, 숫자 가능\n",
    "- dict 함수를 이용할 경우 key는 문자열만 가능 \n",
    "\n",
    "  ex) dict(key = value, key = value)\n"
   ]
  },
  {
   "cell_type": "code",
   "execution_count": 133,
   "id": "48ee2b84",
   "metadata": {},
   "outputs": [
    {
     "data": {
      "text/plain": [
       "{1: 'b', '지역': '서울'}"
      ]
     },
     "execution_count": 133,
     "metadata": {},
     "output_type": "execute_result"
    }
   ],
   "source": [
    "a = {1:'b', '지역':'서울'}\n",
    "a"
   ]
  },
  {
   "cell_type": "code",
   "execution_count": 132,
   "id": "44a94bfb",
   "metadata": {},
   "outputs": [
    {
     "data": {
      "text/plain": [
       "{'m': 'b', '지역': '서울'}"
      ]
     },
     "execution_count": 132,
     "metadata": {},
     "output_type": "execute_result"
    }
   ],
   "source": [
    "a = dict(m='b', 지역 = '서울')\n",
    "a\n",
    "#이렇게 할 때, key는 문자열만 가능"
   ]
  },
  {
   "cell_type": "markdown",
   "id": "253cb0b0",
   "metadata": {},
   "source": [
    "100 → 정수 리터럴\n",
    "\n",
    "1.3 → 실수 리터럴\n",
    "\n",
    "[1,3,5] → 리스트 리터럴\n",
    "\n",
    "{1,3,5} → 세트 리터럴\n",
    "\n",
    "{1:'a', 2:'b'} → 사전 리터럴"
   ]
  },
  {
   "cell_type": "code",
   "execution_count": 135,
   "id": "dcbd4d82",
   "metadata": {},
   "outputs": [
    {
     "data": {
      "text/plain": [
       "'서울'"
      ]
     },
     "execution_count": 135,
     "metadata": {},
     "output_type": "execute_result"
    }
   ],
   "source": [
    "a = {'m':'b', '지역':'서울'}\n",
    "a.get('지역')"
   ]
  },
  {
   "cell_type": "code",
   "execution_count": 137,
   "id": "365c1f01",
   "metadata": {},
   "outputs": [
    {
     "name": "stdout",
     "output_type": "stream",
     "text": [
      "None\n"
     ]
    }
   ],
   "source": [
    "print(a.get('없나'))"
   ]
  },
  {
   "cell_type": "code",
   "execution_count": 140,
   "id": "1a9a5c2a",
   "metadata": {},
   "outputs": [
    {
     "data": {
      "text/plain": [
       "{'m': 'b', '지역': '인천', '이름': '홍길동'}"
      ]
     },
     "execution_count": 140,
     "metadata": {},
     "output_type": "execute_result"
    }
   ],
   "source": [
    "a['지역'] = '인천' #key값 있으면 수정\n",
    "a['이름'] = '홍길동' #key값 없으면 추가\n",
    "a"
   ]
  },
  {
   "cell_type": "code",
   "execution_count": 142,
   "id": "39e91550",
   "metadata": {},
   "outputs": [
    {
     "data": {
      "text/plain": [
       "{'m': 'b', '지역': '어디게?', '이름': '흥부', 'age': 1000}"
      ]
     },
     "execution_count": 142,
     "metadata": {},
     "output_type": "execute_result"
    }
   ],
   "source": [
    "a.update({'이름':'흥부', 'age':1000, '지역':'어디게?'}) #여러 개 추가 및 수정\n",
    "a"
   ]
  },
  {
   "cell_type": "code",
   "execution_count": 143,
   "id": "8ef51247",
   "metadata": {},
   "outputs": [
    {
     "data": {
      "text/plain": [
       "{'m': 'b', '이름': '흥부', 'age': 1000}"
      ]
     },
     "execution_count": 143,
     "metadata": {},
     "output_type": "execute_result"
    }
   ],
   "source": [
    "#key : value 쌍 삭제\n",
    "a.pop('지역')\n",
    "a"
   ]
  },
  {
   "cell_type": "code",
   "execution_count": 144,
   "id": "8431d07a",
   "metadata": {},
   "outputs": [
    {
     "data": {
      "text/plain": [
       "{'이름': '흥부', 'age': 1000}"
      ]
     },
     "execution_count": 144,
     "metadata": {},
     "output_type": "execute_result"
    }
   ],
   "source": [
    "del a['m']\n",
    "a"
   ]
  },
  {
   "cell_type": "code",
   "execution_count": 145,
   "id": "c115752e",
   "metadata": {},
   "outputs": [
    {
     "data": {
      "text/plain": [
       "{}"
      ]
     },
     "execution_count": 145,
     "metadata": {},
     "output_type": "execute_result"
    }
   ],
   "source": [
    "a.clear()\n",
    "a"
   ]
  },
  {
   "cell_type": "code",
   "execution_count": 146,
   "id": "689da86a",
   "metadata": {},
   "outputs": [
    {
     "data": {
      "text/plain": [
       "dict_keys(['m', '지역'])"
      ]
     },
     "execution_count": 146,
     "metadata": {},
     "output_type": "execute_result"
    }
   ],
   "source": [
    "a = {'m':'b', '지역':'서울'}\n",
    "a.keys()"
   ]
  },
  {
   "cell_type": "code",
   "execution_count": 147,
   "id": "bd128baf",
   "metadata": {},
   "outputs": [
    {
     "data": {
      "text/plain": [
       "dict_values(['b', '서울'])"
      ]
     },
     "execution_count": 147,
     "metadata": {},
     "output_type": "execute_result"
    }
   ],
   "source": [
    "a.values() #리스트형식이지만 리스트처럼 쓸 수 없음 → list() 변환 필요!"
   ]
  },
  {
   "cell_type": "code",
   "execution_count": 148,
   "id": "0e80ce04",
   "metadata": {},
   "outputs": [
    {
     "data": {
      "text/plain": [
       "dict_items([('m', 'b'), ('지역', '서울')])"
      ]
     },
     "execution_count": 148,
     "metadata": {},
     "output_type": "execute_result"
    }
   ],
   "source": [
    "a.items()"
   ]
  },
  {
   "cell_type": "code",
   "execution_count": 152,
   "id": "f186f34e",
   "metadata": {},
   "outputs": [
    {
     "data": {
      "text/plain": [
       "(True, True)"
      ]
     },
     "execution_count": 152,
     "metadata": {},
     "output_type": "execute_result"
    }
   ],
   "source": [
    "#값이 딕셔너리에서 key로 있는지\n",
    "\n",
    "'m' in a, '지역' in a\n",
    "\n"
   ]
  },
  {
   "cell_type": "code",
   "execution_count": 155,
   "id": "c8a40488",
   "metadata": {},
   "outputs": [
    {
     "data": {
      "text/plain": [
       "{'A': 0, 'B': 0, 'C': 0}"
      ]
     },
     "execution_count": 155,
     "metadata": {},
     "output_type": "execute_result"
    }
   ],
   "source": [
    "mylist = list('ABC')\n",
    "mydict = dict.fromkeys(mylist, 0) #리스트값들을 key값으로!\n",
    "mydict"
   ]
  },
  {
   "cell_type": "markdown",
   "id": "d80475b5",
   "metadata": {},
   "source": [
    "### 💡문제1\n",
    "\n",
    "A = {'a' : 90, 'B' : 80, 'C' : 70}\n",
    "\n"
   ]
  },
  {
   "cell_type": "code",
   "execution_count": 154,
   "id": "139e7d5e",
   "metadata": {},
   "outputs": [
    {
     "name": "stdout",
     "output_type": "stream",
     "text": [
      "80\n",
      "{'a': 90, 'C': 70}\n"
     ]
    }
   ],
   "source": [
    "A = {'a' : 90, 'B' : 80, 'C' : 70}\n",
    "print(A['B'])\n",
    "A.pop('B')\n",
    "print(A)"
   ]
  },
  {
   "cell_type": "markdown",
   "id": "44851fe8",
   "metadata": {},
   "source": [
    "### ✓ %매직명령어\n",
    "\n",
    "%매직명령어 : 파이썬 명령어가 아님. 실행환경 서버가 제공해주는 명령어\n",
    "\n",
    "%whos : 메모리에 존재하는 변수와 type 등을 보여줌, 내가 무슨 변수에 뭘 넣을지 볼 떄 씀\n",
    "\n",
    "\n"
   ]
  },
  {
   "cell_type": "code",
   "execution_count": 151,
   "id": "c69e983b",
   "metadata": {},
   "outputs": [
    {
     "name": "stdout",
     "output_type": "stream",
     "text": [
      "Variable   Type        Data/Info\n",
      "--------------------------------\n",
      "a          dict        n=2\n",
      "age        int         27\n",
      "all_mem    list        n=3\n",
      "ans        str         1996\n",
      "b          NoneType    None\n",
      "bcd        NoneType    None\n",
      "j          str         a:b:c:d\n",
      "mylist     list        n=5\n",
      "name       str         홍길동\n",
      "s          str         홍길동\n",
      "s1         set         {200, 100, 300}\n",
      "t1         tuple       n=1\n",
      "전반기회원      list        n=3\n",
      "전체회원       set         {'김', '박', '이', '홍'}\n",
      "출석회원       set         {'이', '홍'}\n",
      "회원리스트      list        n=4\n",
      "회원목록       str         홍.김.이.박\n",
      "회원사전       dict        n=2\n",
      "후반기회원      list        n=2\n"
     ]
    }
   ],
   "source": [
    "%whos"
   ]
  },
  {
   "cell_type": "markdown",
   "id": "8ef66df3",
   "metadata": {},
   "source": [
    "## ● 제어문\n",
    "\n"
   ]
  },
  {
   "cell_type": "code",
   "execution_count": 156,
   "id": "27bb9008",
   "metadata": {},
   "outputs": [
    {
     "name": "stdout",
     "output_type": "stream",
     "text": [
      "태어난해를 4자리로 입력하세요1996\n",
      "숫자입니다\n",
      "26살 입니다\n"
     ]
    }
   ],
   "source": [
    "ans = input(\"태어난해를 4자리로 입력하세요\")\n",
    "\n",
    "#입력값이 숫자 아니면\n",
    "if ans.isdecimal() : #숫자인지 확인\n",
    "    print('숫자입니다')\n",
    "    print(f\"{2022 - int(ans)}살 입니다\")\n",
    "    \n",
    "else :\n",
    "    print(\"숫자 아닙니다\")"
   ]
  },
  {
   "cell_type": "code",
   "execution_count": 158,
   "id": "cf6f1bd5",
   "metadata": {},
   "outputs": [
    {
     "name": "stdout",
     "output_type": "stream",
     "text": [
      "태어난해를 4자리로 입력하세요1996\n",
      "청년입니다\n"
     ]
    }
   ],
   "source": [
    "ans = input(\"태어난해를 4자리로 입력하세요\")\n",
    "age = 2022 - int(ans)\n",
    "\n",
    "if age < 19 : #숫자인지 확인\n",
    "    print(\"미성년자입니다\")\n",
    "elif 19 < age < 30 :    \n",
    "    print(\"청년입니다\")\n",
    "else :\n",
    "    print(\"나이가 많군요\")"
   ]
  },
  {
   "cell_type": "code",
   "execution_count": 159,
   "id": "79287c65",
   "metadata": {},
   "outputs": [
    {
     "name": "stdout",
     "output_type": "stream",
     "text": [
      "태어난해를 4자리로 입력하세요1996\n",
      "26살입니다\n",
      "청년입니다\n"
     ]
    }
   ],
   "source": [
    "#삼항연산자\n",
    "\n",
    "ans = input(\"태어난해를 4자리로 입력하세요\")\n",
    "age = 2022 - int(ans)\n",
    "print(f\"{age}살입니다\")\n",
    "msg = \"미성년입니다\" if age < 19 else \"청년입니다\" if age < 35 else \"나이가 많군요\"\n",
    "print(msg)\n"
   ]
  },
  {
   "cell_type": "markdown",
   "id": "64904ed7",
   "metadata": {},
   "source": [
    "### 💡문제1"
   ]
  },
  {
   "cell_type": "code",
   "execution_count": 163,
   "id": "de99bedc",
   "metadata": {},
   "outputs": [
    {
     "name": "stdout",
     "output_type": "stream",
     "text": [
      "90\n",
      "A\n"
     ]
    }
   ],
   "source": [
    "score = int(input())\n",
    "\n",
    "if 90 <= score :\n",
    "    print('A')\n",
    "elif 80 <= score :\n",
    "    print('B')\n",
    "elif 70 <= score :\n",
    "    print('c')    \n",
    "else  :\n",
    "    print('D')    \n",
    "    \n",
    "\n",
    "\n"
   ]
  },
  {
   "cell_type": "code",
   "execution_count": null,
   "id": "a8f68f4d",
   "metadata": {},
   "outputs": [],
   "source": []
  }
 ],
 "metadata": {
  "kernelspec": {
   "display_name": "Python 3 (ipykernel)",
   "language": "python",
   "name": "python3"
  },
  "language_info": {
   "codemirror_mode": {
    "name": "ipython",
    "version": 3
   },
   "file_extension": ".py",
   "mimetype": "text/x-python",
   "name": "python",
   "nbconvert_exporter": "python",
   "pygments_lexer": "ipython3",
   "version": "3.9.7"
  }
 },
 "nbformat": 4,
 "nbformat_minor": 5
}
