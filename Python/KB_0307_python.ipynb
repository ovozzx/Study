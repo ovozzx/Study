{
 "cells": [
  {
   "cell_type": "markdown",
   "id": "c93a73ec",
   "metadata": {},
   "source": [
    "# ☑️ 3월 7일 수업 : Python 기본 문법 강의 \n",
    "\n",
    "---\n",
    "\n",
    "\n",
    "\n",
    "\n"
   ]
  },
  {
   "cell_type": "markdown",
   "id": "21809fbc",
   "metadata": {},
   "source": [
    "# 🔎 클래스"
   ]
  },
  {
   "cell_type": "markdown",
   "id": "5ff8266b",
   "metadata": {},
   "source": [
    "C언어 :: 구조체\n",
    "\n",
    "C++, 자바 :: 구조체\n",
    "\n",
    "은닉성/상속성/다형성\n",
    "\n",
    "클래스 : 객체의 구조(변수, 함수)\n",
    "\n",
    "객체 : 할당 받은 메모리 공간"
   ]
  },
  {
   "cell_type": "markdown",
   "id": "7164b665",
   "metadata": {},
   "source": [
    "Class는 Object(객체)의 Template(틀, 구조)이고\n",
    "\n",
    "Object(객체)는 Class의 Instance(예제)이다\n"
   ]
  },
  {
   "cell_type": "code",
   "execution_count": 1,
   "id": "fcd22a0b",
   "metadata": {},
   "outputs": [
    {
     "name": "stdout",
     "output_type": "stream",
     "text": [
      "냉장고\n",
      "냉장고\n",
      "세탁기\n",
      "냉장고\n"
     ]
    }
   ],
   "source": [
    "#클래스 선언\n",
    "\n",
    "class Product :\n",
    "    name = '냉장고'\n",
    "    price = 100\n",
    "    \n",
    "    \n",
    "#객체 생성\n",
    "\n",
    "p1 = Product() #생성자 함수, 객체를 만들 때엔 반드시 생성자 함수 호출을 해야한다!\n",
    "p2 = Product()\n",
    "\n",
    "\n",
    "print(p1.name)\n",
    "print(p2.name)\n",
    "\n",
    "p1.name = '세탁기' #속성을 저장, 인스턴스 변수에 저장\n",
    "\n",
    "print(p1.name) #name 속성은   인스턴스 변수 존재확인 -> 클래스 변수 존재 확인\n",
    "print(p2.name)"
   ]
  },
  {
   "cell_type": "code",
   "execution_count": 5,
   "id": "ebd33325",
   "metadata": {},
   "outputs": [
    {
     "name": "stdout",
     "output_type": "stream",
     "text": [
      "냉장고 300\n"
     ]
    }
   ],
   "source": [
    "class Product :\n",
    "    pass #클래스만 만들고 나중에 추가\n",
    "\n",
    "p1 = Product() #객체 만들기\n",
    "p1.name = '냉장고' #속성 부여\n",
    "p1.price = 300\n",
    "print(p1.name, p1.price)\n",
    "\n"
   ]
  },
  {
   "cell_type": "code",
   "execution_count": 20,
   "id": "a40520c7",
   "metadata": {},
   "outputs": [
    {
     "name": "stdout",
     "output_type": "stream",
     "text": [
      "name = , price = 0\n"
     ]
    }
   ],
   "source": [
    "class Product :\n",
    "    def __init__(self, name=\"\", price=0) : #관습적으로 첫번째 인수명은 self!\n",
    "        pass\n",
    "        self.name = name\n",
    "        self.price = price\n",
    "    \n",
    "    def printInfo(self) : #self를 꼭 써야함 (정보)\n",
    "        '''객체의 현재상태 출력\n",
    "        '''\n",
    "        print(f\"name = {self.name}, price = {self.price}\")\n",
    "        \n",
    "p1 = Product()\n",
    "\n",
    "p2 = Product(\"세탁기\", 100)\n",
    "\n",
    "\n",
    "#print(f\"name = {p1.name}, price = {p1.price}\")\n",
    "#print(f\"name = {p2.name}, price = {p2.price}\")\n",
    "\n",
    "p1.printInfo()\n"
   ]
  },
  {
   "cell_type": "code",
   "execution_count": 21,
   "id": "f39dfbc3",
   "metadata": {},
   "outputs": [],
   "source": [
    "class Product :\n",
    "    name = ''\n",
    "    price = ''\n",
    "    \n",
    "    def __init__(self, name, price) : #생성자 ->. 초기화\n",
    "        self.name = name  #인스턴스 변수\n",
    "        self.price = price\n",
    "        \n",
    "    def __del__(self) : #소멸자 \n",
    "        print('Instance is removed')\n",
    "        \n",
    "    def princInfo(self) :\n",
    "        print(self.name, self.price, sep = '=')"
   ]
  },
  {
   "cell_type": "code",
   "execution_count": 22,
   "id": "1ce2ff33",
   "metadata": {},
   "outputs": [
    {
     "data": {
      "text/plain": [
       "<__main__.Product at 0x7fd25c0ec370>"
      ]
     },
     "execution_count": 22,
     "metadata": {},
     "output_type": "execute_result"
    }
   ],
   "source": [
    "p1 = Product('PS5', 628000)\n",
    "p1"
   ]
  },
  {
   "cell_type": "markdown",
   "id": "cca9ddc6",
   "metadata": {},
   "source": [
    "### ✔️ 가전제품 판매점 관리 프로그램\n",
    "\n",
    "- TV, 오디오, 냉장고, 세탁기, 청소기, .... 판매\n",
    "\n",
    "- 구현기능 : 관리기능 - CRUD\n",
    "\n",
    "    1. 제품구매(등록) - 재고정보\n",
    "    2. 제품판매\n",
    "    3. 제품재고 수정\n",
    "    4. 단종제품 - 삭제\n",
    "    5. 제품정보 목록, 상세, 검색\n",
    "    \n",
    "    \n",
    "    \n",
    "- 필요한 모듈 : \n",
    "    제품정보 - Product 클래스\n",
    "    제품정보 관리 - ProductManager 클래스\n",
    "    정보 입출력(UI) - ProductUI 클래스\n",
    "    데이터 입출력(IO) ProductIO 클래스\n",
    "    \n",
    "    \n",
    "시험에 안 나옴!!"
   ]
  },
  {
   "cell_type": "code",
   "execution_count": 28,
   "id": "482b35c4",
   "metadata": {},
   "outputs": [
    {
     "name": "stdout",
     "output_type": "stream",
     "text": [
      "냉장고=LG=300=5\n",
      "냉장고=삼성=250=3\n"
     ]
    }
   ],
   "source": [
    "class Product:\n",
    "    \"\"\"\n",
    "    상품정보 정의용 클래스\n",
    "    이름, 제조사, 가격, 수량\n",
    "    \"\"\"\n",
    "    pass\n",
    "    def __init__(self,name,factory,price,qty):\n",
    "        self.name = name\n",
    "        self.factory = factory\n",
    "        self.price = price\n",
    "        self.qty = qty\n",
    "        \n",
    "    def printInfo(self) :\n",
    "        print(self.name, self.factory, self.price, self.qty, sep = '=') \n",
    "        \n",
    "    def __str__(self):\n",
    "        return f\"{self.name},{self.factory},{self.price},{self.qty}\"\n",
    "        \n",
    "    \n",
    "p1 = Product(\"냉장고\", \"LG\", 300, 5) #인자 하나라도 빠지면 오류\n",
    "p2 = Product(\"냉장고\", \"삼성\", 250, 3)\n",
    "\n",
    "p1.printInfo() #디버깅용 함수\n",
    "p2.printInfo()"
   ]
  },
  {
   "cell_type": "code",
   "execution_count": 29,
   "id": "58620cb4",
   "metadata": {},
   "outputs": [
    {
     "name": "stdout",
     "output_type": "stream",
     "text": [
      "냉장고,LG,300,5\n",
      "냉장고,LG,300,5\n"
     ]
    }
   ],
   "source": [
    "print(p1) #p1객체의 현재정보를 문자열로 변환,출력\n",
    "print(p1.__str__()) #특수함수, 목적에 따라 미리 만들어진 함수 -> 바꿔줄 수 있음"
   ]
  },
  {
   "cell_type": "code",
   "execution_count": 30,
   "id": "608498d5",
   "metadata": {},
   "outputs": [
    {
     "name": "stdout",
     "output_type": "stream",
     "text": [
      "냉장고,LG,300,5\n",
      "냉장고,삼성,250,3\n"
     ]
    }
   ],
   "source": [
    "# 제품관리기능- 등록, 검색, 수정, 삭제기능 제공 모듈\n",
    "\n",
    "prd_list = [] \n",
    "\n",
    "p = Product(\"냉장고\", \"LG\", 300, 5)\n",
    "prd_list.append( p ) # 제품등록\n",
    "p = Product(\"냉장고\", \"삼성\", 250, 3)\n",
    "prd_list.append( p ) # 제품등록\n",
    "\n",
    "for p in prd_list: #변수 p\n",
    "    print(p)"
   ]
  },
  {
   "cell_type": "code",
   "execution_count": 31,
   "id": "d26121a0",
   "metadata": {},
   "outputs": [
    {
     "name": "stdout",
     "output_type": "stream",
     "text": [
      "100,냉장고,LG,300,5\n",
      "200,냉장고,삼성,250,3\n",
      "100,냉장고,LG,300,5\n",
      "100,냉장고,LG,300,5\n"
     ]
    }
   ],
   "source": [
    "#제품 코드 추가\n",
    "\n",
    "class Product:\n",
    "    \"\"\"\n",
    "    상품정보 정의용 클래스\n",
    "    이름, 제조사, 가격, 수량\n",
    "    \"\"\"\n",
    "    pass\n",
    "    def __init__(self,cd, name,factory,price,qty):\n",
    "        self.cd = cd\n",
    "        self.name = name\n",
    "        self.factory = factory\n",
    "        self.price = price\n",
    "        self.qty = qty\n",
    "    def printInfo(self):\n",
    "        print(f\"{self.cd},{self.name},{self.factory},{self.price},{self.qty}\")\n",
    "    def __str__(self):\n",
    "        return f\"{self.cd},{self.name},{self.factory},{self.price},{self.qty}\"\n",
    "    \n",
    "p1 = Product(100,\"냉장고\", \"LG\", 300, 5)\n",
    "p2 = Product(200,\"냉장고\", \"삼성\", 250, 3)\n",
    "\n",
    "p1.printInfo() # 디버깅용 함수\n",
    "p2.printInfo() # 디버깅용 함수\n",
    "\n",
    "print( p1 ) # p1객체의 현재정보를 문자열로 변환, 출력\n",
    "print( p1.__str__() )\n"
   ]
  },
  {
   "cell_type": "markdown",
   "id": "ceab37c1",
   "metadata": {},
   "source": [
    "# 😇 다시 !!!"
   ]
  },
  {
   "cell_type": "code",
   "execution_count": 44,
   "id": "95c2a6d7",
   "metadata": {},
   "outputs": [
    {
     "name": "stdout",
     "output_type": "stream",
     "text": [
      "***전체출력***\n",
      "100 = 100,냉장고,LG,300,5\n",
      "200 = 200,냉장고,삼성,250,3\n"
     ]
    }
   ],
   "source": [
    "#제품 관리(다시 보기)\n",
    "\n",
    "class ProductManager() :\n",
    "    def __init__(self) :\n",
    "        #제품저장할 사전 -> 생성자에서 인스턴스 변수로 생성\n",
    "        self.prd_dicts = dict() #딕셔너리 만듦\n",
    "        \n",
    "    def add(self, prd) : #같은 키인경우 재고량 증가\n",
    "        if prd.cd in self.prd_dicts :\n",
    "            self.prd_dicts[prd.cd].qty += prd.qty #재고량 증가\n",
    "        else :\n",
    "            self.prd_dicts[prd.cd] = prd #add(객체), 딕셔너리 key : value 추가\n",
    "        \n",
    "    def printAll(self) :\n",
    "        print(\"***전체출력***\")\n",
    "        for p in self.prd_dicts : #\n",
    "            print(f\"{p} = {self.prd_dicts[p]}\")\n",
    "        \n",
    "p_mgr = ProductManager()\n",
    "p = Product(100, \"냉장고\", \"LG\", 300, 5)\n",
    "p_mgr.add(p)\n",
    "p = Product(200, \"냉장고\", \"삼성\", 250, 3)\n",
    "p_mgr.add(p)\n",
    "p_mgr.printAll()\n",
    "\n",
    "\n"
   ]
  },
  {
   "cell_type": "code",
   "execution_count": 45,
   "id": "a2d29deb",
   "metadata": {},
   "outputs": [
    {
     "name": "stdout",
     "output_type": "stream",
     "text": [
      "*** 전체출력 ***\n",
      "100 = 100,냉장고,LG,300,8\n"
     ]
    }
   ],
   "source": [
    "# 제품관리기능- 등록, 검색, 수정, 삭제기능 제공 모듈\n",
    "class ProductManager:\n",
    "    def __init__(self):\n",
    "        # 제품저장할 사전=>생성자에서 인스턴스변수로 생성\n",
    "        self.prd_dicts = dict() \n",
    "    def add(self, prd): # 같은 키인경우 재고량증가.\n",
    "        if prd.cd in self.prd_dicts: # 같은 키 존재\n",
    "            self.prd_dicts[prd.cd].qty += prd.qty # 재고량 증가\n",
    "        else:\n",
    "            self.prd_dicts[prd.cd] = prd        \n",
    "    def printAll(self):\n",
    "        print(\"*** 전체출력 ***\")\n",
    "        for p in self.prd_dicts:\n",
    "            print(f\"{p} = {self.prd_dicts[p]}\")\n",
    "    \n",
    "p_mgr = ProductManager()\n",
    "p = Product(100,\"냉장고\", \"LG\", 300, 5)\n",
    "p_mgr.add( p ) # 제품등록\n",
    "p = Product(100,\"냉장고\", \"LG\", 250, 3)\n",
    "p_mgr.add( p ) # 제품등록\n",
    "p_mgr.printAll() # 등록제품 모두 출력"
   ]
  },
  {
   "cell_type": "code",
   "execution_count": 46,
   "id": "11050b3c",
   "metadata": {},
   "outputs": [
    {
     "name": "stdout",
     "output_type": "stream",
     "text": [
      "*** 전체출력 ***\n",
      "100 = 100,냉장고,LG,300,8\n",
      "200 = 200,세탁기,삼성,100,9\n"
     ]
    }
   ],
   "source": [
    "p = Product(200,\"세탁기\", \"삼성\", 100, 3)\n",
    "p_mgr.add( p ) # 제품등록\n",
    "p = Product(200,\"세탁기\", \"삼성\", 100, 6)\n",
    "p_mgr.add( p ) # 제품등록\n",
    "p_mgr.printAll() # 등록제품 모두 출력"
   ]
  },
  {
   "cell_type": "markdown",
   "id": "520776b1",
   "metadata": {},
   "source": [
    "## ✓ 상속\n",
    "\n",
    "- 장점 : 하위클래에서 코딩량 줄임\n",
    "\n",
    "- 단점 : 원치않는 속성들을 가질 수 있음\n",
    "\n"
   ]
  },
  {
   "cell_type": "code",
   "execution_count": 49,
   "id": "9b45d23a",
   "metadata": {},
   "outputs": [],
   "source": [
    "class Person : #부모 클래스\n",
    "    def __init__(self, name):\n",
    "        self.name = name\n",
    "    def printInfo(self) :\n",
    "        print('name : ', self.name)\n",
    "        \n",
    "class Student(Person) : #자식 클랴스\n",
    "    def __init__(self, name, id_num) : #생성자에 모든 인자 다 쓰기\n",
    "        super().__init__(name) #super() : 자식 클래스에서 부모 클래스 사용\n",
    "        self.id_num = id_num"
   ]
  },
  {
   "cell_type": "code",
   "execution_count": 50,
   "id": "11b34e5c",
   "metadata": {},
   "outputs": [
    {
     "name": "stdout",
     "output_type": "stream",
     "text": [
      "name :  홍길동\n"
     ]
    }
   ],
   "source": [
    "s1 = Student('홍길동', '11213')\n",
    "s1.printInfo() #자식 클래스에서 별도 명시하지 않은 함수들은 자동으로 부모 클래스 것 그대로 사용\n"
   ]
  },
  {
   "cell_type": "code",
   "execution_count": 52,
   "id": "9f14b34b",
   "metadata": {},
   "outputs": [
    {
     "name": "stdout",
     "output_type": "stream",
     "text": [
      "100-홍\n"
     ]
    }
   ],
   "source": [
    "class Person :\n",
    "    pass\n",
    "    def __init__(self, no, name):\n",
    "        self.no = no\n",
    "        self.name = name\n",
    "    def printInfo(self):\n",
    "        print(f\"{self.no}-{self.name}\")\n",
    "        \n",
    "p = Person(100, '홍')\n",
    "p.printInfo()"
   ]
  },
  {
   "cell_type": "code",
   "execution_count": 53,
   "id": "d5a9e5e1",
   "metadata": {},
   "outputs": [
    {
     "name": "stdout",
     "output_type": "stream",
     "text": [
      "200-박\n"
     ]
    }
   ],
   "source": [
    "class Student(Person) : #상속만 받고 추가 안 한 상태\n",
    "    pass\n",
    "\n",
    "s= Student(200, '박')\n",
    "s.printInfo()"
   ]
  },
  {
   "cell_type": "code",
   "execution_count": 56,
   "id": "687e4d9e",
   "metadata": {},
   "outputs": [
    {
     "name": "stdout",
     "output_type": "stream",
     "text": [
      "200-박-컴공\n"
     ]
    }
   ],
   "source": [
    "class Student(Person) : #자식 클래스에 추가해보기\n",
    "    \n",
    "    def __init__(self, no, name, major) : #major 추가!\n",
    "        super().__init__(no, name) #학번, 이름은 부모클래스 (self 안 들어감) \n",
    "        self.major = major\n",
    "  \n",
    "    def printInfo(self):\n",
    "        print(f\"{self.no}-{self.name}-{self.major}\") #학번-이름-학과\n",
    "        #but 비효율적!! -> 나중에 버그의 원인이 됨\n",
    "        \n",
    "    \n",
    "\n",
    "s1 = Student(200, '박', '컴공')#학과 추가\n",
    "s1.printInfo()"
   ]
  },
  {
   "cell_type": "markdown",
   "id": "78f22d8f",
   "metadata": {},
   "source": [
    "##             ⬇️\n",
    "## 💡 이상적 코드(효율)"
   ]
  },
  {
   "cell_type": "code",
   "execution_count": 57,
   "id": "cd4116f4",
   "metadata": {},
   "outputs": [
    {
     "name": "stdout",
     "output_type": "stream",
     "text": [
      "<__main__.Person object at 0x7fd25c195a00>\n"
     ]
    }
   ],
   "source": [
    "class Person :\n",
    "    pass\n",
    "    def __init__(self, no, name):\n",
    "        self.no = no\n",
    "        self.name = name\n",
    "    def __str__(self):\n",
    "        return f\"{self.no}-{self.name}\"\n",
    "        \n",
    "print(p) # print(p.__str__)과 동일!"
   ]
  },
  {
   "cell_type": "code",
   "execution_count": 58,
   "id": "b853b6d7",
   "metadata": {},
   "outputs": [
    {
     "name": "stdout",
     "output_type": "stream",
     "text": [
      "200-박-컴공\n",
      "컴공\n"
     ]
    }
   ],
   "source": [
    "class Student(Person) : #자식 클래스에 추가해보기\n",
    "    \n",
    "    def __init__(self, no, name, major) : #major 추가!\n",
    "        super().__init__(no, name) #학번, 이름은 부모클래스 (self 안 들어감) \n",
    "        self.major = major\n",
    "  \n",
    "    def __str__(self):\n",
    "        return super().__str__() + f\"-{self.major}\" #이상적 코드\n",
    "    \n",
    "\n",
    "s = Student(200, '박', '컴공')#학과 추가\n",
    "print(s)\n",
    "print(s.major)"
   ]
  },
  {
   "cell_type": "markdown",
   "id": "957b77a8",
   "metadata": {},
   "source": [
    "## 💡 연습 문제"
   ]
  },
  {
   "cell_type": "code",
   "execution_count": null,
   "id": "4f9cff30",
   "metadata": {},
   "outputs": [],
   "source": [
    "class Person :\n",
    "    pass\n",
    "    def __init__(self, no, name):\n",
    "        self.no = no\n",
    "        self.name = name\n",
    "    def __str__(self):\n",
    "        return f\"{self.no}-{self.name}\"\n",
    "        \n",
    "print(p) # print(p.__str__)과 동일!"
   ]
  },
  {
   "cell_type": "code",
   "execution_count": 59,
   "id": "bd2c1c46",
   "metadata": {},
   "outputs": [
    {
     "name": "stdout",
     "output_type": "stream",
     "text": [
      "300-최-영업부\n"
     ]
    }
   ],
   "source": [
    "class Emp(Person) : #자식 클래스에 추가해보기\n",
    "    \n",
    "    def __init__(self, no, name, major) : #major 추가!\n",
    "        super().__init__(no, name) #학번, 이름은 부모클래스 (self 안 들어감) \n",
    "        self.major = major\n",
    "  \n",
    "    def __str__(self):\n",
    "        return super().__str__() + f\"-{self.major}\" #이상적 코드\n",
    "    \n",
    "\n",
    "\n",
    "e = Emp(300, '최', '영업부')\n",
    "print(e) # 출력 \"300-최-영업부\" 이렇게 나오도록"
   ]
  },
  {
   "cell_type": "markdown",
   "id": "4af9f0bc",
   "metadata": {},
   "source": [
    "# 🔎 모듈"
   ]
  },
  {
   "cell_type": "code",
   "execution_count": 1,
   "id": "37c83327",
   "metadata": {},
   "outputs": [
    {
     "name": "stdout",
     "output_type": "stream",
     "text": [
      "Overwriting person.py\n"
     ]
    }
   ],
   "source": [
    "%%writefile person.py\n",
    "\n",
    "class Person :\n",
    "    pass\n",
    "    def __init__(self, no, name):\n",
    "        self.no = no\n",
    "        self.name = name\n",
    "    def __str__(self):\n",
    "        return f\"{self.no}-{self.name}\"\n",
    "    \n",
    "    \n",
    "class Student(Person) : #자식 클래스에 추가해보기\n",
    "    \n",
    "    def __init__(self, no, name, major) : #major 추가!\n",
    "        super().__init__(no, name) #학번, 이름은 부모클래스 (self 안 들어감) \n",
    "        self.major = major\n",
    "  \n",
    "    def __str__(self):\n",
    "        return super().__str__() + f\"-{self.major}\" #이상적 코드\n",
    "    \n",
    "    \n",
    "class Emp(Person) : #자식 클래스에 추가해보기\n",
    "    \n",
    "    def __init__(self, no, name, major) : #major 추가!\n",
    "        super().__init__(no, name) #학번, 이름은 부모클래스 (self 안 들어감) \n",
    "        self.major = major\n",
    "  \n",
    "    def __str__(self):\n",
    "        return super().__str__() + f\"-{self.major}\" #이상적 코드    \n",
    "\n",
    "    \n",
    "if __name__ == \"__main__\" : #직접 호출할 때만 메세지 출력!!!, 조건 인 걸았을 때는 import할 때 메세지 출력 됨\n",
    "    print(\"person.__name__\", __name__) \n",
    "    "
   ]
  },
  {
   "cell_type": "code",
   "execution_count": 2,
   "id": "ad626051",
   "metadata": {},
   "outputs": [
    {
     "name": "stdout",
     "output_type": "stream",
     "text": [
      "110-강-수학\n",
      "__name__ __main__\n"
     ]
    }
   ],
   "source": [
    "import person #한 번 import 되면 메모리에서 사라지지 않음 -> 새로 하려면 커널 restart!\n",
    "#무소식이 희소식\n",
    "\n",
    "s1 = person.Student(110, '강', '수학') #person. 하고 tab 누르기\n",
    "print(s1)\n",
    "\n",
    "print(\"__name__\", __name__) #모듈명 출력인데, 직접 실행하면 __main__으로 출력 (테스트하는 거라는 의미)\n",
    "#__name__의 값이 __main__인 경우만 테스트 코드를 실행, 그외엔 테스트 코드 비활성\n",
    "\n",
    "\n",
    "\n"
   ]
  },
  {
   "cell_type": "code",
   "execution_count": 3,
   "id": "96a89fd1",
   "metadata": {},
   "outputs": [
    {
     "name": "stdout",
     "output_type": "stream",
     "text": [
      "110-강-수학\n"
     ]
    }
   ],
   "source": [
    "import person as ps\n",
    "\n",
    "s1 = ps.Student(110, '강', '수학')\n",
    "print(s1)"
   ]
  },
  {
   "cell_type": "code",
   "execution_count": 4,
   "id": "c1ba1e60",
   "metadata": {},
   "outputs": [
    {
     "name": "stdout",
     "output_type": "stream",
     "text": [
      "110-강-수학\n"
     ]
    }
   ],
   "source": [
    "from person import Student #직접 호출\n",
    "\n",
    "s1 = Student(110, '강', '수학')\n",
    "print(s1)"
   ]
  },
  {
   "cell_type": "code",
   "execution_count": 7,
   "id": "aeee2c91",
   "metadata": {},
   "outputs": [
    {
     "name": "stdout",
     "output_type": "stream",
     "text": [
      "110-강-수학\n"
     ]
    }
   ],
   "source": [
    "from person import Student as std\n",
    "\n",
    "s1 = std(110, '강', '수학')\n",
    "print(s1)"
   ]
  },
  {
   "cell_type": "code",
   "execution_count": 8,
   "id": "928057da",
   "metadata": {},
   "outputs": [
    {
     "name": "stdout",
     "output_type": "stream",
     "text": [
      "110-강-수학\n"
     ]
    }
   ],
   "source": [
    "from person import *\n",
    "\n",
    "s1 = Student(110, '강', '수학')\n",
    "print(s1)"
   ]
  },
  {
   "cell_type": "markdown",
   "id": "01376844",
   "metadata": {},
   "source": [
    "■ (1회) 과목 평가 안내\n",
    "\n",
    "* 과목 : 파이썬 기초\n",
    "* 날짜 : 3/8 화요일\n",
    "* 시간 : 16시~16시50분 \n",
    "* 내용 : 3/2 ~ 3/8 사전교육기간 내 \n",
    "  학습한 내용\n",
    "* url : manage.jaen.kr (교육생입장)\n",
    " - ID : 본인 이메일 계정\n",
    " - PW : kb0302\n",
    "\n",
    "[과목 평가 공통사항]\n",
    "\n",
    "※ 과목평가 5회 진행 \n",
    "※ 20문제(객관식&주관식 혼합)\n",
    "※ 60점 커트라인\n",
    "※ 2회 불합격시 바로 퇴소는 아니며\n",
    "   1회 동일과목 재시험 기회 부여"
   ]
  }
 ],
 "metadata": {
  "kernelspec": {
   "display_name": "Python 3 (ipykernel)",
   "language": "python",
   "name": "python3"
  },
  "language_info": {
   "codemirror_mode": {
    "name": "ipython",
    "version": 3
   },
   "file_extension": ".py",
   "mimetype": "text/x-python",
   "name": "python",
   "nbconvert_exporter": "python",
   "pygments_lexer": "ipython3",
   "version": "3.9.7"
  }
 },
 "nbformat": 4,
 "nbformat_minor": 5
}
