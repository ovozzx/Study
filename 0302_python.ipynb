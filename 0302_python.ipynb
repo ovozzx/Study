{
 "cells": [
  {
   "cell_type": "markdown",
   "id": "9ecf0fa4",
   "metadata": {},
   "source": [
    "# 1. 3월 2일 수업: python 기본 문법 강의\n",
    "\n",
    "\n",
    "\n"
   ]
  },
  {
   "cell_type": "markdown",
   "id": "e1cea29c",
   "metadata": {},
   "source": [
    "## - 1) 변수 및 타입"
   ]
  },
  {
   "cell_type": "code",
   "execution_count": 54,
   "id": "79a25ff8",
   "metadata": {},
   "outputs": [],
   "source": [
    "a=5\n",
    "\n",
    "이름 = \"홍길동\"\n"
   ]
  },
  {
   "cell_type": "code",
   "execution_count": 55,
   "id": "85209e2b",
   "metadata": {},
   "outputs": [
    {
     "data": {
      "text/plain": [
       "str"
      ]
     },
     "execution_count": 55,
     "metadata": {},
     "output_type": "execute_result"
    }
   ],
   "source": [
    "type(이름)\n",
    "\n"
   ]
  },
  {
   "cell_type": "code",
   "execution_count": 56,
   "id": "fd413500",
   "metadata": {
    "scrolled": true
   },
   "outputs": [
    {
     "name": "stdout",
     "output_type": "stream",
     "text": [
      "홍길동\n"
     ]
    },
    {
     "data": {
      "text/plain": [
       "'홍길동'"
      ]
     },
     "metadata": {},
     "output_type": "display_data"
    }
   ],
   "source": [
    "print(이름) #일반적인 출력용\n",
    "display(이름) #디버깅\n"
   ]
  },
  {
   "cell_type": "code",
   "execution_count": 7,
   "id": "8206027f",
   "metadata": {},
   "outputs": [
    {
     "name": "stdout",
     "output_type": "stream",
     "text": [
      "10000\n",
      "100000000\n",
      "1000000000000\n",
      "1000000000000000000000000\n"
     ]
    }
   ],
   "source": [
    "C = 10000 #조\n",
    "print(C)\n",
    "C = C*10000 #경\n",
    "print(C)\n",
    "C = C*10000 #해\n",
    "print(C)\n",
    "C = C*C\n",
    "print(C)\n"
   ]
  },
  {
   "cell_type": "code",
   "execution_count": 8,
   "id": "8ae02b17",
   "metadata": {},
   "outputs": [
    {
     "name": "stdout",
     "output_type": "stream",
     "text": [
      "4\n"
     ]
    }
   ],
   "source": [
    "a = 100\n",
    "b = 0b100 #2진수\n",
    "print(b)\n"
   ]
  },
  {
   "cell_type": "code",
   "execution_count": 12,
   "id": "52bd1e53",
   "metadata": {},
   "outputs": [
    {
     "data": {
      "text/plain": [
       "(True, True)"
      ]
     },
     "execution_count": 12,
     "metadata": {},
     "output_type": "execute_result"
    }
   ],
   "source": [
    "bool(-1), bool(\" \") #공백문자\n"
   ]
  },
  {
   "cell_type": "code",
   "execution_count": 15,
   "id": "6cc7e3df",
   "metadata": {},
   "outputs": [
    {
     "data": {
      "text/plain": [
       "(False, False, False, False)"
      ]
     },
     "execution_count": 15,
     "metadata": {},
     "output_type": "execute_result"
    }
   ],
   "source": [
    "bool(\"\"), bool(0), bool(None), bool([]) \n",
    "#값이 없으면 False\n"
   ]
  },
  {
   "cell_type": "markdown",
   "id": "bca96cd7",
   "metadata": {},
   "source": [
    "### ✓문제1 : 년도, 월, 일 추출"
   ]
  },
  {
   "cell_type": "code",
   "execution_count": 24,
   "id": "e73f33a8",
   "metadata": {},
   "outputs": [
    {
     "name": "stdout",
     "output_type": "stream",
     "text": [
      "2020\n",
      "10\n",
      "22\n"
     ]
    }
   ],
   "source": [
    "\n",
    "#작성 날짜 YYYYmmDD\n",
    "\n",
    "dt = 20201022\n",
    "y = dt // 10000\n",
    "print(y)\n",
    "m = dt % 10000 // 100\n",
    "print(m)\n",
    "d = dt % 100\n",
    "print(d)\n",
    "\n",
    "\n",
    "#나머지 -> 몫\n",
    "#필요한 값의 한자리수 앞자리의 크기 만큼 나눠서 나머지 구함-> 그 나머지로 몫을 구함\n"
   ]
  },
  {
   "cell_type": "code",
   "execution_count": 57,
   "id": "8cc18dd3",
   "metadata": {},
   "outputs": [
    {
     "data": {
      "text/plain": [
       "200"
      ]
     },
     "execution_count": 57,
     "metadata": {},
     "output_type": "execute_result"
    }
   ],
   "source": [
    "a = 100\n",
    "a #출력 버퍼(전송전 임시 저장소) 저장\n",
    "b = 200\n",
    "b #출력 버퍼에 저장 ( 이전 버터 덮어씀) --> 따라서 강제 디스플레이 해야 이력이 남음\n"
   ]
  },
  {
   "cell_type": "code",
   "execution_count": 26,
   "id": "88b4bc2f",
   "metadata": {},
   "outputs": [
    {
     "name": "stdout",
     "output_type": "stream",
     "text": [
      "구름에 달가듯 가는 나그네\n"
     ]
    }
   ],
   "source": [
    "poem = \"구름에 {달가듯} 가는 나그네\" #범위 정하고 왼쪽 괄호 하면 자동으로 쌍 만들어짐\n",
    "print(poem)\n"
   ]
  },
  {
   "cell_type": "code",
   "execution_count": 27,
   "id": "ac460237",
   "metadata": {},
   "outputs": [
    {
     "ename": "SyntaxError",
     "evalue": "EOL while scanning string literal (18111502.py, line 1)",
     "output_type": "error",
     "traceback": [
      "\u001b[0;36m  File \u001b[0;32m\"/var/folders/2p/61ycx01j04b6w1pl15b4vcj40000gn/T/ipykernel_1704/18111502.py\"\u001b[0;36m, line \u001b[0;32m1\u001b[0m\n\u001b[0;31m    poem = \"구름에 달가듯 가는 나그네\u001b[0m\n\u001b[0m                          ^\u001b[0m\n\u001b[0;31mSyntaxError\u001b[0m\u001b[0;31m:\u001b[0m EOL while scanning string literal\n"
     ]
    }
   ],
   "source": [
    "poem = \"구름에 달가듯 가는 나그네\n",
    "길은 외줄기\n",
    "남도 삼백리\"\n",
    "print(poem)\n",
    "\n",
    "#에러!\n"
   ]
  },
  {
   "cell_type": "code",
   "execution_count": 28,
   "id": "686dc064",
   "metadata": {},
   "outputs": [
    {
     "name": "stdout",
     "output_type": "stream",
     "text": [
      "구름에 달가듯 가는 나그네\n",
      "길은 외줄기\n",
      "남도 삼백리\n"
     ]
    }
   ],
   "source": [
    "#여러 줄 출력시 \"\"\" ~~~~ \"\"\"\n",
    "poem = \"\"\"구름에 달가듯 가는 나그네\n",
    "길은 외줄기\n",
    "남도 삼백리\"\"\"\n",
    "print(poem)\n"
   ]
  },
  {
   "cell_type": "code",
   "execution_count": 58,
   "id": "c0e372f5",
   "metadata": {},
   "outputs": [],
   "source": [
    "\"\"\"안녕\n",
    "\"\"\"\n",
    "\n",
    "a = 3\n"
   ]
  },
  {
   "cell_type": "markdown",
   "id": "1d2c79bd",
   "metadata": {},
   "source": [
    "## - 2) 인덱싱과 슬라이싱"
   ]
  },
  {
   "cell_type": "code",
   "execution_count": 35,
   "id": "f9c06689",
   "metadata": {},
   "outputs": [
    {
     "data": {
      "text/plain": [
       "'p'"
      ]
     },
     "execution_count": 35,
     "metadata": {},
     "output_type": "execute_result"
    }
   ],
   "source": [
    "\n",
    "\n",
    "'python'[0]\n"
   ]
  },
  {
   "cell_type": "code",
   "execution_count": 39,
   "id": "3eed78d4",
   "metadata": {},
   "outputs": [
    {
     "data": {
      "text/plain": [
       "'on'"
      ]
     },
     "execution_count": 39,
     "metadata": {},
     "output_type": "execute_result"
    }
   ],
   "source": [
    "'python'[-2:]\n",
    "\n"
   ]
  },
  {
   "cell_type": "code",
   "execution_count": 40,
   "id": "d8d9a0e0",
   "metadata": {},
   "outputs": [
    {
     "data": {
      "text/plain": [
       "'yth'"
      ]
     },
     "execution_count": 40,
     "metadata": {},
     "output_type": "execute_result"
    }
   ],
   "source": [
    "\n",
    "'python'[1:4]\n",
    "\n"
   ]
  },
  {
   "cell_type": "code",
   "execution_count": 36,
   "id": "c69d61c6",
   "metadata": {},
   "outputs": [
    {
     "data": {
      "text/plain": [
       "'pto'"
      ]
     },
     "execution_count": 36,
     "metadata": {},
     "output_type": "execute_result"
    }
   ],
   "source": [
    "\n",
    "'python'[0:6:2]\n",
    "\n"
   ]
  },
  {
   "cell_type": "code",
   "execution_count": 37,
   "id": "8a62d569",
   "metadata": {},
   "outputs": [
    {
     "data": {
      "text/plain": [
       "'pto'"
      ]
     },
     "execution_count": 37,
     "metadata": {},
     "output_type": "execute_result"
    }
   ],
   "source": [
    "'python'[0::2]\n",
    "\n"
   ]
  },
  {
   "cell_type": "code",
   "execution_count": 38,
   "id": "25196a58",
   "metadata": {},
   "outputs": [
    {
     "data": {
      "text/plain": [
       "'nohtyp'"
      ]
     },
     "execution_count": 38,
     "metadata": {},
     "output_type": "execute_result"
    }
   ],
   "source": [
    "'python'[::-1]\n",
    "\n"
   ]
  },
  {
   "cell_type": "markdown",
   "id": "e6604a0d",
   "metadata": {},
   "source": [
    "### ✓문제1 : 인덱싱을 사용하여 성별을 나타내는 숫자 출력"
   ]
  },
  {
   "cell_type": "code",
   "execution_count": 41,
   "id": "45888fca",
   "metadata": {},
   "outputs": [
    {
     "data": {
      "text/plain": [
       "'1'"
      ]
     },
     "execution_count": 41,
     "metadata": {},
     "output_type": "execute_result"
    }
   ],
   "source": [
    "\n",
    "'210101-1234567'[7]\n",
    "\n"
   ]
  },
  {
   "cell_type": "markdown",
   "id": "469f655b",
   "metadata": {},
   "source": [
    "### ✓문제2 : 슬라이싱하여 날짜는 date 변수에 날씨는 weather 변수에 저장 후 출력"
   ]
  },
  {
   "cell_type": "code",
   "execution_count": 47,
   "id": "45f39b4f",
   "metadata": {},
   "outputs": [
    {
     "name": "stdout",
     "output_type": "stream",
     "text": [
      "20210101\n",
      "Sunny\n"
     ]
    }
   ],
   "source": [
    "\n",
    "date = '20210101Sunny'[:8]\n",
    "print(date)\n",
    "weather = '20210101Sunny'[8:]\n",
    "print(weather)\n",
    "\n"
   ]
  },
  {
   "cell_type": "code",
   "execution_count": null,
   "id": "0185881d",
   "metadata": {},
   "outputs": [],
   "source": [
    "# %s : 문자열, %d : 정수, %f : 부동소수\n"
   ]
  },
  {
   "cell_type": "code",
   "execution_count": 48,
   "id": "c4be3504",
   "metadata": {},
   "outputs": [
    {
     "data": {
      "text/plain": [
       "'x is 100'"
      ]
     },
     "execution_count": 48,
     "metadata": {},
     "output_type": "execute_result"
    }
   ],
   "source": [
    "a = 100\n",
    "name = \"홍길동\"\n",
    "'x is %s' %a\n"
   ]
  },
  {
   "cell_type": "code",
   "execution_count": 49,
   "id": "d7034ba9",
   "metadata": {},
   "outputs": [
    {
     "data": {
      "text/plain": [
       "'홍길동 is 100'"
      ]
     },
     "execution_count": 49,
     "metadata": {},
     "output_type": "execute_result"
    }
   ],
   "source": [
    "'%s is %s' %(name,a)\n"
   ]
  },
  {
   "cell_type": "code",
   "execution_count": 53,
   "id": "874bfa41",
   "metadata": {},
   "outputs": [
    {
     "data": {
      "text/plain": [
       "'pi=  3.14'"
      ]
     },
     "execution_count": 53,
     "metadata": {},
     "output_type": "execute_result"
    }
   ],
   "source": [
    "pi = 3.141592\n",
    "'pi=%6.2f' %pi\n",
    "\n",
    "#6은 전체 자리수('.' 포함)\n",
    "#.2f -> 해당 숫자 아래 자리에서 반올림\n"
   ]
  },
  {
   "cell_type": "code",
   "execution_count": null,
   "id": "15a948fb",
   "metadata": {},
   "outputs": [],
   "source": []
  }
 ],
 "metadata": {
  "kernelspec": {
   "display_name": "Python 3 (ipykernel)",
   "language": "python",
   "name": "python3"
  },
  "language_info": {
   "codemirror_mode": {
    "name": "ipython",
    "version": 3
   },
   "file_extension": ".py",
   "mimetype": "text/x-python",
   "name": "python",
   "nbconvert_exporter": "python",
   "pygments_lexer": "ipython3",
   "version": "3.9.7"
  }
 },
 "nbformat": 4,
 "nbformat_minor": 5
}
